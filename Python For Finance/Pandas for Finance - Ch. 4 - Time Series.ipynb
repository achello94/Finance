{
 "cells": [
  {
   "cell_type": "markdown",
   "metadata": {},
   "source": [
    "# Chapter 4 - Time Series"
   ]
  },
  {
   "cell_type": "code",
   "execution_count": 81,
   "metadata": {},
   "outputs": [],
   "source": [
    "import numpy as np\n",
    "import pandas as pd\n",
    "import datetime\n",
    "from datetime import datetime\n",
    "import matplotlib.pyplot as plt"
   ]
  },
  {
   "cell_type": "markdown",
   "metadata": {},
   "source": [
    "## DatetimeIndex"
   ]
  },
  {
   "cell_type": "code",
   "execution_count": 64,
   "metadata": {},
   "outputs": [
    {
     "data": {
      "text/plain": [
       "DatetimeIndex(['2014-08-01', '2014-08-02'], dtype='datetime64[ns]', freq=None)"
      ]
     },
     "execution_count": 64,
     "metadata": {},
     "output_type": "execute_result"
    }
   ],
   "source": [
    "#simple set up of dates\n",
    "dates = [datetime(2014, 8, 1), datetime(2014, 8, 2)]\n",
    "dti = pd.DatetimeIndex(dates)\n",
    "dti"
   ]
  },
  {
   "cell_type": "code",
   "execution_count": 65,
   "metadata": {},
   "outputs": [
    {
     "data": {
      "text/plain": [
       "pandas.core.indexes.datetimes.DatetimeIndex"
      ]
     },
     "execution_count": 65,
     "metadata": {},
     "output_type": "execute_result"
    }
   ],
   "source": [
    "#A Series automaticaaly passes a list of dattime object as its index\n",
    "np.random.seed(123456)\n",
    "ts = pd.Series(np.random.randn(2), dates)\n",
    "type(ts.index)"
   ]
  },
  {
   "cell_type": "code",
   "execution_count": 66,
   "metadata": {},
   "outputs": [
    {
     "data": {
      "text/plain": [
       "0.4691122999071863"
      ]
     },
     "execution_count": 66,
     "metadata": {},
     "output_type": "execute_result"
    }
   ],
   "source": [
    "#Series objects take the datetime objects and construct a DatetimeIndex from date values\n",
    "#where each value is a Timetsampo object and ea element can be used to access the corresponding value in Series\n",
    "ts[\"2014-08-01\"]"
   ]
  },
  {
   "cell_type": "code",
   "execution_count": 67,
   "metadata": {},
   "outputs": [
    {
     "data": {
      "text/plain": [
       "DatetimeIndex(['2014-08-01', '2014-08-02', '2014-08-02', 'NaT'], dtype='datetime64[ns]', freq=None)"
      ]
     },
     "execution_count": 67,
     "metadata": {},
     "output_type": "execute_result"
    }
   ],
   "source": [
    "#convert different formatted dates to datetime\n",
    "dti = pd.to_datetime([\"Aug 1, 2014\", \"2014-08-02\" ,\"2014.8.2\", None]) #in bounds with dates\n",
    "dti"
   ]
  },
  {
   "cell_type": "code",
   "execution_count": 68,
   "metadata": {},
   "outputs": [],
   "source": [
    "#to datetime will return default no.array if value not found\n",
    "#dti2 = pd.to_datetime([\"2014-08-01\", \"foo\"], coerce = True)\n",
    "#type(dti2)"
   ]
  },
  {
   "cell_type": "code",
   "execution_count": 95,
   "metadata": {},
   "outputs": [],
   "source": [
    "#to use day first (default is month first)\n",
    "\n",
    "dti2 = pd.to_datetime(\"1/8/2014\", dayfirst = True)"
   ]
  },
  {
   "cell_type": "code",
   "execution_count": 70,
   "metadata": {},
   "outputs": [
    {
     "data": {
      "text/plain": [
       "2014-08-01    0.469112\n",
       "2014-08-02   -0.282863\n",
       "2014-08-03   -1.509059\n",
       "2014-08-04   -1.135632\n",
       "2014-08-05    1.212112\n",
       "Freq: D, dtype: float64"
      ]
     },
     "execution_count": 70,
     "metadata": {},
     "output_type": "execute_result"
    }
   ],
   "source": [
    "#a range of timestamps at a specific frequency\n",
    "np.random.seed(123456)\n",
    "dates = pd.date_range(\"8/1/2014\", periods = 10)\n",
    "s1 = pd.Series(np.random.randn(10), dates) #Series with random values and dates as index\n",
    "s1[:5]"
   ]
  },
  {
   "cell_type": "code",
   "execution_count": 117,
   "metadata": {},
   "outputs": [
    {
     "data": {
      "text/html": [
       "<div>\n",
       "<style scoped>\n",
       "    .dataframe tbody tr th:only-of-type {\n",
       "        vertical-align: middle;\n",
       "    }\n",
       "\n",
       "    .dataframe tbody tr th {\n",
       "        vertical-align: top;\n",
       "    }\n",
       "\n",
       "    .dataframe thead th {\n",
       "        text-align: right;\n",
       "    }\n",
       "</style>\n",
       "<table border=\"1\" class=\"dataframe\">\n",
       "  <thead>\n",
       "    <tr style=\"text-align: right;\">\n",
       "      <th></th>\n",
       "      <th>Open</th>\n",
       "      <th>High</th>\n",
       "      <th>Low</th>\n",
       "      <th>Close</th>\n",
       "      <th>Volume</th>\n",
       "      <th>ExDividend</th>\n",
       "      <th>SplitRatio</th>\n",
       "      <th>AdjOpen</th>\n",
       "      <th>AdjHigh</th>\n",
       "      <th>AdjLow</th>\n",
       "      <th>AdjClose</th>\n",
       "      <th>AdjVolume</th>\n",
       "    </tr>\n",
       "    <tr>\n",
       "      <th>Date</th>\n",
       "      <th></th>\n",
       "      <th></th>\n",
       "      <th></th>\n",
       "      <th></th>\n",
       "      <th></th>\n",
       "      <th></th>\n",
       "      <th></th>\n",
       "      <th></th>\n",
       "      <th></th>\n",
       "      <th></th>\n",
       "      <th></th>\n",
       "      <th></th>\n",
       "    </tr>\n",
       "  </thead>\n",
       "  <tbody>\n",
       "    <tr>\n",
       "      <th>2012-02-02</th>\n",
       "      <td>29.90</td>\n",
       "      <td>30.17</td>\n",
       "      <td>29.71</td>\n",
       "      <td>29.95</td>\n",
       "      <td>52223300.0</td>\n",
       "      <td>0.0</td>\n",
       "      <td>1.0</td>\n",
       "      <td>25.461918</td>\n",
       "      <td>25.691842</td>\n",
       "      <td>25.300120</td>\n",
       "      <td>25.504497</td>\n",
       "      <td>52223300.0</td>\n",
       "    </tr>\n",
       "    <tr>\n",
       "      <th>2012-02-01</th>\n",
       "      <td>29.79</td>\n",
       "      <td>30.05</td>\n",
       "      <td>29.76</td>\n",
       "      <td>29.89</td>\n",
       "      <td>67409900.0</td>\n",
       "      <td>0.0</td>\n",
       "      <td>1.0</td>\n",
       "      <td>25.368246</td>\n",
       "      <td>25.589654</td>\n",
       "      <td>25.342699</td>\n",
       "      <td>25.453403</td>\n",
       "      <td>67409900.0</td>\n",
       "    </tr>\n",
       "    <tr>\n",
       "      <th>2012-01-31</th>\n",
       "      <td>29.66</td>\n",
       "      <td>29.70</td>\n",
       "      <td>29.23</td>\n",
       "      <td>29.53</td>\n",
       "      <td>50572400.0</td>\n",
       "      <td>0.0</td>\n",
       "      <td>1.0</td>\n",
       "      <td>25.257542</td>\n",
       "      <td>25.291604</td>\n",
       "      <td>24.891367</td>\n",
       "      <td>25.146838</td>\n",
       "      <td>50572400.0</td>\n",
       "    </tr>\n",
       "  </tbody>\n",
       "</table>\n",
       "</div>"
      ],
      "text/plain": [
       "             Open   High    Low  Close      Volume  ExDividend  SplitRatio  \\\n",
       "Date                                                                         \n",
       "2012-02-02  29.90  30.17  29.71  29.95  52223300.0         0.0         1.0   \n",
       "2012-02-01  29.79  30.05  29.76  29.89  67409900.0         0.0         1.0   \n",
       "2012-01-31  29.66  29.70  29.23  29.53  50572400.0         0.0         1.0   \n",
       "\n",
       "              AdjOpen    AdjHigh     AdjLow   AdjClose   AdjVolume  \n",
       "Date                                                                \n",
       "2012-02-02  25.461918  25.691842  25.300120  25.504497  52223300.0  \n",
       "2012-02-01  25.368246  25.589654  25.342699  25.453403  67409900.0  \n",
       "2012-01-31  25.257542  25.291604  24.891367  25.146838  50572400.0  "
      ]
     },
     "execution_count": 117,
     "metadata": {},
     "output_type": "execute_result"
    }
   ],
   "source": [
    "import pandas_datareader as web\n",
    "msft = web.DataReader(\"WIKI/MSFT\", \"quandl\", \"2012-1-1\", \"2013-12-30\")\n",
    "msft.tail(3)\n"
   ]
  },
  {
   "cell_type": "code",
   "execution_count": 118,
   "metadata": {},
   "outputs": [
    {
     "data": {
      "text/html": [
       "<div>\n",
       "<style scoped>\n",
       "    .dataframe tbody tr th:only-of-type {\n",
       "        vertical-align: middle;\n",
       "    }\n",
       "\n",
       "    .dataframe tbody tr th {\n",
       "        vertical-align: top;\n",
       "    }\n",
       "\n",
       "    .dataframe thead th {\n",
       "        text-align: right;\n",
       "    }\n",
       "</style>\n",
       "<table border=\"1\" class=\"dataframe\">\n",
       "  <thead>\n",
       "    <tr style=\"text-align: right;\">\n",
       "      <th></th>\n",
       "      <th>Open</th>\n",
       "      <th>High</th>\n",
       "      <th>Low</th>\n",
       "      <th>Close</th>\n",
       "      <th>Volume</th>\n",
       "      <th>ExDividend</th>\n",
       "      <th>SplitRatio</th>\n",
       "      <th>AdjOpen</th>\n",
       "      <th>AdjHigh</th>\n",
       "      <th>AdjLow</th>\n",
       "      <th>AdjClose</th>\n",
       "      <th>AdjVolume</th>\n",
       "    </tr>\n",
       "    <tr>\n",
       "      <th>Date</th>\n",
       "      <th></th>\n",
       "      <th></th>\n",
       "      <th></th>\n",
       "      <th></th>\n",
       "      <th></th>\n",
       "      <th></th>\n",
       "      <th></th>\n",
       "      <th></th>\n",
       "      <th></th>\n",
       "      <th></th>\n",
       "      <th></th>\n",
       "      <th></th>\n",
       "    </tr>\n",
       "  </thead>\n",
       "  <tbody>\n",
       "    <tr>\n",
       "      <th>2012-02-02</th>\n",
       "      <td>29.90</td>\n",
       "      <td>30.17</td>\n",
       "      <td>29.71</td>\n",
       "      <td>29.95</td>\n",
       "      <td>52223300.0</td>\n",
       "      <td>0.0</td>\n",
       "      <td>1.0</td>\n",
       "      <td>25.461918</td>\n",
       "      <td>25.691842</td>\n",
       "      <td>25.300120</td>\n",
       "      <td>25.504497</td>\n",
       "      <td>52223300.0</td>\n",
       "    </tr>\n",
       "    <tr>\n",
       "      <th>2012-02-01</th>\n",
       "      <td>29.79</td>\n",
       "      <td>30.05</td>\n",
       "      <td>29.76</td>\n",
       "      <td>29.89</td>\n",
       "      <td>67409900.0</td>\n",
       "      <td>0.0</td>\n",
       "      <td>1.0</td>\n",
       "      <td>25.368246</td>\n",
       "      <td>25.589654</td>\n",
       "      <td>25.342699</td>\n",
       "      <td>25.453403</td>\n",
       "      <td>67409900.0</td>\n",
       "    </tr>\n",
       "    <tr>\n",
       "      <th>2012-01-31</th>\n",
       "      <td>29.66</td>\n",
       "      <td>29.70</td>\n",
       "      <td>29.23</td>\n",
       "      <td>29.53</td>\n",
       "      <td>50572400.0</td>\n",
       "      <td>0.0</td>\n",
       "      <td>1.0</td>\n",
       "      <td>25.257542</td>\n",
       "      <td>25.291604</td>\n",
       "      <td>24.891367</td>\n",
       "      <td>25.146838</td>\n",
       "      <td>50572400.0</td>\n",
       "    </tr>\n",
       "  </tbody>\n",
       "</table>\n",
       "</div>"
      ],
      "text/plain": [
       "             Open   High    Low  Close      Volume  ExDividend  SplitRatio  \\\n",
       "Date                                                                         \n",
       "2012-02-02  29.90  30.17  29.71  29.95  52223300.0         0.0         1.0   \n",
       "2012-02-01  29.79  30.05  29.76  29.89  67409900.0         0.0         1.0   \n",
       "2012-01-31  29.66  29.70  29.23  29.53  50572400.0         0.0         1.0   \n",
       "\n",
       "              AdjOpen    AdjHigh     AdjLow   AdjClose   AdjVolume  \n",
       "Date                                                                \n",
       "2012-02-02  25.461918  25.691842  25.300120  25.504497  52223300.0  \n",
       "2012-02-01  25.368246  25.589654  25.342699  25.453403  67409900.0  \n",
       "2012-01-31  25.257542  25.291604  24.891367  25.146838  50572400.0  "
      ]
     },
     "execution_count": 118,
     "metadata": {},
     "output_type": "execute_result"
    }
   ],
   "source": [
    "msftAC = msft[\"AdjClose\"] #pandas Series object\n",
    "\n",
    "\"\"\"It goes backwards\"\"\"\n",
    "#slicing of datetimes on a dataframe\n",
    "msft[\"2012-02-02\":\"2012-01-31\"] "
   ]
  },
  {
   "cell_type": "code",
   "execution_count": 110,
   "metadata": {},
   "outputs": [
    {
     "data": {
      "text/html": [
       "<div>\n",
       "<style scoped>\n",
       "    .dataframe tbody tr th:only-of-type {\n",
       "        vertical-align: middle;\n",
       "    }\n",
       "\n",
       "    .dataframe tbody tr th {\n",
       "        vertical-align: top;\n",
       "    }\n",
       "\n",
       "    .dataframe thead th {\n",
       "        text-align: right;\n",
       "    }\n",
       "</style>\n",
       "<table border=\"1\" class=\"dataframe\">\n",
       "  <thead>\n",
       "    <tr style=\"text-align: right;\">\n",
       "      <th></th>\n",
       "      <th>Open</th>\n",
       "      <th>High</th>\n",
       "      <th>Low</th>\n",
       "      <th>Close</th>\n",
       "      <th>Volume</th>\n",
       "      <th>ExDividend</th>\n",
       "      <th>SplitRatio</th>\n",
       "      <th>AdjOpen</th>\n",
       "      <th>AdjHigh</th>\n",
       "      <th>AdjLow</th>\n",
       "      <th>AdjClose</th>\n",
       "      <th>AdjVolume</th>\n",
       "    </tr>\n",
       "    <tr>\n",
       "      <th>Date</th>\n",
       "      <th></th>\n",
       "      <th></th>\n",
       "      <th></th>\n",
       "      <th></th>\n",
       "      <th></th>\n",
       "      <th></th>\n",
       "      <th></th>\n",
       "      <th></th>\n",
       "      <th></th>\n",
       "      <th></th>\n",
       "      <th></th>\n",
       "      <th></th>\n",
       "    </tr>\n",
       "  </thead>\n",
       "  <tbody>\n",
       "    <tr>\n",
       "      <th>2012-01-09</th>\n",
       "      <td>28.05</td>\n",
       "      <td>28.1</td>\n",
       "      <td>27.72</td>\n",
       "      <td>27.74</td>\n",
       "      <td>59706800.0</td>\n",
       "      <td>0.0</td>\n",
       "      <td>1.0</td>\n",
       "      <td>23.886515</td>\n",
       "      <td>23.929094</td>\n",
       "      <td>23.605497</td>\n",
       "      <td>23.622529</td>\n",
       "      <td>59706800.0</td>\n",
       "    </tr>\n",
       "  </tbody>\n",
       "</table>\n",
       "</div>"
      ],
      "text/plain": [
       "             Open  High    Low  Close      Volume  ExDividend  SplitRatio  \\\n",
       "Date                                                                        \n",
       "2012-01-09  28.05  28.1  27.72  27.74  59706800.0         0.0         1.0   \n",
       "\n",
       "              AdjOpen    AdjHigh     AdjLow   AdjClose   AdjVolume  \n",
       "Date                                                                \n",
       "2012-01-09  23.886515  23.929094  23.605497  23.622529  59706800.0  "
      ]
     },
     "execution_count": 110,
     "metadata": {},
     "output_type": "execute_result"
    }
   ],
   "source": [
    "msftAC = msft[\"AdjClose\"] #pandas Series object\n",
    "msft.loc[\"2012-01-09\"]"
   ]
  },
  {
   "cell_type": "markdown",
   "metadata": {},
   "source": [
    "# Creating time-series with specific frequencies"
   ]
  },
  {
   "cell_type": "code",
   "execution_count": 89,
   "metadata": {},
   "outputs": [
    {
     "data": {
      "text/plain": [
       "2014-08-01 00:00:00    0\n",
       "2014-08-01 00:01:00    1\n",
       "2014-08-01 00:02:00    2\n",
       "2014-08-01 00:03:00    3\n",
       "2014-08-01 00:04:00    4\n",
       "Freq: T, dtype: int64"
      ]
     },
     "execution_count": 89,
     "metadata": {},
     "output_type": "execute_result"
    }
   ],
   "source": [
    "#Represent time intervals other than daily frequencies\n",
    "bymin = pd.Series(np.arange(0, 90*60*24), pd.date_range(\"2014-08\", \"2014-10-29 23:59:00\", freq = \"T\"))\n",
    "bymin[:5]"
   ]
  },
  {
   "cell_type": "code",
   "execution_count": 90,
   "metadata": {},
   "outputs": [
    {
     "data": {
      "text/plain": [
       "2014-09-01 12:30:00    45390\n",
       "2014-09-01 12:31:00    45391\n",
       "2014-09-01 12:32:00    45392\n",
       "2014-09-01 12:33:00    45393\n",
       "2014-09-01 12:34:00    45394\n",
       "Freq: T, dtype: int64"
      ]
     },
     "execution_count": 90,
     "metadata": {},
     "output_type": "execute_result"
    }
   ],
   "source": [
    "#slice sepcific frequency time-series\n",
    "bymin[\"2014-09-01 12:30\":\"2014-09-02 12:59\"][:5]"
   ]
  },
  {
   "cell_type": "markdown",
   "metadata": {},
   "source": [
    "# Respresenting intervals of time using periods"
   ]
  },
  {
   "cell_type": "code",
   "execution_count": 91,
   "metadata": {},
   "outputs": [
    {
     "data": {
      "text/plain": [
       "Period('2014-08', 'M')"
      ]
     },
     "execution_count": 91,
     "metadata": {},
     "output_type": "execute_result"
    }
   ],
   "source": [
    "\"\"\"\"bounded interval: Periods object = start time (anchor), frequency --> create the end date \"\"\"\n",
    "#Create a period respresenting a 1-m period anchored to aug2014\n",
    "aug2014 = pd.Period(\"2014-08\", freq = \"M\")\n",
    "aug2014"
   ]
  },
  {
   "cell_type": "code",
   "execution_count": 74,
   "metadata": {},
   "outputs": [
    {
     "data": {
      "text/plain": [
       "(Timestamp('2014-08-01 00:00:00'), Timestamp('2014-08-31 23:59:59.999999999'))"
      ]
     },
     "execution_count": 74,
     "metadata": {},
     "output_type": "execute_result"
    }
   ],
   "source": [
    "#Start and end properties\n",
    "aug2014.start_time, aug2014.end_time"
   ]
  },
  {
   "cell_type": "code",
   "execution_count": 75,
   "metadata": {},
   "outputs": [
    {
     "data": {
      "text/plain": [
       "(Timestamp('2014-09-01 00:00:00'), Timestamp('2014-09-30 23:59:59.999999999'))"
      ]
     },
     "execution_count": 75,
     "metadata": {},
     "output_type": "execute_result"
    }
   ],
   "source": [
    "#calculate different periods using mathematical operations\n",
    "sep2014 = aug2014 + 1\n",
    "sep2014\n",
    "sep2014.start_time, sep2014.end_time"
   ]
  },
  {
   "cell_type": "code",
   "execution_count": 76,
   "metadata": {},
   "outputs": [
    {
     "data": {
      "text/plain": [
       "PeriodIndex(['2013-01', '2013-02', '2013-03', '2013-04', '2013-05', '2013-06',\n",
       "             '2013-07', '2013-08', '2013-09', '2013-10', '2013-11', '2013-12'],\n",
       "            dtype='period[M]', freq='M')"
      ]
     },
     "execution_count": 76,
     "metadata": {},
     "output_type": "execute_result"
    }
   ],
   "source": [
    "#PeriodIndex = combined period objects into a collection\n",
    "mp2013 = pd.period_range(\"1/1/2013\", \"12/31/2013\", freq = \"M\")\n",
    "mp2013"
   ]
  },
  {
   "cell_type": "code",
   "execution_count": 77,
   "metadata": {},
   "outputs": [
    {
     "name": "stdout",
     "output_type": "stream",
     "text": [
      "2013-01<MonthEnd>2013-01-01 00:00:002013-01-31 23:59:59.999999999\n",
      "2013-02<MonthEnd>2013-02-01 00:00:002013-02-28 23:59:59.999999999\n",
      "2013-03<MonthEnd>2013-03-01 00:00:002013-03-31 23:59:59.999999999\n",
      "2013-04<MonthEnd>2013-04-01 00:00:002013-04-30 23:59:59.999999999\n",
      "2013-05<MonthEnd>2013-05-01 00:00:002013-05-31 23:59:59.999999999\n",
      "2013-06<MonthEnd>2013-06-01 00:00:002013-06-30 23:59:59.999999999\n",
      "2013-07<MonthEnd>2013-07-01 00:00:002013-07-31 23:59:59.999999999\n",
      "2013-08<MonthEnd>2013-08-01 00:00:002013-08-31 23:59:59.999999999\n",
      "2013-09<MonthEnd>2013-09-01 00:00:002013-09-30 23:59:59.999999999\n",
      "2013-10<MonthEnd>2013-10-01 00:00:002013-10-31 23:59:59.999999999\n",
      "2013-11<MonthEnd>2013-11-01 00:00:002013-11-30 23:59:59.999999999\n",
      "2013-12<MonthEnd>2013-12-01 00:00:002013-12-31 23:59:59.999999999\n"
     ]
    }
   ],
   "source": [
    "#PeriodIndex = The index labels are a period, DatetimeIndex = not a period\n",
    "for p in mp2013:\n",
    "    print(\"{0}{1}{2}{3}\".format(p,p.freq, p.start_time, p.end_time))\n"
   ]
  },
  {
   "cell_type": "code",
   "execution_count": 78,
   "metadata": {},
   "outputs": [
    {
     "data": {
      "text/plain": [
       "2013-01    0.469112\n",
       "2013-02   -0.282863\n",
       "2013-03   -1.509059\n",
       "2013-04   -1.135632\n",
       "2013-05    1.212112\n",
       "2013-06   -0.173215\n",
       "2013-07    0.119209\n",
       "2013-08   -1.044236\n",
       "2013-09   -0.861849\n",
       "2013-10   -2.104569\n",
       "2013-11   -0.494929\n",
       "2013-12    1.071804\n",
       "Freq: M, dtype: float64"
      ]
     },
     "execution_count": 78,
     "metadata": {},
     "output_type": "execute_result"
    }
   ],
   "source": [
    "#Construct a Series using the PeriodIndex as the index \n",
    "\"\"\"Time-series => index = measurement tht spans a period of time rather than just a specific time.\"\"\"\n",
    "np.random.seed(123456)\n",
    "ps = pd.Series(np.random.randn(12), mp2013)\n",
    "ps"
   ]
  },
  {
   "cell_type": "markdown",
   "metadata": {},
   "source": [
    "# Shifting and Lagging time-series data"
   ]
  },
  {
   "cell_type": "code",
   "execution_count": 79,
   "metadata": {},
   "outputs": [
    {
     "data": {
      "text/plain": [
       "Date\n",
       "2013-12-30          NaN\n",
       "2013-12-27    33.650110\n",
       "2013-12-26    33.650110\n",
       "2013-12-24    33.785469\n",
       "2013-12-23    33.460608\n",
       "Name: AdjClose, dtype: float64"
      ]
     },
     "execution_count": 79,
     "metadata": {},
     "output_type": "execute_result"
    }
   ],
   "source": [
    "\"\"\"Lag values back or forward such as to calculate percentage change from sample to sample\"\"\"\n",
    "#Shift adjusted close price forward by 1 day\n",
    "shifted_forward = msftAC.shift(1)\n",
    "shifted_forward[:5]"
   ]
  },
  {
   "cell_type": "code",
   "execution_count": 120,
   "metadata": {},
   "outputs": [
    {
     "data": {
      "text/plain": [
       "(Date\n",
       " 2012-01-05    23.571435\n",
       " 2012-01-04    23.332995\n",
       " 2012-01-03    22.792249\n",
       " Name: AdjClose, dtype: float64, Date\n",
       " 2012-01-09    23.707686\n",
       " 2012-01-06    23.622529\n",
       " 2012-01-05    23.933352\n",
       " 2012-01-04    23.571435\n",
       " 2012-01-03    23.332995\n",
       " Name: AdjClose, dtype: float64)"
      ]
     },
     "execution_count": 120,
     "metadata": {},
     "output_type": "execute_result"
    }
   ],
   "source": [
    "#Shift forward tail it results in the loss of one or two end values\n",
    "msftAC.tail(3), shifted_forward.tail(5)"
   ]
  },
  {
   "cell_type": "code",
   "execution_count": 129,
   "metadata": {},
   "outputs": [
    {
     "data": {
      "text/plain": [
       "Date\n",
       "2013-12-30    33.785469\n",
       "2013-12-27    33.460608\n",
       "2013-12-26    33.045509\n",
       "2013-12-24    33.207939\n",
       "2013-12-23    32.711625\n",
       "Name: AdjClose, dtype: float64"
      ]
     },
     "execution_count": 129,
     "metadata": {},
     "output_type": "execute_result"
    }
   ],
   "source": [
    "#Shift values in opposite direction\n",
    "shifted_backwards = msftAC.shift(-2)\n",
    "shifted_backwards[:5]"
   ]
  },
  {
   "cell_type": "code",
   "execution_count": 130,
   "metadata": {},
   "outputs": [
    {
     "data": {
      "text/plain": [
       "Date\n",
       "2012-01-09    23.571435\n",
       "2012-01-06    23.332995\n",
       "2012-01-05    22.792249\n",
       "2012-01-04          NaN\n",
       "2012-01-03          NaN\n",
       "Name: AdjClose, dtype: float64"
      ]
     },
     "execution_count": 130,
     "metadata": {},
     "output_type": "execute_result"
    }
   ],
   "source": [
    "#result is 2 NaN values at the tail\n",
    "shifted_backwards.tail()"
   ]
  },
  {
   "cell_type": "code",
   "execution_count": 131,
   "metadata": {},
   "outputs": [
    {
     "data": {
      "text/plain": [
       "Date\n",
       "2013-12-30 00:00:01    33.650110\n",
       "2013-12-27 00:00:01    33.650110\n",
       "2013-12-26 00:00:01    33.785469\n",
       "2013-12-24 00:00:01    33.460608\n",
       "2013-12-23 00:00:01    33.045509\n",
       "2013-12-20 00:00:01    33.207939\n",
       "2013-12-19 00:00:01    32.711625\n",
       "2013-12-18 00:00:01    33.009414\n",
       "2013-12-17 00:00:01    32.955270\n",
       "2013-12-16 00:00:01    33.284642\n",
       "2013-12-13 00:00:01    33.108676\n",
       "2013-12-12 00:00:01    33.586943\n",
       "2013-12-11 00:00:01    33.938875\n",
       "2013-12-10 00:00:01    34.390070\n",
       "2013-12-09 00:00:01    34.926992\n",
       "2013-12-06 00:00:01    34.615667\n",
       "2013-12-05 00:00:01    34.290807\n",
       "2013-12-04 00:00:01    35.139053\n",
       "2013-12-03 00:00:01    34.570548\n",
       "2013-12-02 00:00:01    34.696882\n",
       "2013-11-29 00:00:01    34.408117\n",
       "2013-11-27 00:00:01    33.929851\n",
       "2013-11-26 00:00:01    33.704254\n",
       "2013-11-25 00:00:01    33.965947\n",
       "2013-11-22 00:00:01    33.902779\n",
       "2013-11-21 00:00:01    33.749373\n",
       "2013-11-20 00:00:01    33.460608\n",
       "2013-11-19 00:00:01    33.153796\n",
       "2013-11-18 00:00:01    33.314997\n",
       "2013-11-15 00:00:01    33.889054\n",
       "                         ...    \n",
       "2012-02-14 00:00:01    25.930281\n",
       "2012-02-13 00:00:01    26.040985\n",
       "2012-02-10 00:00:01    25.968602\n",
       "2012-02-09 00:00:01    26.202783\n",
       "2012-02-08 00:00:01    26.109111\n",
       "2012-02-07 00:00:01    25.845124\n",
       "2012-02-06 00:00:01    25.717389\n",
       "2012-02-03 00:00:01    25.751452\n",
       "2012-02-02 00:00:01    25.504497\n",
       "2012-02-01 00:00:01    25.453403\n",
       "2012-01-31 00:00:01    25.146838\n",
       "2012-01-30 00:00:01    25.214963\n",
       "2012-01-27 00:00:01    24.891367\n",
       "2012-01-26 00:00:01    25.121291\n",
       "2012-01-25 00:00:01    25.172385\n",
       "2012-01-24 00:00:01    24.985040\n",
       "2012-01-23 00:00:01    25.317152\n",
       "2012-01-20 00:00:01    25.300120\n",
       "2012-01-19 00:00:01    23.946125\n",
       "2012-01-18 00:00:01    24.039798\n",
       "2012-01-17 00:00:01    24.061087\n",
       "2012-01-13 00:00:01    24.056829\n",
       "2012-01-12 00:00:01    23.843937\n",
       "2012-01-11 00:00:01    23.605497\n",
       "2012-01-10 00:00:01    23.707686\n",
       "2012-01-09 00:00:01    23.622529\n",
       "2012-01-06 00:00:01    23.933352\n",
       "2012-01-05 00:00:01    23.571435\n",
       "2012-01-04 00:00:01    23.332995\n",
       "2012-01-03 00:00:01    22.792249\n",
       "Name: AdjClose, Length: 501, dtype: float64"
      ]
     },
     "execution_count": 131,
     "metadata": {},
     "output_type": "execute_result"
    }
   ],
   "source": [
    "#Shift by different frequencies\n",
    "#1 day per one second\n",
    "msftAC.shift(1, freq = \"S\")"
   ]
  },
  {
   "cell_type": "code",
   "execution_count": 132,
   "metadata": {},
   "outputs": [
    {
     "data": {
      "text/plain": [
       "Date\n",
       "2013-12-31    33.650110\n",
       "2013-12-28    33.650110\n",
       "2013-12-27    33.785469\n",
       "2013-12-25    33.460608\n",
       "2013-12-24    33.045509\n",
       "2013-12-21    33.207939\n",
       "2013-12-20    32.711625\n",
       "2013-12-19    33.009414\n",
       "2013-12-18    32.955270\n",
       "2013-12-17    33.284642\n",
       "2013-12-14    33.108676\n",
       "2013-12-13    33.586943\n",
       "2013-12-12    33.938875\n",
       "2013-12-11    34.390070\n",
       "2013-12-10    34.926992\n",
       "2013-12-07    34.615667\n",
       "2013-12-06    34.290807\n",
       "2013-12-05    35.139053\n",
       "2013-12-04    34.570548\n",
       "2013-12-03    34.696882\n",
       "2013-11-30    34.408117\n",
       "2013-11-28    33.929851\n",
       "2013-11-27    33.704254\n",
       "2013-11-26    33.965947\n",
       "2013-11-23    33.902779\n",
       "2013-11-22    33.749373\n",
       "2013-11-21    33.460608\n",
       "2013-11-20    33.153796\n",
       "2013-11-19    33.314997\n",
       "2013-11-16    33.889054\n",
       "                ...    \n",
       "2012-02-15    25.930281\n",
       "2012-02-14    26.040985\n",
       "2012-02-11    25.968602\n",
       "2012-02-10    26.202783\n",
       "2012-02-09    26.109111\n",
       "2012-02-08    25.845124\n",
       "2012-02-07    25.717389\n",
       "2012-02-04    25.751452\n",
       "2012-02-03    25.504497\n",
       "2012-02-02    25.453403\n",
       "2012-02-01    25.146838\n",
       "2012-01-31    25.214963\n",
       "2012-01-28    24.891367\n",
       "2012-01-27    25.121291\n",
       "2012-01-26    25.172385\n",
       "2012-01-25    24.985040\n",
       "2012-01-24    25.317152\n",
       "2012-01-21    25.300120\n",
       "2012-01-20    23.946125\n",
       "2012-01-19    24.039798\n",
       "2012-01-18    24.061087\n",
       "2012-01-14    24.056829\n",
       "2012-01-13    23.843937\n",
       "2012-01-12    23.605497\n",
       "2012-01-11    23.707686\n",
       "2012-01-10    23.622529\n",
       "2012-01-07    23.933352\n",
       "2012-01-06    23.571435\n",
       "2012-01-05    23.332995\n",
       "2012-01-04    22.792249\n",
       "Name: AdjClose, Length: 501, dtype: float64"
      ]
     },
     "execution_count": 132,
     "metadata": {},
     "output_type": "execute_result"
    }
   ],
   "source": [
    "#TSHIFT: instead of changing the alignment of the data --> new df values of index are changed\n",
    "#by the n of offsets of the value of the freq param\n",
    "msftAC.shift(1, freq = \"D\")"
   ]
  },
  {
   "cell_type": "code",
   "execution_count": 134,
   "metadata": {},
   "outputs": [
    {
     "data": {
      "text/plain": [
       "Date\n",
       "2013-12-30         NaN\n",
       "2013-12-27    0.000000\n",
       "2013-12-26    0.004023\n",
       "2013-12-24   -0.009615\n",
       "2013-12-23   -0.012406\n",
       "2013-12-20    0.004915\n",
       "2013-12-19   -0.014946\n",
       "2013-12-18    0.009103\n",
       "2013-12-17   -0.001640\n",
       "2013-12-16    0.009995\n",
       "2013-12-13   -0.005287\n",
       "2013-12-12    0.014445\n",
       "2013-12-11    0.010478\n",
       "2013-12-10    0.013294\n",
       "2013-12-09    0.015613\n",
       "2013-12-06   -0.008914\n",
       "2013-12-05   -0.009385\n",
       "2013-12-04    0.024737\n",
       "2013-12-03   -0.016179\n",
       "2013-12-02    0.003654\n",
       "2013-11-29   -0.008322\n",
       "2013-11-27   -0.013900\n",
       "2013-11-26   -0.006649\n",
       "2013-11-25    0.007764\n",
       "2013-11-22   -0.001860\n",
       "2013-11-21   -0.004525\n",
       "2013-11-20   -0.008556\n",
       "2013-11-19   -0.009169\n",
       "2013-11-18    0.004862\n",
       "2013-11-15    0.017231\n",
       "                ...   \n",
       "2012-02-14    0.006656\n",
       "2012-02-13    0.004269\n",
       "2012-02-10   -0.002780\n",
       "2012-02-09    0.009018\n",
       "2012-02-08   -0.003575\n",
       "2012-02-07   -0.010111\n",
       "2012-02-06   -0.004942\n",
       "2012-02-03    0.001325\n",
       "2012-02-02   -0.009590\n",
       "2012-02-01   -0.002003\n",
       "2012-01-31   -0.012044\n",
       "2012-01-30    0.002709\n",
       "2012-01-27   -0.012834\n",
       "2012-01-26    0.009237\n",
       "2012-01-25    0.002034\n",
       "2012-01-24   -0.007442\n",
       "2012-01-23    0.013292\n",
       "2012-01-20   -0.000673\n",
       "2012-01-19   -0.053517\n",
       "2012-01-18    0.003912\n",
       "2012-01-17    0.000886\n",
       "2012-01-13   -0.000177\n",
       "2012-01-12   -0.008850\n",
       "2012-01-11   -0.010000\n",
       "2012-01-10    0.004329\n",
       "2012-01-09   -0.003592\n",
       "2012-01-06    0.013158\n",
       "2012-01-05   -0.015122\n",
       "2012-01-04   -0.010116\n",
       "2012-01-03   -0.023175\n",
       "Name: AdjClose, Length: 501, dtype: float64"
      ]
     },
     "execution_count": 134,
     "metadata": {},
     "output_type": "execute_result"
    }
   ],
   "source": [
    "\"\"\"Calculation of daily percentage changes from the previous day (day-to-day perc change of AC)\"\"\"\n",
    "#i.e. Return (Pt/Pt=1) - 1\n",
    "msftAC/msftAC.shift(1) - 1"
   ]
  },
  {
   "cell_type": "markdown",
   "metadata": {},
   "source": [
    "# Frequency Conversion of time-series data"
   ]
  },
  {
   "cell_type": "code",
   "execution_count": 145,
   "metadata": {},
   "outputs": [
    {
     "data": {
      "text/plain": [
       "Date\n",
       "2013-12-30    33.65011\n",
       "2013-12-27    33.65011\n",
       "Name: AdjClose, dtype: float64"
      ]
     },
     "execution_count": 145,
     "metadata": {},
     "output_type": "execute_result"
    }
   ],
   "source": [
    "#Convert frequency of data\n",
    "sample = msftAC[:2]\n",
    "#resample to have hourly sampling in between index labels\n",
    "sample"
   ]
  },
  {
   "cell_type": "code",
   "execution_count": 146,
   "metadata": {},
   "outputs": [
    {
     "data": {
      "text/plain": [
       "Series([], Freq: H, Name: AdjClose, dtype: float64)"
      ]
     },
     "execution_count": 146,
     "metadata": {},
     "output_type": "execute_result"
    }
   ],
   "source": [
    "#resample to have hourly sampling in between index labels\n",
    "sample.asfreq(\"H\")\n",
    "#but between the hours there are NaNs so fill with ffill or bfill\n",
    "sample.asfreq(\"H\", method =\"ffill\")"
   ]
  },
  {
   "cell_type": "markdown",
   "metadata": {},
   "source": [
    "# Resampling of time-series"
   ]
  },
  {
   "cell_type": "code",
   "execution_count": 149,
   "metadata": {},
   "outputs": [
    {
     "data": {
      "text/plain": [
       "Date\n",
       "2013-12-30         NaN\n",
       "2013-12-27    1.000000\n",
       "2013-12-26    1.004023\n",
       "2013-12-24    0.994368\n",
       "2013-12-23    0.982033\n",
       "Name: AdjClose, dtype: float64"
      ]
     },
     "execution_count": 149,
     "metadata": {},
     "output_type": "execute_result"
    }
   ],
   "source": [
    "\"\"\"Calculate daily cumulative returns for MSFT stock over 2012, 2013 and resample it to monthly frequency.\"\"\"\n",
    "#Cumulative dailt return:\n",
    "msft_cum_ret = (1 + (msftAC/msftAC.shift() - 1)).cumprod()\n",
    "msft_cum_ret[:5]"
   ]
  },
  {
   "cell_type": "code",
   "execution_count": 152,
   "metadata": {},
   "outputs": [
    {
     "name": "stderr",
     "output_type": "stream",
     "text": [
      "/anaconda3/lib/python3.6/site-packages/ipykernel_launcher.py:3: FutureWarning: \n",
      ".resample() is now a deferred operation\n",
      "You called __getitem__(...) on this deferred object which materialized it into a series\n",
      "by implicitly taking the mean.  Use .resample(...).mean() instead\n",
      "  This is separate from the ipykernel package so we can avoid doing imports until\n"
     ]
    },
    {
     "data": {
      "text/plain": [
       "Date\n",
       "2012-01-31    0.721636\n",
       "2012-02-29    0.782935\n",
       "2012-03-31    0.820109\n",
       "Freq: M, Name: AdjClose, dtype: float64"
      ]
     },
     "execution_count": 152,
     "metadata": {},
     "output_type": "execute_result"
    }
   ],
   "source": [
    "#Downsampling daily cum rets from d2d to m2m\n",
    "msft_monthly_cum_ret = msft_cum_ret.resample(\"M\")\n",
    "msft_monthly_cum_ret[:3]"
   ]
  },
  {
   "cell_type": "code",
   "execution_count": 153,
   "metadata": {},
   "outputs": [
    {
     "name": "stderr",
     "output_type": "stream",
     "text": [
      "/anaconda3/lib/python3.6/site-packages/ipykernel_launcher.py:2: FutureWarning: how in .resample() is deprecated\n",
      "the new syntax is .resample(...).mean()\n",
      "  \n"
     ]
    },
    {
     "data": {
      "text/plain": [
       "Date\n",
       "2013-12-30         NaN\n",
       "2013-12-27    1.000000\n",
       "2013-12-26    1.004023\n",
       "2013-12-24    0.994368\n",
       "2013-12-23    0.982033\n",
       "Name: AdjClose, dtype: float64"
      ]
     },
     "execution_count": 153,
     "metadata": {},
     "output_type": "execute_result"
    }
   ],
   "source": [
    "#Resample by mean\n",
    "msft_cum_ret.resample(\"M\", how = \"mean\")\n",
    "msft_cum_ret[:5]"
   ]
  },
  {
   "cell_type": "code",
   "execution_count": 154,
   "metadata": {},
   "outputs": [
    {
     "name": "stderr",
     "output_type": "stream",
     "text": [
      "/anaconda3/lib/python3.6/site-packages/ipykernel_launcher.py:2: FutureWarning: how in .resample() is deprecated\n",
      "the new syntax is .resample(...).ohlc()\n",
      "  \n"
     ]
    },
    {
     "data": {
      "text/html": [
       "<div>\n",
       "<style scoped>\n",
       "    .dataframe tbody tr th:only-of-type {\n",
       "        vertical-align: middle;\n",
       "    }\n",
       "\n",
       "    .dataframe tbody tr th {\n",
       "        vertical-align: top;\n",
       "    }\n",
       "\n",
       "    .dataframe thead th {\n",
       "        text-align: right;\n",
       "    }\n",
       "</style>\n",
       "<table border=\"1\" class=\"dataframe\">\n",
       "  <thead>\n",
       "    <tr style=\"text-align: right;\">\n",
       "      <th></th>\n",
       "      <th>open</th>\n",
       "      <th>high</th>\n",
       "      <th>low</th>\n",
       "      <th>close</th>\n",
       "    </tr>\n",
       "    <tr>\n",
       "      <th>Date</th>\n",
       "      <th></th>\n",
       "      <th></th>\n",
       "      <th></th>\n",
       "      <th></th>\n",
       "    </tr>\n",
       "  </thead>\n",
       "  <tbody>\n",
       "    <tr>\n",
       "      <th>2012-01-31</th>\n",
       "      <td>0.677331</td>\n",
       "      <td>0.752365</td>\n",
       "      <td>0.677331</td>\n",
       "      <td>0.747303</td>\n",
       "    </tr>\n",
       "    <tr>\n",
       "      <th>2012-02-29</th>\n",
       "      <td>0.756414</td>\n",
       "      <td>0.811853</td>\n",
       "      <td>0.756414</td>\n",
       "      <td>0.808541</td>\n",
       "    </tr>\n",
       "    <tr>\n",
       "      <th>2012-03-31</th>\n",
       "      <td>0.822552</td>\n",
       "      <td>0.836817</td>\n",
       "      <td>0.803829</td>\n",
       "      <td>0.821660</td>\n",
       "    </tr>\n",
       "    <tr>\n",
       "      <th>2012-04-30</th>\n",
       "      <td>0.822552</td>\n",
       "      <td>0.825864</td>\n",
       "      <td>0.773005</td>\n",
       "      <td>0.815547</td>\n",
       "    </tr>\n",
       "    <tr>\n",
       "      <th>2012-05-31</th>\n",
       "      <td>0.815419</td>\n",
       "      <td>0.815419</td>\n",
       "      <td>0.745172</td>\n",
       "      <td>0.748506</td>\n",
       "    </tr>\n",
       "  </tbody>\n",
       "</table>\n",
       "</div>"
      ],
      "text/plain": [
       "                open      high       low     close\n",
       "Date                                              \n",
       "2012-01-31  0.677331  0.752365  0.677331  0.747303\n",
       "2012-02-29  0.756414  0.811853  0.756414  0.808541\n",
       "2012-03-31  0.822552  0.836817  0.803829  0.821660\n",
       "2012-04-30  0.822552  0.825864  0.773005  0.815547\n",
       "2012-05-31  0.815419  0.815419  0.745172  0.748506"
      ]
     },
     "execution_count": 154,
     "metadata": {},
     "output_type": "execute_result"
    }
   ],
   "source": [
    "#Resample by OHLC\n",
    "msft_cum_ret.resample(\"M\", how = \"ohlc\")[:5]"
   ]
  },
  {
   "cell_type": "code",
   "execution_count": 156,
   "metadata": {},
   "outputs": [
    {
     "name": "stdout",
     "output_type": "stream",
     "text": [
      "2012-01-01 00:00:00:2012-01 2012-01-31 23:59:59.999999999\n",
      "2012-02-01 00:00:00:2012-02 2012-02-29 23:59:59.999999999\n",
      "2012-03-01 00:00:00:2012-03 2012-03-31 23:59:59.999999999\n",
      "2012-04-01 00:00:00:2012-04 2012-04-30 23:59:59.999999999\n",
      "2012-05-01 00:00:00:2012-05 2012-05-31 23:59:59.999999999\n"
     ]
    },
    {
     "name": "stderr",
     "output_type": "stream",
     "text": [
      "/anaconda3/lib/python3.6/site-packages/ipykernel_launcher.py:3: FutureWarning: how in .resample() is deprecated\n",
      "the new syntax is .resample(...).mean()\n",
      "  This is separate from the ipykernel package so we can avoid doing imports until\n"
     ]
    }
   ],
   "source": [
    "#The type of index from a resampling is controlled by the kind parameterd set to; a) timestamp, default, b) period\n",
    "#return an index based on periods:\n",
    "by_periods = msft_cum_ret.resample(\"M\", how = \"mean\", kind = \"period\")\n",
    "\n",
    "for i in by_periods.index[:5]:\n",
    "    print(\"{0}:{1} {2}\".format(i.start_time, i, i.end_time, by_periods[i]))"
   ]
  },
  {
   "cell_type": "code",
   "execution_count": 157,
   "metadata": {},
   "outputs": [
    {
     "data": {
      "text/plain": [
       "Date\n",
       "2013-12-27    1.000000\n",
       "2013-12-26    1.004023\n",
       "Name: AdjClose, dtype: float64"
      ]
     },
     "execution_count": 157,
     "metadata": {},
     "output_type": "execute_result"
    }
   ],
   "source": [
    "#Unsampling\n",
    "sample = msft_cum_ret[1:3]\n",
    "sample"
   ]
  },
  {
   "cell_type": "code",
   "execution_count": 158,
   "metadata": {},
   "outputs": [
    {
     "data": {
      "text/plain": [
       "DatetimeIndexResampler [freq=<Hour>, axis=0, closed=left, label=left, convention=start, base=0]"
      ]
     },
     "execution_count": 158,
     "metadata": {},
     "output_type": "execute_result"
    }
   ],
   "source": [
    "#Upsample by hour\n",
    "by_hour = sample.resample(\"H\")\n",
    "by_hour\n",
    "#buy so many NaNs"
   ]
  },
  {
   "cell_type": "code",
   "execution_count": 159,
   "metadata": {},
   "outputs": [
    {
     "data": {
      "text/plain": [
       "Date\n",
       "2013-12-26 00:00:00    1.004023\n",
       "2013-12-26 01:00:00    1.003855\n",
       "2013-12-26 02:00:00    1.003687\n",
       "2013-12-26 03:00:00    1.003520\n",
       "2013-12-26 04:00:00    1.003352\n",
       "2013-12-26 05:00:00    1.003184\n",
       "2013-12-26 06:00:00    1.003017\n",
       "2013-12-26 07:00:00    1.002849\n",
       "2013-12-26 08:00:00    1.002682\n",
       "2013-12-26 09:00:00    1.002514\n",
       "2013-12-26 10:00:00    1.002346\n",
       "2013-12-26 11:00:00    1.002179\n",
       "2013-12-26 12:00:00    1.002011\n",
       "2013-12-26 13:00:00    1.001844\n",
       "2013-12-26 14:00:00    1.001676\n",
       "2013-12-26 15:00:00    1.001508\n",
       "2013-12-26 16:00:00    1.001341\n",
       "2013-12-26 17:00:00    1.001173\n",
       "2013-12-26 18:00:00    1.001006\n",
       "2013-12-26 19:00:00    1.000838\n",
       "2013-12-26 20:00:00    1.000670\n",
       "2013-12-26 21:00:00    1.000503\n",
       "2013-12-26 22:00:00    1.000335\n",
       "2013-12-26 23:00:00    1.000168\n",
       "2013-12-27 00:00:00    1.000000\n",
       "Freq: H, Name: AdjClose, dtype: float64"
      ]
     },
     "execution_count": 159,
     "metadata": {},
     "output_type": "execute_result"
    }
   ],
   "source": [
    "#Use ffill or bfill or interpolate\n",
    "by_hour.interpolate()"
   ]
  }
 ],
 "metadata": {
  "kernelspec": {
   "display_name": "Python 3",
   "language": "python",
   "name": "python3"
  },
  "language_info": {
   "codemirror_mode": {
    "name": "ipython",
    "version": 3
   },
   "file_extension": ".py",
   "mimetype": "text/x-python",
   "name": "python",
   "nbconvert_exporter": "python",
   "pygments_lexer": "ipython3",
   "version": "3.7.3"
  }
 },
 "nbformat": 4,
 "nbformat_minor": 2
}

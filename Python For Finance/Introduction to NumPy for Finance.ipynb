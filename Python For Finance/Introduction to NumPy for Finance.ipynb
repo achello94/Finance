{
 "cells": [
  {
   "cell_type": "markdown",
   "metadata": {},
   "source": [
    "# Introduction to Numpy in Finance\n",
    "\n",
    "Linear algebra library for manipulating arrays and matrics"
   ]
  },
  {
   "cell_type": "code",
   "execution_count": 1,
   "metadata": {},
   "outputs": [],
   "source": [
    "import numpy as np\n",
    "import matplotlib.pyplot as plt"
   ]
  },
  {
   "cell_type": "markdown",
   "metadata": {},
   "source": [
    "# 1 NumPy Arrays\n",
    "\n",
    "NumPy arrays will create an n-dimensional array#\n",
    "\n",
    "$\\text{n-dimensions:}$ $\\begin{cases} \\text{1-dimension} & \\text{list} \\\\ \\text{2-dimension} & \\text{list of lists} \\\\ \\text{3-dimension} & \\text{list of lists of lists} \\end{cases}$\n",
    "\n",
    "## a. 1-Dimensional Array, i.e Vector"
   ]
  },
  {
   "cell_type": "code",
   "execution_count": 2,
   "metadata": {},
   "outputs": [
    {
     "data": {
      "text/plain": [
       "array([3.5, 5. , 2. , 8. , 4.2])"
      ]
     },
     "execution_count": 2,
     "metadata": {},
     "output_type": "execute_result"
    }
   ],
   "source": [
    "# Create a simple stock return list\n",
    "stock_list = [3.5, 5, 2, 8, 4.2]\n",
    "\n",
    "# Parse the list as a numpy array'\n",
    "\n",
    "returns = np.array(stock_list)\n",
    "returns"
   ]
  },
  {
   "cell_type": "markdown",
   "metadata": {},
   "source": [
    "## b. 2-Dimensional Array, i.e. Matrix"
   ]
  },
  {
   "cell_type": "code",
   "execution_count": 4,
   "metadata": {},
   "outputs": [
    {
     "data": {
      "text/plain": [
       "array([[1, 2],\n",
       "       [3, 4]])"
      ]
     },
     "execution_count": 4,
     "metadata": {},
     "output_type": "execute_result"
    }
   ],
   "source": [
    "A = np.array([[1,2],[3,4]])\n",
    "A"
   ]
  },
  {
   "cell_type": "markdown",
   "metadata": {},
   "source": [
    "## Changing Shape of Arrays\n",
    "\n",
    "- Check the **shape** of the array: using the shape attribute of np.arrays() \n",
    "\n",
    "- **Reshape** the array specifying the appropriate number of row and column dimensions"
   ]
  },
  {
   "cell_type": "code",
   "execution_count": 8,
   "metadata": {},
   "outputs": [
    {
     "data": {
      "text/plain": [
       "(2, 2)"
      ]
     },
     "execution_count": 8,
     "metadata": {},
     "output_type": "execute_result"
    }
   ],
   "source": [
    "# Check the shape\n",
    "A.shape"
   ]
  },
  {
   "cell_type": "code",
   "execution_count": 10,
   "metadata": {},
   "outputs": [
    {
     "data": {
      "text/plain": [
       "array([[1, 2, 3, 4]])"
      ]
     },
     "execution_count": 10,
     "metadata": {},
     "output_type": "execute_result"
    }
   ],
   "source": [
    "# Reshape the array\n",
    "A.reshape(1,4)"
   ]
  },
  {
   "cell_type": "markdown",
   "metadata": {},
   "source": [
    "## Indexing and Slicing Arrays\n",
    "\n",
    "Same principle that applies to Python Lists\n",
    "\n",
    "### 1-Dimensional Array"
   ]
  },
  {
   "cell_type": "code",
   "execution_count": 15,
   "metadata": {},
   "outputs": [
    {
     "name": "stdout",
     "output_type": "stream",
     "text": [
      "first element: 3.5, last element: 4.2, elements in between: [5. 2.]\n"
     ]
    }
   ],
   "source": [
    "# Print first and last element of the returns array\n",
    "print(\"first element: {}, last element: {}, elements in between: {}\".format(\n",
    "    returns[0], returns[len(returns) - 1], returns[1:3]))"
   ]
  },
  {
   "cell_type": "markdown",
   "metadata": {},
   "source": [
    "### 2-Dimensional Array (Matrix)\n",
    "\n",
    "1. **Slicing with row and columns:**\n",
    "\n",
    "`A[row element i : row element j, col element n : col element m]`"
   ]
  },
  {
   "cell_type": "code",
   "execution_count": 26,
   "metadata": {},
   "outputs": [
    {
     "name": "stdout",
     "output_type": "stream",
     "text": [
      "[[1 2]\n",
      " [3 4]], first column: [1 3], first row: [1 2]\n"
     ]
    }
   ],
   "source": [
    "print(\"{}, first column: {}, first row: {}\".format(\n",
    "            A[:,:], A[:,0], A[0,:]))"
   ]
  },
  {
   "cell_type": "markdown",
   "metadata": {},
   "source": [
    "2. **Indexing Matrices by Rows:**\n",
    "\n",
    "Inputting a single number in as the array argument returns the row indexed to the specified index in the argument\n",
    "\n",
    "`A[row index]`\n",
    "\n",
    "**Accessing elements** in the indexed row:\n",
    "\n",
    "- Either by specifying the element in the index\n",
    "- or by accessing it by adding another index\n",
    "\n",
    "`A[row index, element in the row]`\n",
    "\n",
    "`A[row index][element in the row]`"
   ]
  },
  {
   "cell_type": "code",
   "execution_count": 43,
   "metadata": {},
   "outputs": [
    {
     "name": "stdout",
     "output_type": "stream",
     "text": [
      "Entire row indexing: [3 4], \n",
      " access elements inside the index: 4,\n",
      " access elements outside the index: 4\n"
     ]
    }
   ],
   "source": [
    "print(\"Entire row indexing: {}, \\n access elements inside the index: {},\\n access elements outside the index: {}\"\n",
    "      .format(A[1], A[1,1], A[1][1]))"
   ]
  },
  {
   "cell_type": "markdown",
   "metadata": {},
   "source": [
    "## Array Functions\n",
    "\n",
    "Most functions are applied to an array element-wise (as scalar-multiplication is)."
   ]
  },
  {
   "cell_type": "code",
   "execution_count": 44,
   "metadata": {},
   "outputs": [
    {
     "name": "stdout",
     "output_type": "stream",
     "text": [
      "log returns: [1.25276297 1.60943791 0.69314718 2.07944154 1.43508453], \n",
      " mean returns: 4.54, \n",
      " max return: 8.0\n"
     ]
    }
   ],
   "source": [
    "print(\"log returns: {}, \\n mean returns: {}, \\n max return: {}\".format(\n",
    "            np.log(returns), np.mean(returns), np.max(returns)))"
   ]
  },
  {
   "cell_type": "markdown",
   "metadata": {},
   "source": [
    "**Scalars on arrays:**"
   ]
  },
  {
   "cell_type": "code",
   "execution_count": 48,
   "metadata": {},
   "outputs": [
    {
     "data": {
      "text/plain": [
       "array([12. , 15. ,  9. , 21. , 13.4])"
      ]
     },
     "execution_count": 48,
     "metadata": {},
     "output_type": "execute_result"
    }
   ],
   "source": [
    "returns*2 + 5"
   ]
  },
  {
   "cell_type": "markdown",
   "metadata": {},
   "source": [
    "# Simulating a Universe of Stocks in NumPy\n",
    "\n",
    "## Step 1: Create Empty Arrays to hold the assets and returns\n",
    "\n",
    "We will need these arrays to build a portfolio\n",
    "\n",
    "- Arrays are created with a fixed size and their dimensions cannot be changed without creating a new array\n",
    "\n",
    "### NP.ZEROS ( )\n",
    "\n",
    "Creates a NumPy array with the given dimension entirely filled in with $0$\n",
    "\n",
    "**Vector:** Insert a single number\n",
    "\n",
    "`np.zeros(number)`\n",
    "\n",
    "<p style=\"text-align:center;\">$\\begin{bmatrix} 0 & 0 & 0 \\end{bmatrix}$</p>\n",
    "\n",
    "**Matrix:** Insert a tuple\n",
    "\n",
    "`np.zeros((number rows, number columns))`\n",
    "\n",
    "<p style=\"text-align:center;\">$\\begin{bmatrix} 0 & 0 & 0 \\\\ 0 & 0 & 0 \\\\ 0 & 0 & 0 \\end{bmatrix}$</p>"
   ]
  },
  {
   "cell_type": "code",
   "execution_count": 53,
   "metadata": {},
   "outputs": [],
   "source": [
    "asset_number = 10\n",
    "assets = np.zeros((asset_number, 100))\n",
    "returns = np.zeros((asset_number, 100))"
   ]
  },
  {
   "cell_type": "markdown",
   "metadata": {},
   "source": [
    "## Step 2. Simulate a base asset (for cross-correlation)\n",
    "\n",
    "We want the universe of stocks to be correlated with each other so we will use this initial value to generate the others\n",
    "\n",
    "### Random Normal\n",
    "\n",
    "`np.random.normal(mean, sd, N)`\n",
    "\n",
    "$N$ is the number of draws we make\n",
    "\n",
    "### Daily Returns and Current Prices\n",
    "\n",
    "- **Daily Returns** are drawn from a random normal distrubution, i.e. daily *percentage* returns\n",
    "\n",
    "- **Current Price** is obtained by taking the cumulative product of these samples"
   ]
  },
  {
   "cell_type": "code",
   "execution_count": 60,
   "metadata": {},
   "outputs": [],
   "source": [
    "# Daily percentage returns\n",
    "R_1 = np.random.normal(1.03, 0.03, 100)\n",
    "\n",
    "# Make the first Asset returns equal to the daily percentage returns\n",
    "returns[0] = R_1\n",
    "\n",
    "# Make the first Asset price equal to the cumprod of its daily percentage returns\n",
    "assets[0] = np.cumprod(R_1)"
   ]
  }
 ],
 "metadata": {
  "kernelspec": {
   "display_name": "Python 3",
   "language": "python",
   "name": "python3"
  },
  "language_info": {
   "codemirror_mode": {
    "name": "ipython",
    "version": 3
   },
   "file_extension": ".py",
   "mimetype": "text/x-python",
   "name": "python",
   "nbconvert_exporter": "python",
   "pygments_lexer": "ipython3",
   "version": "3.7.6"
  }
 },
 "nbformat": 4,
 "nbformat_minor": 2
}

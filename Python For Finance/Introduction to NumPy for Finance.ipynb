{
 "cells": [
  {
   "cell_type": "markdown",
   "metadata": {},
   "source": [
    "# Introduction to Numpy in Finance - Portfolio Construction\n",
    "\n",
    "Linear algebra library for manipulating arrays and matrics"
   ]
  },
  {
   "cell_type": "code",
   "execution_count": 7,
   "metadata": {},
   "outputs": [],
   "source": [
    "import numpy as np\n",
    "import matplotlib.pyplot as plt\n",
    "plt.rcParams['figure.figsize'] = [15, 5]"
   ]
  },
  {
   "cell_type": "markdown",
   "metadata": {},
   "source": [
    "# NumPy Arrays\n",
    "\n",
    "NumPy arrays will create an n-dimensional array#\n",
    "\n",
    "$\\text{n-dimensions:}$ $\\begin{cases} \\text{1-dimension} & \\text{list} \\\\ \\text{2-dimension} & \\text{list of lists} \\\\ \\text{3-dimension} & \\text{list of lists of lists} \\end{cases}$\n",
    "\n",
    "## a. 1-Dimensional Array, i.e Vector"
   ]
  },
  {
   "cell_type": "code",
   "execution_count": 2,
   "metadata": {},
   "outputs": [
    {
     "data": {
      "text/plain": [
       "array([3.5, 5. , 2. , 8. , 4.2])"
      ]
     },
     "execution_count": 2,
     "metadata": {},
     "output_type": "execute_result"
    }
   ],
   "source": [
    "# Create a simple stock return list\n",
    "stock_list = [3.5, 5, 2, 8, 4.2]\n",
    "\n",
    "# Parse the list as a numpy array'\n",
    "\n",
    "returns = np.array(stock_list)\n",
    "returns"
   ]
  },
  {
   "cell_type": "markdown",
   "metadata": {},
   "source": [
    "## b. 2-Dimensional Array, i.e. Matrix"
   ]
  },
  {
   "cell_type": "code",
   "execution_count": 4,
   "metadata": {},
   "outputs": [
    {
     "data": {
      "text/plain": [
       "array([[1, 2],\n",
       "       [3, 4]])"
      ]
     },
     "execution_count": 4,
     "metadata": {},
     "output_type": "execute_result"
    }
   ],
   "source": [
    "A = np.array([[1,2],[3,4]])\n",
    "A"
   ]
  },
  {
   "cell_type": "markdown",
   "metadata": {},
   "source": [
    "## Changing Shape of Arrays\n",
    "\n",
    "- Check the **shape** of the array: using the shape attribute of np.arrays() \n",
    "\n",
    "- **Reshape** the array specifying the appropriate number of row and column dimensions"
   ]
  },
  {
   "cell_type": "code",
   "execution_count": 8,
   "metadata": {},
   "outputs": [
    {
     "data": {
      "text/plain": [
       "(2, 2)"
      ]
     },
     "execution_count": 8,
     "metadata": {},
     "output_type": "execute_result"
    }
   ],
   "source": [
    "# Check the shape\n",
    "A.shape"
   ]
  },
  {
   "cell_type": "code",
   "execution_count": 10,
   "metadata": {},
   "outputs": [
    {
     "data": {
      "text/plain": [
       "array([[1, 2, 3, 4]])"
      ]
     },
     "execution_count": 10,
     "metadata": {},
     "output_type": "execute_result"
    }
   ],
   "source": [
    "# Reshape the array\n",
    "A.reshape(1,4)"
   ]
  },
  {
   "cell_type": "markdown",
   "metadata": {},
   "source": [
    "## Indexing and Slicing Arrays\n",
    "\n",
    "Same principle that applies to Python Lists\n",
    "\n",
    "### 1-Dimensional Array"
   ]
  },
  {
   "cell_type": "code",
   "execution_count": 15,
   "metadata": {},
   "outputs": [
    {
     "name": "stdout",
     "output_type": "stream",
     "text": [
      "first element: 3.5, last element: 4.2, elements in between: [5. 2.]\n"
     ]
    }
   ],
   "source": [
    "# Print first and last element of the returns array\n",
    "print(\"first element: {}, last element: {}, elements in between: {}\".format(\n",
    "    returns[0], returns[len(returns) - 1], returns[1:3]))"
   ]
  },
  {
   "cell_type": "markdown",
   "metadata": {},
   "source": [
    "### 2-Dimensional Array (Matrix)\n",
    "\n",
    "1. **Slicing with row and columns:**\n",
    "\n",
    "`A[row element i : row element j, col element n : col element m]`"
   ]
  },
  {
   "cell_type": "code",
   "execution_count": 26,
   "metadata": {},
   "outputs": [
    {
     "name": "stdout",
     "output_type": "stream",
     "text": [
      "[[1 2]\n",
      " [3 4]], first column: [1 3], first row: [1 2]\n"
     ]
    }
   ],
   "source": [
    "print(\"{}, first column: {}, first row: {}\".format(\n",
    "            A[:,:], A[:,0], A[0,:]))"
   ]
  },
  {
   "cell_type": "markdown",
   "metadata": {},
   "source": [
    "2. **Indexing Matrices by Rows:**\n",
    "\n",
    "Inputting a single number in as the array argument returns the row indexed to the specified index in the argument\n",
    "\n",
    "`A[row index]`\n",
    "\n",
    "**Accessing elements** in the indexed row:\n",
    "\n",
    "- Either by specifying the element in the index\n",
    "- or by accessing it by adding another index\n",
    "\n",
    "`A[row index, element in the row]`\n",
    "\n",
    "`A[row index][element in the row]`"
   ]
  },
  {
   "cell_type": "code",
   "execution_count": 43,
   "metadata": {},
   "outputs": [
    {
     "name": "stdout",
     "output_type": "stream",
     "text": [
      "Entire row indexing: [3 4], \n",
      " access elements inside the index: 4,\n",
      " access elements outside the index: 4\n"
     ]
    }
   ],
   "source": [
    "print(\"Entire row indexing: {}, \\n access elements inside the index: {},\\n access elements outside the index: {}\"\n",
    "      .format(A[1], A[1,1], A[1][1]))"
   ]
  },
  {
   "cell_type": "markdown",
   "metadata": {},
   "source": [
    "## Array Functions\n",
    "\n",
    "Most functions are applied to an array element-wise (as scalar-multiplication is)."
   ]
  },
  {
   "cell_type": "code",
   "execution_count": 44,
   "metadata": {},
   "outputs": [
    {
     "name": "stdout",
     "output_type": "stream",
     "text": [
      "log returns: [1.25276297 1.60943791 0.69314718 2.07944154 1.43508453], \n",
      " mean returns: 4.54, \n",
      " max return: 8.0\n"
     ]
    }
   ],
   "source": [
    "print(\"log returns: {}, \\n mean returns: {}, \\n max return: {}\".format(\n",
    "            np.log(returns), np.mean(returns), np.max(returns)))"
   ]
  },
  {
   "cell_type": "markdown",
   "metadata": {},
   "source": [
    "**Scalars on arrays:**"
   ]
  },
  {
   "cell_type": "code",
   "execution_count": 48,
   "metadata": {},
   "outputs": [
    {
     "data": {
      "text/plain": [
       "array([12. , 15. ,  9. , 21. , 13.4])"
      ]
     },
     "execution_count": 48,
     "metadata": {},
     "output_type": "execute_result"
    }
   ],
   "source": [
    "returns*2 + 5"
   ]
  },
  {
   "cell_type": "markdown",
   "metadata": {},
   "source": [
    "## NaN Values\n",
    "\n",
    "NaN values appear when there is missing or non-existant data. `nan` values can lead to errors so it is important to know how to drop them.\n",
    "\n",
    "- When attempting to apply functions on a vector containing `nan` values, it throws an error"
   ]
  },
  {
   "cell_type": "code",
   "execution_count": 36,
   "metadata": {},
   "outputs": [
    {
     "data": {
      "text/plain": [
       "nan"
      ]
     },
     "execution_count": 36,
     "metadata": {},
     "output_type": "execute_result"
    }
   ],
   "source": [
    "# Create a vector containing a nan value\n",
    "vector = np.array([1,2,np.nan, 4, 5])\n",
    "\n",
    "# try to apply a function to the vector\n",
    "np.mean(vector)"
   ]
  },
  {
   "cell_type": "markdown",
   "metadata": {},
   "source": [
    "### Indexing Arrays by Boolean Values\n",
    "\n",
    "#### Step 1: Create a boolean vector of the array as an index\n",
    "\n",
    "The vector should contain the boolean values of those values which ar **not nan**, `~` means not\n",
    "\n",
    "`boolean_index = ~np.isnan(vector)`\n",
    "\n",
    "#### Step 2: Index the array with the boolean vector of not nans\n",
    "\n",
    "` vector[boolean_index]`\n"
   ]
  },
  {
   "cell_type": "code",
   "execution_count": 41,
   "metadata": {},
   "outputs": [
    {
     "data": {
      "text/plain": [
       "3.0"
      ]
     },
     "execution_count": 41,
     "metadata": {},
     "output_type": "execute_result"
    }
   ],
   "source": [
    "ix = ~ np.isnan(vector)\n",
    "ix\n",
    "np.mean(vector[ix])\n",
    "\n",
    "# can also use nan meana\n",
    "np.nanmean(vector)"
   ]
  },
  {
   "cell_type": "markdown",
   "metadata": {},
   "source": [
    "# Simulating a Universe of Stocks in NumPy\n",
    "\n",
    "## Step 1: Create Empty Arrays to hold the assets and returns\n",
    "\n",
    "We will need these arrays to build a portfolio\n",
    "\n",
    "- Arrays are created with a fixed size and their dimensions cannot be changed without creating a new array\n",
    "\n",
    "### NP.ZEROS ( )\n",
    "\n",
    "Creates a NumPy array with the given dimension entirely filled in with $0$\n",
    "\n",
    "**Vector:** Insert a single number\n",
    "\n",
    "`np.zeros(number)`\n",
    "\n",
    "<p style=\"text-align:center;\">$\\begin{bmatrix} 0 & 0 & 0 \\end{bmatrix}$</p>\n",
    "\n",
    "**Matrix:** Insert a tuple\n",
    "\n",
    "`np.zeros((number rows, number columns))`\n",
    "\n",
    "<p style=\"text-align:center;\">$\\begin{bmatrix} 0 & 0 & 0 \\\\ 0 & 0 & 0 \\\\ 0 & 0 & 0 \\end{bmatrix}$</p>"
   ]
  },
  {
   "cell_type": "code",
   "execution_count": 8,
   "metadata": {},
   "outputs": [],
   "source": [
    "asset_number = 10\n",
    "assets = np.zeros((asset_number, 100))\n",
    "returns = np.zeros((asset_number, 100))"
   ]
  },
  {
   "cell_type": "markdown",
   "metadata": {},
   "source": [
    "## Step 2. Simulate a base asset (for cross-correlation)\n",
    "\n",
    "We want the universe of stocks to be correlated with each other so we will use this initial value to generate the others\n",
    "\n",
    "### Random Normal\n",
    "\n",
    "`np.random.normal(mean, sd, N)`\n",
    "\n",
    "$N$ is the number of draws we make\n",
    "\n",
    "### Daily Returns and Current Prices\n",
    "\n",
    "- **Daily Returns** are drawn from a random normal distrubution, i.e. daily *percentage* returns\n",
    "\n",
    "- **Current Price** is obtained by taking the cumulative product of these samples\n",
    "\n",
    "$R_i$ are each 1-dimensional arrays \n",
    "\n",
    "**Returns** and **Assets** are 2-dimensional arrays\n",
    "\n",
    "We set the **initial row** of both:\n",
    "\n",
    "- `returns`: to be the first return vector of $R_i$, $R_0$\n",
    "\n",
    "- `assets`: to be the cumulatiove asset price based on $R_0$"
   ]
  },
  {
   "cell_type": "code",
   "execution_count": 9,
   "metadata": {},
   "outputs": [],
   "source": [
    "# Daily percentage returns\n",
    "R_1 = np.random.normal(1.03, 0.03, 100)\n",
    "\n",
    "# Make the first Asset returns equal to the daily percentage returns\n",
    "returns[0] = R_1\n",
    "\n",
    "# Make the first Asset price equal to the cumprod of its daily percentage returns\n",
    "assets[0] = np.cumprod(R_1)"
   ]
  },
  {
   "cell_type": "markdown",
   "metadata": {},
   "source": [
    "### Create other random assets correlated with Asset 1:\n",
    "\n",
    "Using the base asset, loop for each asset to get the related returns and asset prices.\n",
    "\n",
    "We generate $N-1$ securities by adding random white noise to our initial security return\n",
    "\n",
    "- This ensures that all assets simulated are correlated with each other"
   ]
  },
  {
   "cell_type": "code",
   "execution_count": 10,
   "metadata": {},
   "outputs": [],
   "source": [
    "# Generate N - 1 assets that are correlated with R_1\n",
    "\n",
    "for i in range(1,asset_number):\n",
    "    \n",
    "    # generate daily percentage returns for each asset\n",
    "    R_i = R_1 + np.random.normal(0.001, 0.02, 100)\n",
    "    \n",
    "    # set returns of each asset to the 1-dimensional array R_i\n",
    "    returns[i] = R_i\n",
    "    \n",
    "    # set asset prices to the cumprod of R_i\n",
    "    assets[i] = np.cumprod(R_i) "
   ]
  },
  {
   "cell_type": "markdown",
   "metadata": {},
   "source": [
    "### Get assets characteristics:\n",
    "\n",
    "- **Mean:** Construct an array containing the mean values standardized as percentages of each N asset\n",
    "\n",
    "<p style=\"text-align:center;\">$mean_{\\text{returns}_i} = (mean_i - 1)*100$</p>\n",
    "\n",
    "- **Volatility:** Construct an array containing the std values of each N asset"
   ]
  },
  {
   "cell_type": "code",
   "execution_count": 11,
   "metadata": {},
   "outputs": [],
   "source": [
    "# Get mean of returns\n",
    "mean_returns = [(np.mean(ret) - 1)*100 for ret in returns]\n",
    "\n",
    "# Get volatilities of the returns\n",
    "return_volatilities = [np.std(ret) for ret in returns]"
   ]
  },
  {
   "cell_type": "markdown",
   "metadata": {},
   "source": [
    "### Plot the Results\n",
    "\n",
    "`np.arange(N)`: Creates a sequence of $N$ numbers, similar to `range(N)` function in Python\n",
    "\n",
    "We plot a barchart with as:\n",
    "\n",
    "- $X$'s: a sequence of numbers whose length equals that of the number of assets we currently have\n",
    "\n",
    "- $Y$'s: The mean returns $\\forall$ asset"
   ]
  },
  {
   "cell_type": "code",
   "execution_count": 12,
   "metadata": {},
   "outputs": [
    {
     "data": {
      "image/png": "[encoded data removed]",
      "text/plain": [
       "<Figure size 1080x360 with 1 Axes>"
      ]
     },
     "metadata": {
      "needs_background": "light"
     },
     "output_type": "display_data"
    }
   ],
   "source": [
    "# Plot a bar chart\n",
    "plt.bar(np.arange(len(mean_returns)), mean_returns)\n",
    "plt.xlabel(\"Stock\")\n",
    "plt.ylabel(\"Returns\")\n",
    "plt.title(\"Returns for {} Random Assets\".format(asset_number))\n",
    "plt.show()"
   ]
  },
  {
   "cell_type": "markdown",
   "metadata": {},
   "source": [
    "## Step 3. Calculate Expected Return\n",
    "\n",
    "We now have our universe of stocks, the next step is to put them together in a portfolio and calculate its expected return and risk.\n",
    "\n",
    "### Generate N Random Weights\n",
    "\n",
    "for each asset in the portfolio, we will assume these weights to be equally distributed following a random uniform distribution.\n",
    "\n",
    "<p style=\"text-align:center;\">$\\text{weight}_i \\sim U(0,1)$</p>\n",
    "\n",
    "<p style=\"text-align:center;\">$\\text{percentage weights}_i = \\frac{\\text{weight}_i}{\\sum(\\text{weight}_i)}$</p>\n",
    "\n",
    "Using the pecentage weights, we are **rescaling** the weights vector by the sum total of <i>all weights</i>. This is used to ensure that $100%$ of the portfolio's cash is used.\n",
    "\n",
    "- **Rescaling** is required to make sure the weights all add up to 1"
   ]
  },
  {
   "cell_type": "code",
   "execution_count": 13,
   "metadata": {},
   "outputs": [],
   "source": [
    "weights = np.random.uniform(0, 1, asset_number)\n",
    "perc_weights = weights/np.sum(weights)"
   ]
  },
  {
   "cell_type": "markdown",
   "metadata": {},
   "source": [
    "### Calculate the Mean of the Portfolio\n",
    "\n",
    "The mean of the portfolio is calculated in the following way:\n",
    "\n",
    "<p style=\"text-align:center;\"> $\\omega \\cdot \\mu = \\omega_1\\mu_1 + ... + \\omega_N \\mu_N = \\mu_P$ </p>\n",
    "\n",
    "$\\omega = [\\omega_1, \\omega_2, ..., \\omega_N]$\n",
    "\n",
    "$\\mu = [\\mu_1, \\mu_2, ..., \\mu_N]$\n",
    "\n",
    "#### Dot Product in NumPy\n",
    "\n",
    "**For a 1-dimensional array:**\n",
    "\n",
    "`np.dot(x, y)` computes the dot product of two vectors\n",
    "\n",
    "**For a 2-dimensional array:** \n",
    "\n",
    "<p style=\"text-align:center;\">$\\text{(m x n) } \\cdot \\text{ (n x m)} = \\text{(m x m)}$</p>"
   ]
  },
  {
   "cell_type": "code",
   "execution_count": 14,
   "metadata": {},
   "outputs": [
    {
     "name": "stdout",
     "output_type": "stream",
     "text": [
      "Portfolio Expected Return: 3.63\n"
     ]
    }
   ],
   "source": [
    "portfolio_returns = round(np.dot(perc_weights, mean_returns), 2)\n",
    "print(\"Portfolio Expected Return: {}\".format(portfolio_returns))"
   ]
  },
  {
   "cell_type": "markdown",
   "metadata": {},
   "source": [
    "## Step 4. Calculate Portfolio Variance\n",
    "\n",
    "**If assets were independent:**\n",
    "\n",
    "<p style=\"text-align:center;\"> $var(P) = var(\\omega_1S_1 + \\omega_2S_2 + ... + \\omega_NS_N) = var(\\omega_1S_1) + ... + var(\\omega_NS_N) = \\omega_1^2\\sigma_1^2 + ... + \\omega_N^2\\sigma_N^2$ </p>\n",
    "\n",
    "**Assets by construction have a degree of correlation:**\n",
    "\n",
    "<p style=\"text-align:center;\"> $var(P) = \\sigma_P^2 = \\sum_i(\\omega_i^2\\sigma_i^2) + \\sum_i\\sum_{i\\neq j}(\\omega_i\\omega_j\\sigma_i\\sigma_j\\rho_{i,j})$ </p>\n",
    "\n",
    "$i,j \\in {1,2, ..., N}$\n",
    "\n",
    "$\\rho_{i,j} = \\frac{\\sigma_{S_i,S_j}}{\\sigma_i\\sigma_j}$\n",
    "\n",
    "### Get Var-Covariance Matrix\n",
    "<p style=\"text-align:center;\"> $C = \\begin{bmatrix} var(S_1) & cov(S_1, S_2) & . & . & . & cov(S_1, S_N) \\\\ cov(S_2, S_1) & var(S_2) & . & . & . & cov(S_2, S_N) \\\\ . & . & . & . & . & . & \\\\ . & . & . & .& .& .\\\\cov(S_N, S_1) & cov(S_N, S_2) & . & . & . & var(S_N) \\end{bmatrix} $ </p>"
   ]
  },
  {
   "cell_type": "code",
   "execution_count": 20,
   "metadata": {},
   "outputs": [],
   "source": [
    "cov_mat = np.cov(returns)"
   ]
  },
  {
   "cell_type": "markdown",
   "metadata": {},
   "source": [
    "### Get the Portfolio Variance\n",
    "\n",
    "The variance-covariance matrix enables us to calculate the portfolio variance by using the matrix $C$ as the transformation matrix to our basis vector of weights $\\omega$\n",
    "\n",
    "<p style=\"text-align:center;\"> $\\sigma_p^2 = \\omega C \\omega^T$ </p>\n",
    "<p style=\"text-align:center;\"> $(1x1) = (1xN) \\cdot (NxN) \\cdot (Nx1)$ </p>"
   ]
  },
  {
   "cell_type": "code",
   "execution_count": 22,
   "metadata": {},
   "outputs": [
    {
     "name": "stdout",
     "output_type": "stream",
     "text": [
      "Portfolio Volatility is: 0.1302\n"
     ]
    }
   ],
   "source": [
    "# Calculate portfolio variance\n",
    "\n",
    "portfolio_variance = np.dot(np.dot(weights, cov_mat), weights.T)\n",
    "\n",
    "# Get volatility of portfolio#\n",
    "\n",
    "portfolio_volatility = round(np.sqrt(portfolio_variance),4)\n",
    "\n",
    "print(\"Portfolio Volatility is: {}\".format(portfolio_volatility))"
   ]
  }
 ],
 "metadata": {
  "kernelspec": {
   "display_name": "Python 3",
   "language": "python",
   "name": "python3"
  },
  "language_info": {
   "codemirror_mode": {
    "name": "ipython",
    "version": 3
   },
   "file_extension": ".py",
   "mimetype": "text/x-python",
   "name": "python",
   "nbconvert_exporter": "python",
   "pygments_lexer": "ipython3",
   "version": "3.7.6"
  }
 },
 "nbformat": 4,
 "nbformat_minor": 1
}

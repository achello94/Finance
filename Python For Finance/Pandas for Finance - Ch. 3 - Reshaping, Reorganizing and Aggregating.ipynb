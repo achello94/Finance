{
 "cells": [
  {
   "cell_type": "markdown",
   "metadata": {},
   "source": [
    "# Pandas for Finance Chapter 3) Shaping DFs"
   ]
  },
  {
   "cell_type": "code",
   "execution_count": 170,
   "metadata": {},
   "outputs": [],
   "source": [
    "import pandas as pd\n",
    "import numpy as np\n",
    "import datetime\n",
    "import matplotlib.pyplot as plt\n",
    "%matplotlib inline\n",
    "pd.set_option(\"display.notebook_repr_html\", False)\n",
    "pd.set_option(\"display.max_columns\", 15)\n",
    "pd.set_option(\"display.max_rows\", 8)\n",
    "pd.set_option(\"precision\", 3)"
   ]
  },
  {
   "cell_type": "code",
   "execution_count": 38,
   "metadata": {},
   "outputs": [],
   "source": [
    "import pandas_datareader as web\n",
    "\n",
    "start = datetime.datetime(2012, 1, 1)\n",
    "end = datetime.datetime(2012, 12, 30)\n",
    "\n",
    "msft = web.DataReader(\"WIKI/MSFT\", \"quandl\", start, end)\n",
    "aapl = web.DataReader(\"WIKI/AAPL\", \"quandl\", start, end)\n"
   ]
  },
  {
   "cell_type": "markdown",
   "metadata": {},
   "source": [
    "# Concatenation"
   ]
  },
  {
   "cell_type": "markdown",
   "metadata": {},
   "source": [
    "## Combines data based on Index"
   ]
  },
  {
   "cell_type": "code",
   "execution_count": 169,
   "metadata": {},
   "outputs": [
    {
     "data": {
      "text/plain": [
       "           Symbol   Open   High    Low  Close     Volume  ExDividend  \\\n",
       "Date                                                                   \n",
       "2012-12-28   MSFT  26.71  26.90  26.55  26.55  2.824e+07         0.0   \n",
       "2012-12-27   MSFT  26.89  27.09  26.57  26.96  3.939e+07         0.0   \n",
       "2012-12-26   MSFT  27.03  27.20  26.70  26.86  3.163e+07         0.0   \n",
       "\n",
       "            SplitRatio  AdjOpen  AdjHigh  AdjLow  AdjClose  AdjVolume  \n",
       "Date                                                                   \n",
       "2012-12-28         1.0   23.397   23.564  23.257    23.257  2.824e+07  \n",
       "2012-12-27         1.0   23.555   23.730  23.275    23.616  3.939e+07  \n",
       "2012-12-26         1.0   23.678   23.827  23.389    23.529  3.163e+07  "
      ]
     },
     "execution_count": 169,
     "metadata": {},
     "output_type": "execute_result"
    }
   ],
   "source": [
    "msft[:3]"
   ]
  },
  {
   "cell_type": "code",
   "execution_count": 164,
   "metadata": {},
   "outputs": [
    {
     "data": {
      "text/plain": [
       "           Symbol    Open    High     Low    Close     Volume  ExDividend  \\\n",
       "Date                                                                        \n",
       "2012-12-28   AAPL  510.29  514.48  508.12  509.589  1.265e+07         0.0   \n",
       "2012-12-27   AAPL  513.54  516.25  504.66  515.060  1.625e+07         0.0   \n",
       "2012-12-26   AAPL  519.00  519.46  511.12  513.000  1.080e+07         0.0   \n",
       "\n",
       "            SplitRatio  AdjOpen  AdjHigh  AdjLow  AdjClose  AdjVolume  \n",
       "Date                                                                   \n",
       "2012-12-28         1.0   66.172   66.715  65.891    66.081  8.857e+07  \n",
       "2012-12-27         1.0   66.594   66.945  65.442    66.791  1.138e+08  \n",
       "2012-12-26         1.0   67.302   67.361  66.280    66.523  7.561e+07  "
      ]
     },
     "execution_count": 164,
     "metadata": {},
     "output_type": "execute_result"
    }
   ],
   "source": [
    "aapl[:3]"
   ]
  },
  {
   "cell_type": "code",
   "execution_count": 41,
   "metadata": {},
   "outputs": [],
   "source": [
    "msftA01 = msft[\"2012-01\"][[\"AdjClose\"]]"
   ]
  },
  {
   "cell_type": "code",
   "execution_count": 42,
   "metadata": {},
   "outputs": [
    {
     "data": {
      "text/plain": [
       "            AdjClose\n",
       "Date                \n",
       "2012-01-31    25.147\n",
       "2012-01-30    25.215\n",
       "2012-01-27    24.891\n",
       "2012-01-26    25.121\n",
       "...              ...\n",
       "2012-01-06    23.933\n",
       "2012-01-05    23.571\n",
       "2012-01-04    23.333\n",
       "2012-01-03    22.792\n",
       "\n",
       "[20 rows x 1 columns]"
      ]
     },
     "execution_count": 42,
     "metadata": {},
     "output_type": "execute_result"
    }
   ],
   "source": [
    "msftA01"
   ]
  },
  {
   "cell_type": "code",
   "execution_count": 43,
   "metadata": {},
   "outputs": [],
   "source": [
    "msftA02 = msft[\"2012-02\"][[\"AdjClose\"]]"
   ]
  },
  {
   "cell_type": "code",
   "execution_count": 44,
   "metadata": {},
   "outputs": [
    {
     "data": {
      "text/plain": [
       "            AdjClose\n",
       "Date                \n",
       "2012-02-29    27.208\n",
       "2012-02-28    27.319\n",
       "2012-02-27    26.873\n",
       "2012-02-24    26.985\n",
       "...              ...\n",
       "2012-02-06    25.717\n",
       "2012-02-03    25.751\n",
       "2012-02-02    25.504\n",
       "2012-02-01    25.453\n",
       "\n",
       "[20 rows x 1 columns]"
      ]
     },
     "execution_count": 44,
     "metadata": {},
     "output_type": "execute_result"
    }
   ],
   "source": [
    "msftA02"
   ]
  },
  {
   "cell_type": "code",
   "execution_count": 45,
   "metadata": {},
   "outputs": [
    {
     "data": {
      "text/plain": [
       "            AdjClose\n",
       "Date                \n",
       "2012-01-31    25.147\n",
       "2012-01-30    25.215\n",
       "2012-01-27    24.891"
      ]
     },
     "execution_count": 45,
     "metadata": {},
     "output_type": "execute_result"
    }
   ],
   "source": [
    "msftA01[:3]"
   ]
  },
  {
   "cell_type": "code",
   "execution_count": 46,
   "metadata": {},
   "outputs": [
    {
     "data": {
      "text/plain": [
       "            AdjClose\n",
       "Date                \n",
       "2012-01-31    25.147\n",
       "2012-01-30    25.215\n",
       "2012-01-27    24.891\n",
       "2012-02-29    27.208\n",
       "2012-02-28    27.319\n",
       "2012-02-27    26.873"
      ]
     },
     "execution_count": 46,
     "metadata": {},
     "output_type": "execute_result"
    }
   ],
   "source": [
    "pd.concat([msftA01.head(3),msftA02.head(3)])"
   ]
  },
  {
   "cell_type": "code",
   "execution_count": 47,
   "metadata": {},
   "outputs": [
    {
     "data": {
      "text/plain": [
       "            AdjClose\n",
       "Date                \n",
       "2012-01-31    25.147\n",
       "2012-01-30    25.215\n",
       "2012-01-27    24.891\n",
       "2012-01-31    58.664\n",
       "2012-01-30    58.218\n",
       "2012-01-27    57.482"
      ]
     },
     "execution_count": 47,
     "metadata": {},
     "output_type": "execute_result"
    }
   ],
   "source": [
    "aaplA01 = aapl[\"2012-01\"][[\"AdjClose\"]]\n",
    "with_dups = pd.concat([msftA01[:3], aaplA01[:3]])\n",
    "with_dups"
   ]
  },
  {
   "cell_type": "code",
   "execution_count": 48,
   "metadata": {},
   "outputs": [],
   "source": [
    "#this will result in multiple items returns in the labels"
   ]
  },
  {
   "cell_type": "code",
   "execution_count": 49,
   "metadata": {},
   "outputs": [
    {
     "data": {
      "text/plain": [
       "            AdjClose\n",
       "Date                \n",
       "2012-01-31    25.147\n",
       "2012-01-31    58.664"
      ]
     },
     "execution_count": 49,
     "metadata": {},
     "output_type": "execute_result"
    }
   ],
   "source": [
    "with_dups.loc[\"2012-01-31\"]"
   ]
  },
  {
   "cell_type": "code",
   "execution_count": 50,
   "metadata": {},
   "outputs": [
    {
     "data": {
      "text/plain": [
       "                 AdjClose\n",
       "     Date                \n",
       "MSFT 2012-01-31    25.147\n",
       "     2012-01-30    25.215\n",
       "     2012-01-27    24.891\n",
       "AAPL 2012-01-31    58.664\n",
       "     2012-01-30    58.218\n",
       "     2012-01-27    57.482"
      ]
     },
     "execution_count": 50,
     "metadata": {},
     "output_type": "execute_result"
    }
   ],
   "source": [
    "closes = pd.concat([msftA01[:3], aaplA01[:3]], keys = [\"MSFT\", \"AAPL\"])\n",
    "closes"
   ]
  },
  {
   "cell_type": "code",
   "execution_count": 51,
   "metadata": {},
   "outputs": [
    {
     "data": {
      "text/plain": [
       "            AdjClose\n",
       "Date                \n",
       "2012-01-31    25.147\n",
       "2012-01-30    25.215\n",
       "2012-01-27    24.891"
      ]
     },
     "execution_count": 51,
     "metadata": {},
     "output_type": "execute_result"
    }
   ],
   "source": [
    "closes.loc[\"MSFT\"][:3]"
   ]
  },
  {
   "cell_type": "code",
   "execution_count": 52,
   "metadata": {},
   "outputs": [
    {
     "data": {
      "text/plain": [
       "            AdjClose     Volume\n",
       "Date                           \n",
       "2012-12-28    23.257  2.824e+07\n",
       "2012-12-27    23.616  3.939e+07\n",
       "2012-12-26    23.529  3.163e+07\n",
       "2012-12-24    23.704  2.084e+07\n",
       "...              ...        ...\n",
       "2012-01-06    54.284  1.137e+07\n",
       "2012-01-05    53.723  9.688e+06\n",
       "2012-01-04    53.133  9.286e+06\n",
       "2012-01-03    52.849  1.079e+07\n",
       "\n",
       "[498 rows x 2 columns]"
      ]
     },
     "execution_count": 52,
     "metadata": {},
     "output_type": "execute_result"
    }
   ],
   "source": [
    "msftAV = msft[[\"AdjClose\", \"Volume\"]]\n",
    "aaplAV = aapl[[\"AdjClose\", \"Volume\"]]\n",
    "pd.concat([msftAV, aaplAV])"
   ]
  },
  {
   "cell_type": "code",
   "execution_count": 53,
   "metadata": {},
   "outputs": [
    {
     "data": {
      "text/plain": [
       "            AdjClose     Volume\n",
       "Date                           \n",
       "2012-12-28    23.257  2.824e+07\n",
       "2012-12-27    23.616  3.939e+07\n",
       "2012-12-26    23.529  3.163e+07\n",
       "2012-12-24    23.704  2.084e+07\n",
       "...              ...        ...\n",
       "2012-01-06    54.284        NaN\n",
       "2012-01-05    53.723        NaN\n",
       "2012-01-04    53.133        NaN\n",
       "2012-01-03    52.849        NaN\n",
       "\n",
       "[498 rows x 2 columns]"
      ]
     },
     "execution_count": 53,
     "metadata": {},
     "output_type": "execute_result"
    }
   ],
   "source": [
    "aaplA = aapl[[\"AdjClose\"]]\n",
    "pd.concat([msftAV, aaplA])"
   ]
  },
  {
   "cell_type": "code",
   "execution_count": 54,
   "metadata": {},
   "outputs": [
    {
     "data": {
      "text/plain": [
       "            AdjClose\n",
       "Date                \n",
       "2012-12-28    23.257\n",
       "2012-12-27    23.616\n",
       "2012-12-26    23.529\n",
       "2012-12-24    23.704\n",
       "...              ...\n",
       "2012-01-06    54.284\n",
       "2012-01-05    53.723\n",
       "2012-01-04    53.133\n",
       "2012-01-03    52.849\n",
       "\n",
       "[498 rows x 1 columns]"
      ]
     },
     "execution_count": 54,
     "metadata": {},
     "output_type": "execute_result"
    }
   ],
   "source": [
    "pd.concat([msftAV, aaplA], join = \"inner\")"
   ]
  },
  {
   "cell_type": "code",
   "execution_count": 55,
   "metadata": {},
   "outputs": [
    {
     "data": {
      "text/plain": [
       "            AdjClose  AdjClose\n",
       "Date                          \n",
       "2012-12-28    23.257    66.081\n",
       "2012-12-27    23.616    66.791\n",
       "2012-12-26    23.529    66.523\n",
       "2012-12-24    23.704    67.453\n",
       "...              ...       ...\n",
       "2012-01-06    23.933    54.284\n",
       "2012-01-05    23.571    53.723\n",
       "2012-01-04    23.333    53.133\n",
       "2012-01-03    22.792    52.849\n",
       "\n",
       "[249 rows x 2 columns]"
      ]
     },
     "execution_count": 55,
     "metadata": {},
     "output_type": "execute_result"
    }
   ],
   "source": [
    "msftA = msft[[\"AdjClose\"]]\n",
    "closes = pd.concat([msftA, aaplA], axis = 1)\n",
    "closes"
   ]
  },
  {
   "cell_type": "code",
   "execution_count": 56,
   "metadata": {},
   "outputs": [
    {
     "data": {
      "text/plain": [
       "               MSFT                AAPL           \n",
       "           AdjClose     Volume AdjClose     Volume\n",
       "Date                                              \n",
       "2012-12-21   24.046  9.878e+07      NaN        NaN\n",
       "2012-12-24   23.704  2.084e+07      NaN        NaN\n",
       "2012-12-26   23.529  3.163e+07   66.523  1.080e+07\n",
       "2012-12-27   23.616  3.939e+07   66.791  1.625e+07\n",
       "2012-12-28   23.257  2.824e+07   66.081  1.265e+07"
      ]
     },
     "execution_count": 56,
     "metadata": {},
     "output_type": "execute_result"
    }
   ],
   "source": [
    "pd.concat([msftAV[:5], aaplAV[:3]], axis = 1, keys = [\"MSFT\", \"AAPL\"])"
   ]
  },
  {
   "cell_type": "code",
   "execution_count": 57,
   "metadata": {},
   "outputs": [
    {
     "data": {
      "text/plain": [
       "               MSFT     AAPL\n",
       "           AdjClose AdjClose\n",
       "Date                        \n",
       "2012-12-28   23.257   66.081\n",
       "2012-12-27   23.616   66.791\n",
       "2012-12-26   23.529   66.523"
      ]
     },
     "execution_count": 57,
     "metadata": {},
     "output_type": "execute_result"
    }
   ],
   "source": [
    "pd.concat([msftA[:5], aaplA[:3]], axis = 1, join = \"inner\" ,keys = [\"MSFT\", \"AAPL\"])"
   ]
  },
  {
   "cell_type": "code",
   "execution_count": 58,
   "metadata": {},
   "outputs": [
    {
     "data": {
      "text/plain": [
       "   AdjClose\n",
       "0    23.257\n",
       "1    23.616\n",
       "2    23.529\n",
       "3    66.081\n",
       "4    66.791\n",
       "5    66.523"
      ]
     },
     "execution_count": 58,
     "metadata": {},
     "output_type": "execute_result"
    }
   ],
   "source": [
    "pd.concat([msftA[:3], aaplA[:3]], ignore_index = True)"
   ]
  },
  {
   "cell_type": "markdown",
   "metadata": {},
   "source": [
    "# Merging"
   ]
  },
  {
   "cell_type": "markdown",
   "metadata": {},
   "source": [
    "## Combines data based on values"
   ]
  },
  {
   "cell_type": "code",
   "execution_count": 80,
   "metadata": {},
   "outputs": [
    {
     "data": {
      "text/plain": [
       "        Date  AdjClose\n",
       "0 2012-12-28    23.257\n",
       "1 2012-12-27    23.616\n",
       "2 2012-12-26    23.529"
      ]
     },
     "execution_count": 80,
     "metadata": {},
     "output_type": "execute_result"
    }
   ],
   "source": [
    "msftAR = msftA.reset_index()\n",
    "msftVR = msft[[\"Volume\"]].reset_index()\n",
    "msftAR[:3]"
   ]
  },
  {
   "cell_type": "code",
   "execution_count": 81,
   "metadata": {},
   "outputs": [
    {
     "data": {
      "text/plain": [
       "        Date     Volume\n",
       "0 2012-12-28  2.824e+07\n",
       "1 2012-12-27  3.939e+07\n",
       "2 2012-12-26  3.163e+07"
      ]
     },
     "execution_count": 81,
     "metadata": {},
     "output_type": "execute_result"
    }
   ],
   "source": [
    "msftVR[:3]"
   ]
  },
  {
   "cell_type": "code",
   "execution_count": 75,
   "metadata": {},
   "outputs": [
    {
     "data": {
      "text/plain": [
       "        Date  AdjClose\n",
       "0 2012-12-28    23.257\n",
       "1 2012-12-27    23.616\n",
       "2 2012-12-26    23.529\n",
       "3 2012-12-24    23.704\n",
       "4 2012-12-21    24.046"
      ]
     },
     "execution_count": 75,
     "metadata": {},
     "output_type": "execute_result"
    }
   ],
   "source": [
    "msft_5 = msftAR[:5]\n",
    "msft_5"
   ]
  },
  {
   "cell_type": "code",
   "execution_count": 82,
   "metadata": {},
   "outputs": [
    {
     "data": {
      "text/plain": [
       "        Date     Volume\n",
       "2 2012-12-26  3.163e+07\n",
       "3 2012-12-24  2.084e+07"
      ]
     },
     "execution_count": 82,
     "metadata": {},
     "output_type": "execute_result"
    }
   ],
   "source": [
    "msft_2_4 = msftVR[2:4]\n",
    "msft_2_4"
   ]
  },
  {
   "cell_type": "code",
   "execution_count": 84,
   "metadata": {},
   "outputs": [
    {
     "data": {
      "text/plain": [
       "        Date  AdjClose     Volume\n",
       "0 2012-12-26    23.529  3.163e+07\n",
       "1 2012-12-24    23.704  2.084e+07"
      ]
     },
     "execution_count": 84,
     "metadata": {},
     "output_type": "execute_result"
    }
   ],
   "source": [
    "#Inner join\n",
    "pd.merge(msft_5, msft_2_4)"
   ]
  },
  {
   "cell_type": "code",
   "execution_count": 85,
   "metadata": {},
   "outputs": [
    {
     "data": {
      "text/plain": [
       "        Date  AdjClose     Volume\n",
       "0 2012-12-28    23.257        NaN\n",
       "1 2012-12-27    23.616        NaN\n",
       "2 2012-12-26    23.529  3.163e+07\n",
       "3 2012-12-24    23.704  2.084e+07\n",
       "4 2012-12-21    24.046        NaN"
      ]
     },
     "execution_count": 85,
     "metadata": {},
     "output_type": "execute_result"
    }
   ],
   "source": [
    "pd.merge(msft_5, msft_2_4, how = \"outer\")"
   ]
  },
  {
   "cell_type": "markdown",
   "metadata": {},
   "source": [
    "\n",
    "# Pivoting"
   ]
  },
  {
   "cell_type": "code",
   "execution_count": 89,
   "metadata": {},
   "outputs": [
    {
     "data": {
      "text/plain": [
       "        Date Symbol    Open     High     Low    Close     Volume  ExDividend  \\\n",
       "0 2012-01-03   MSFT   26.55   26.960   26.39   26.765  6.473e+07         0.0   \n",
       "1 2012-01-03   AAPL  409.40  412.500  409.00  411.230  1.079e+07         0.0   \n",
       "2 2012-01-04   AAPL  410.00  414.680  409.28  413.440  9.286e+06         0.0   \n",
       "3 2012-01-04   MSFT   26.82   27.470   26.78   27.400  8.052e+07         0.0   \n",
       "4 2012-01-05   MSFT   27.38   27.728   27.29   27.680  5.608e+07         0.0   \n",
       "\n",
       "   SplitRatio  AdjOpen  AdjHigh  AdjLow  AdjClose  AdjVolume  \n",
       "0         1.0   22.609   22.958  22.473    22.792  6.473e+07  \n",
       "1         1.0   52.614   53.012  52.562    52.849  7.556e+07  \n",
       "2         1.0   52.691   53.292  52.598    53.133  6.501e+07  \n",
       "3         1.0   22.839   23.393  22.805    23.333  8.052e+07  \n",
       "4         1.0   23.316   23.612  23.239    23.571  5.608e+07  "
      ]
     },
     "execution_count": 89,
     "metadata": {},
     "output_type": "execute_result"
    }
   ],
   "source": [
    "#msft.insert(0, \"Symbol\", \"MSFT\")\n",
    "#aapl.insert(0, \"Symbol\", \"AAPL\")\n",
    "combined = pd.concat([msft, aapl]).sort_index()\n",
    "s4p = combined.reset_index()\n",
    "s4p[:5]"
   ]
  },
  {
   "cell_type": "code",
   "execution_count": 92,
   "metadata": {},
   "outputs": [
    {
     "data": {
      "text/plain": [
       "Symbol        AAPL    MSFT\n",
       "Date                      \n",
       "2012-01-03  52.849  22.792\n",
       "2012-01-04  53.133  23.333\n",
       "2012-01-05  53.723  23.571\n",
       "2012-01-06  54.284  23.933\n",
       "2012-01-09  54.198  23.623"
      ]
     },
     "execution_count": 92,
     "metadata": {},
     "output_type": "execute_result"
    }
   ],
   "source": [
    "closes = s4p.pivot(index = \"Date\", columns = \"Symbol\", values = \"AdjClose\")\n",
    "closes[:5]"
   ]
  },
  {
   "cell_type": "markdown",
   "metadata": {},
   "source": [
    "# Stacking and Unstacking"
   ]
  },
  {
   "cell_type": "code",
   "execution_count": 95,
   "metadata": {},
   "outputs": [
    {
     "data": {
      "text/plain": [
       "Date        Symbol\n",
       "2012-01-03  AAPL      52.849\n",
       "            MSFT      22.792\n",
       "2012-01-04  AAPL      53.133\n",
       "            MSFT      23.333\n",
       "                       ...  \n",
       "2012-12-27  AAPL      66.791\n",
       "            MSFT      23.616\n",
       "2012-12-28  AAPL      66.081\n",
       "            MSFT      23.257\n",
       "Length: 498, dtype: float64"
      ]
     },
     "execution_count": 95,
     "metadata": {},
     "output_type": "execute_result"
    }
   ],
   "source": [
    "stackedCloses = closes.stack()\n",
    "stackedCloses"
   ]
  },
  {
   "cell_type": "code",
   "execution_count": 99,
   "metadata": {},
   "outputs": [
    {
     "data": {
      "text/plain": [
       "52.848786580038"
      ]
     },
     "execution_count": 99,
     "metadata": {},
     "output_type": "execute_result"
    }
   ],
   "source": [
    "stackedCloses.loc[\"2012-01-03\", \"AAPL\"]"
   ]
  },
  {
   "cell_type": "code",
   "execution_count": 100,
   "metadata": {},
   "outputs": [
    {
     "data": {
      "text/plain": [
       "Date        Symbol\n",
       "2012-01-03  AAPL      52.849\n",
       "            MSFT      22.792\n",
       "dtype: float64"
      ]
     },
     "execution_count": 100,
     "metadata": {},
     "output_type": "execute_result"
    }
   ],
   "source": [
    "#Multiindex\n",
    "stackedCloses.loc[\"2012-01-03\"]"
   ]
  },
  {
   "cell_type": "code",
   "execution_count": 101,
   "metadata": {},
   "outputs": [
    {
     "data": {
      "text/plain": [
       "Date\n",
       "2012-01-03    52.849\n",
       "2012-01-04    53.133\n",
       "2012-01-05    53.723\n",
       "2012-01-06    54.284\n",
       "               ...  \n",
       "2012-12-24    67.453\n",
       "2012-12-26    66.523\n",
       "2012-12-27    66.791\n",
       "2012-12-28    66.081\n",
       "Length: 249, dtype: float64"
      ]
     },
     "execution_count": 101,
     "metadata": {},
     "output_type": "execute_result"
    }
   ],
   "source": [
    "stackedCloses.loc[:,\"AAPL\"]"
   ]
  },
  {
   "cell_type": "code",
   "execution_count": 102,
   "metadata": {},
   "outputs": [
    {
     "data": {
      "text/plain": [
       "Symbol        AAPL    MSFT\n",
       "Date                      \n",
       "2012-01-03  52.849  22.792\n",
       "2012-01-04  53.133  23.333\n",
       "2012-01-05  53.723  23.571\n",
       "2012-01-06  54.284  23.933\n",
       "...            ...     ...\n",
       "2012-12-24  67.453  23.704\n",
       "2012-12-26  66.523  23.529\n",
       "2012-12-27  66.791  23.616\n",
       "2012-12-28  66.081  23.257\n",
       "\n",
       "[249 rows x 2 columns]"
      ]
     },
     "execution_count": 102,
     "metadata": {},
     "output_type": "execute_result"
    }
   ],
   "source": [
    "unstackedCloses = stackedCloses.unstack()\n",
    "unstackedCloses"
   ]
  },
  {
   "cell_type": "markdown",
   "metadata": {},
   "source": [
    "# Melting"
   ]
  },
  {
   "cell_type": "code",
   "execution_count": 106,
   "metadata": {},
   "outputs": [
    {
     "data": {
      "text/plain": [
       "        Date Symbol variable   value\n",
       "0 2012-01-03   MSFT     Open   26.55\n",
       "1 2012-01-03   AAPL     Open  409.40\n",
       "2 2012-01-04   AAPL     Open  410.00\n",
       "3 2012-01-04   MSFT     Open   26.82\n",
       "4 2012-01-05   MSFT     Open   27.38"
      ]
     },
     "execution_count": 106,
     "metadata": {},
     "output_type": "execute_result"
    }
   ],
   "source": [
    "melted = pd.melt(s4p, id_vars = [\"Date\", \"Symbol\"])\n",
    "melted[:5]"
   ]
  },
  {
   "cell_type": "code",
   "execution_count": 105,
   "metadata": {},
   "outputs": [
    {
     "data": {
      "text/plain": [
       "           Date Symbol   variable      value\n",
       "0    2012-01-03   MSFT       Open  2.655e+01\n",
       "498  2012-01-03   MSFT       High  2.696e+01\n",
       "996  2012-01-03   MSFT        Low  2.639e+01\n",
       "1494 2012-01-03   MSFT      Close  2.677e+01\n",
       "...         ...    ...        ...        ...\n",
       "3984 2012-01-03   MSFT    AdjHigh  2.296e+01\n",
       "4482 2012-01-03   MSFT     AdjLow  2.247e+01\n",
       "4980 2012-01-03   MSFT   AdjClose  2.279e+01\n",
       "5478 2012-01-03   MSFT  AdjVolume  6.473e+07\n",
       "\n",
       "[12 rows x 4 columns]"
      ]
     },
     "execution_count": 105,
     "metadata": {},
     "output_type": "execute_result"
    }
   ],
   "source": [
    "melted[(melted.Date == \"2012-01-03\") & (melted.Symbol == \"MSFT\")]"
   ]
  },
  {
   "cell_type": "markdown",
   "metadata": {},
   "source": [
    "# Splitting "
   ]
  },
  {
   "cell_type": "code",
   "execution_count": 116,
   "metadata": {},
   "outputs": [
    {
     "data": {
      "text/plain": [
       "        Date  Year  Month  Day Symbol  AdjClose\n",
       "0 2012-01-03  2012      1    3   MSFT    22.792\n",
       "1 2012-01-03  2012      1    3   AAPL    52.849\n",
       "2 2012-01-04  2012      1    4   AAPL    53.133\n",
       "3 2012-01-04  2012      1    4   MSFT    23.333\n",
       "4 2012-01-05  2012      1    5   MSFT    23.571"
      ]
     },
     "execution_count": 116,
     "metadata": {},
     "output_type": "execute_result"
    }
   ],
   "source": [
    "s4g = combined[[\"Symbol\", \"AdjClose\"]].reset_index()\n",
    "s4g.insert(1, \"Year\", pd.DatetimeIndex(s4g[\"Date\"]).year)\n",
    "s4g.insert(2, \"Month\", pd.DatetimeIndex(s4g[\"Date\"]).month)\n",
    "s4g.insert(3, \"Day\", pd.DatetimeIndex(s4g[\"Date\"]).day)\n",
    "s4g[:5]"
   ]
  },
  {
   "cell_type": "code",
   "execution_count": 118,
   "metadata": {},
   "outputs": [
    {
     "data": {
      "text/plain": [
       "<pandas.core.groupby.DataFrameGroupBy object at 0x108648fd0>"
      ]
     },
     "execution_count": 118,
     "metadata": {},
     "output_type": "execute_result"
    }
   ],
   "source": [
    "s4g.groupby(\"Symbol\")"
   ]
  },
  {
   "cell_type": "code",
   "execution_count": 122,
   "metadata": {},
   "outputs": [
    {
     "data": {
      "text/plain": [
       "(2, 2)"
      ]
     },
     "execution_count": 122,
     "metadata": {},
     "output_type": "execute_result"
    }
   ],
   "source": [
    "grouped = s4g.groupby(\"Symbol\")\n",
    "#all the content of the groups\n",
    "grouped.groups\n",
    "\n",
    "#Number of groups\n",
    "len(grouped), grouped.ngroups"
   ]
  },
  {
   "cell_type": "code",
   "execution_count": 124,
   "metadata": {},
   "outputs": [
    {
     "name": "stdout",
     "output_type": "stream",
     "text": [
      "AAPL\n",
      "        Date  Year  Month  Day Symbol  AdjClose\n",
      "1 2012-01-03  2012      1    3   AAPL    52.849\n",
      "2 2012-01-04  2012      1    4   AAPL    53.133\n",
      "5 2012-01-05  2012      1    5   AAPL    53.723\n",
      "6 2012-01-06  2012      1    6   AAPL    54.284\n",
      "8 2012-01-09  2012      1    9   AAPL    54.198\n",
      "MSFT\n",
      "        Date  Year  Month  Day Symbol  AdjClose\n",
      "0 2012-01-03  2012      1    3   MSFT    22.792\n",
      "3 2012-01-04  2012      1    4   MSFT    23.333\n",
      "4 2012-01-05  2012      1    5   MSFT    23.571\n",
      "7 2012-01-06  2012      1    6   MSFT    23.933\n",
      "9 2012-01-09  2012      1    9   MSFT    23.623\n"
     ]
    }
   ],
   "source": [
    "#In order to get the groupby to work\n",
    "\"\"\"for each name print its head\"\"\"\n",
    "\n",
    "def print_groups(groupobject):\n",
    "    for name, group in groupobject:\n",
    "        print (name)\n",
    "        print (group.head())\n",
    "\n",
    "print_groups(grouped)"
   ]
  },
  {
   "cell_type": "code",
   "execution_count": 125,
   "metadata": {},
   "outputs": [
    {
     "data": {
      "text/plain": [
       "Symbol\n",
       "AAPL    249\n",
       "MSFT    249\n",
       "dtype: int64"
      ]
     },
     "execution_count": 125,
     "metadata": {},
     "output_type": "execute_result"
    }
   ],
   "source": [
    "#Size summary\n",
    "grouped.size()"
   ]
  },
  {
   "cell_type": "code",
   "execution_count": 126,
   "metadata": {},
   "outputs": [
    {
     "data": {
      "text/plain": [
       "          Date  Year  Month  Day Symbol  AdjClose\n",
       "0   2012-01-03  2012      1    3   MSFT    22.792\n",
       "3   2012-01-04  2012      1    4   MSFT    23.333\n",
       "4   2012-01-05  2012      1    5   MSFT    23.571\n",
       "7   2012-01-06  2012      1    6   MSFT    23.933\n",
       "..         ...   ...    ...  ...    ...       ...\n",
       "490 2012-12-24  2012     12   24   MSFT    23.704\n",
       "492 2012-12-26  2012     12   26   MSFT    23.529\n",
       "494 2012-12-27  2012     12   27   MSFT    23.616\n",
       "497 2012-12-28  2012     12   28   MSFT    23.257\n",
       "\n",
       "[249 rows x 6 columns]"
      ]
     },
     "execution_count": 126,
     "metadata": {},
     "output_type": "execute_result"
    }
   ],
   "source": [
    "#Get the group\n",
    "grouped.get_group(\"MSFT\")"
   ]
  },
  {
   "cell_type": "code",
   "execution_count": 129,
   "metadata": {
    "scrolled": true
   },
   "outputs": [
    {
     "name": "stdout",
     "output_type": "stream",
     "text": [
      "('AAPL', 2012, 1)\n",
      "        Date  Year  Month  Day Symbol  AdjClose\n",
      "1 2012-01-03  2012      1    3   AAPL    52.849\n",
      "2 2012-01-04  2012      1    4   AAPL    53.133\n",
      "5 2012-01-05  2012      1    5   AAPL    53.723\n",
      "6 2012-01-06  2012      1    6   AAPL    54.284\n",
      "8 2012-01-09  2012      1    9   AAPL    54.198\n",
      "('AAPL', 2012, 2)\n",
      "         Date  Year  Month  Day Symbol  AdjClose\n",
      "41 2012-02-01  2012      2    1   AAPL    58.627\n",
      "42 2012-02-02  2012      2    2   AAPL    58.489\n",
      "45 2012-02-03  2012      2    3   AAPL    59.075\n",
      "47 2012-02-06  2012      2    6   AAPL    59.627\n",
      "49 2012-02-07  2012      2    7   AAPL    60.251\n",
      "('AAPL', 2012, 3)\n",
      "         Date  Year  Month  Day Symbol  AdjClose\n",
      "80 2012-03-01  2012      3    1   AAPL    69.972\n",
      "83 2012-03-02  2012      3    2   AAPL    70.063\n",
      "85 2012-03-05  2012      3    5   AAPL    68.518\n",
      "86 2012-03-06  2012      3    6   AAPL    68.146\n",
      "88 2012-03-07  2012      3    7   AAPL    68.201\n",
      "('AAPL', 2012, 4)\n",
      "          Date  Year  Month  Day Symbol  AdjClose\n",
      "125 2012-04-02  2012      4    2   AAPL    79.503\n",
      "126 2012-04-03  2012      4    3   AAPL    80.876\n",
      "129 2012-04-04  2012      4    4   AAPL    80.233\n",
      "131 2012-04-05  2012      4    5   AAPL    81.437\n",
      "133 2012-04-09  2012      4    9   AAPL    81.764\n",
      "('AAPL', 2012, 5)\n",
      "          Date  Year  Month  Day Symbol  AdjClose\n",
      "165 2012-05-01  2012      5    1   AAPL    74.812\n",
      "167 2012-05-02  2012      5    2   AAPL    75.307\n",
      "169 2012-05-03  2012      5    3   AAPL    74.772\n",
      "170 2012-05-04  2012      5    4   AAPL    72.643\n",
      "172 2012-05-07  2012      5    7   AAPL    73.186\n",
      "('AAPL', 2012, 6)\n",
      "          Date  Year  Month  Day Symbol  AdjClose\n",
      "209 2012-06-01  2012      6    1   AAPL    72.095\n",
      "211 2012-06-04  2012      6    4   AAPL    72.519\n",
      "213 2012-06-05  2012      6    5   AAPL    72.331\n",
      "214 2012-06-06  2012      6    6   AAPL    73.441\n",
      "216 2012-06-07  2012      6    7   AAPL    73.474\n",
      "('AAPL', 2012, 7)\n",
      "          Date  Year  Month  Day Symbol  AdjClose\n",
      "250 2012-07-02  2012      7    2   AAPL    76.147\n",
      "253 2012-07-03  2012      7    3   AAPL    77.033\n",
      "254 2012-07-05  2012      7    5   AAPL    78.386\n",
      "257 2012-07-06  2012      7    6   AAPL    77.864\n",
      "258 2012-07-09  2012      7    9   AAPL    78.893\n",
      "('AAPL', 2012, 8)\n",
      "          Date  Year  Month  Day Symbol  AdjClose\n",
      "293 2012-08-01  2012      8    1   AAPL    77.984\n",
      "295 2012-08-02  2012      8    2   AAPL    78.109\n",
      "296 2012-08-03  2012      8    3   AAPL    79.126\n",
      "299 2012-08-06  2012      8    6   AAPL    80.006\n",
      "300 2012-08-07  2012      8    7   AAPL    79.796\n",
      "('AAPL', 2012, 9)\n",
      "          Date  Year  Month  Day Symbol  AdjClose\n",
      "338 2012-09-04  2012      9    4   AAPL    87.113\n",
      "341 2012-09-05  2012      9    5   AAPL    86.502\n",
      "342 2012-09-06  2012      9    6   AAPL    87.281\n",
      "344 2012-09-07  2012      9    7   AAPL    87.819\n",
      "346 2012-09-10  2012      9   10   AAPL    85.535\n",
      "('AAPL', 2012, 10)\n",
      "          Date  Year  Month  Day Symbol  AdjClose\n",
      "376 2012-10-01  2012     10    1   AAPL    85.103\n",
      "378 2012-10-02  2012     10    2   AAPL    85.350\n",
      "380 2012-10-03  2012     10    3   AAPL    86.659\n",
      "383 2012-10-04  2012     10    4   AAPL    86.059\n",
      "385 2012-10-05  2012     10    5   AAPL    84.225\n",
      "('AAPL', 2012, 11)\n",
      "          Date  Year  Month  Day Symbol  AdjClose\n",
      "419 2012-11-01  2012     11    1   AAPL    76.991\n",
      "421 2012-11-02  2012     11    2   AAPL    74.443\n",
      "423 2012-11-05  2012     11    5   AAPL    75.453\n",
      "425 2012-11-06  2012     11    6   AAPL    75.224\n",
      "426 2012-11-07  2012     11    7   AAPL    72.359\n",
      "('AAPL', 2012, 12)\n",
      "          Date  Year  Month  Day Symbol  AdjClose\n",
      "460 2012-12-03  2012     12    3   AAPL    76.014\n",
      "463 2012-12-04  2012     12    4   AAPL    74.673\n",
      "464 2012-12-05  2012     12    5   AAPL    69.868\n",
      "467 2012-12-06  2012     12    6   AAPL    70.964\n",
      "469 2012-12-07  2012     12    7   AAPL    69.149\n",
      "('MSFT', 2012, 1)\n",
      "        Date  Year  Month  Day Symbol  AdjClose\n",
      "0 2012-01-03  2012      1    3   MSFT    22.792\n",
      "3 2012-01-04  2012      1    4   MSFT    23.333\n",
      "4 2012-01-05  2012      1    5   MSFT    23.571\n",
      "7 2012-01-06  2012      1    6   MSFT    23.933\n",
      "9 2012-01-09  2012      1    9   MSFT    23.623\n",
      "('MSFT', 2012, 2)\n",
      "         Date  Year  Month  Day Symbol  AdjClose\n",
      "40 2012-02-01  2012      2    1   MSFT    25.453\n",
      "43 2012-02-02  2012      2    2   MSFT    25.504\n",
      "44 2012-02-03  2012      2    3   MSFT    25.751\n",
      "46 2012-02-06  2012      2    6   MSFT    25.717\n",
      "48 2012-02-07  2012      2    7   MSFT    25.845\n",
      "('MSFT', 2012, 3)\n",
      "         Date  Year  Month  Day Symbol  AdjClose\n",
      "81 2012-03-01  2012      3    1   MSFT    27.679\n",
      "82 2012-03-02  2012      3    2   MSFT    27.495\n",
      "84 2012-03-05  2012      3    5   MSFT    27.259\n",
      "87 2012-03-06  2012      3    6   MSFT    27.049\n",
      "89 2012-03-07  2012      3    7   MSFT    27.293\n",
      "('MSFT', 2012, 4)\n",
      "          Date  Year  Month  Day Symbol  AdjClose\n",
      "124 2012-04-02  2012      4    2   MSFT    27.679\n",
      "127 2012-04-03  2012      4    3   MSFT    27.379\n",
      "128 2012-04-04  2012      4    4   MSFT    26.753\n",
      "130 2012-04-05  2012      4    5   MSFT    27.019\n",
      "132 2012-04-09  2012      4    9   MSFT    26.659\n",
      "('MSFT', 2012, 5)\n",
      "          Date  Year  Month  Day Symbol  AdjClose\n",
      "164 2012-05-01  2012      5    1   MSFT    27.439\n",
      "166 2012-05-02  2012      5    2   MSFT    27.259\n",
      "168 2012-05-03  2012      5    3   MSFT    27.225\n",
      "171 2012-05-04  2012      5    4   MSFT    26.556\n",
      "173 2012-05-07  2012      5    7   MSFT    26.273\n",
      "('MSFT', 2012, 6)\n",
      "          Date  Year  Month  Day Symbol  AdjClose\n",
      "208 2012-06-01  2012      6    1   MSFT    24.549\n",
      "210 2012-06-04  2012      6    4   MSFT    24.635\n",
      "212 2012-06-05  2012      6    5   MSFT    24.596\n",
      "215 2012-06-06  2012      6    6   MSFT    25.325\n",
      "217 2012-06-07  2012      6    7   MSFT    25.222\n",
      "('MSFT', 2012, 7)\n",
      "          Date  Year  Month  Day Symbol  AdjClose\n",
      "251 2012-07-02  2012      7    2   MSFT    26.369\n",
      "252 2012-07-03  2012      7    3   MSFT    26.542\n",
      "255 2012-07-05  2012      7    5   MSFT    26.490\n",
      "256 2012-07-06  2012      7    6   MSFT    26.046\n",
      "259 2012-07-09  2012      7    9   MSFT    25.886\n",
      "('MSFT', 2012, 8)\n",
      "          Date  Year  Month  Day Symbol  AdjClose\n",
      "292 2012-08-01  2012      8    1   MSFT    25.377\n",
      "294 2012-08-02  2012      8    2   MSFT    25.187\n",
      "297 2012-08-03  2012      8    3   MSFT    25.671\n",
      "298 2012-08-06  2012      8    6   MSFT    25.843\n",
      "301 2012-08-07  2012      8    7   MSFT    26.111\n",
      "('MSFT', 2012, 9)\n",
      "          Date  Year  Month  Day Symbol  AdjClose\n",
      "339 2012-09-04  2012      9    4   MSFT    26.392\n",
      "340 2012-09-05  2012      9    5   MSFT    26.397\n",
      "343 2012-09-06  2012      9    6   MSFT    27.226\n",
      "345 2012-09-07  2012      9    7   MSFT    26.883\n",
      "347 2012-09-10  2012      9   10   MSFT    26.683\n",
      "('MSFT', 2012, 10)\n",
      "          Date  Year  Month  Day Symbol  AdjClose\n",
      "377 2012-10-01  2012     10    1   MSFT    25.615\n",
      "379 2012-10-02  2012     10    2   MSFT    25.763\n",
      "381 2012-10-03  2012     10    3   MSFT    25.936\n",
      "382 2012-10-04  2012     10    4   MSFT    26.084\n",
      "384 2012-10-05  2012     10    5   MSFT    25.928\n",
      "('MSFT', 2012, 11)\n",
      "          Date  Year  Month  Day Symbol  AdjClose\n",
      "418 2012-11-01  2012     11    1   MSFT    25.637\n",
      "420 2012-11-02  2012     11    2   MSFT    25.624\n",
      "422 2012-11-05  2012     11    5   MSFT    25.737\n",
      "424 2012-11-06  2012     11    6   MSFT    25.936\n",
      "427 2012-11-07  2012     11    7   MSFT    25.259\n",
      "('MSFT', 2012, 12)\n",
      "          Date  Year  Month  Day Symbol  AdjClose\n",
      "461 2012-12-03  2012     12    3   MSFT    23.152\n",
      "462 2012-12-04  2012     12    4   MSFT    23.100\n",
      "465 2012-12-05  2012     12    5   MSFT    23.362\n",
      "466 2012-12-06  2012     12    6   MSFT    23.410\n",
      "468 2012-12-07  2012     12    7   MSFT    23.174\n"
     ]
    }
   ],
   "source": [
    "mcg  = s4g.groupby([\"Symbol\", \"Year\", \"Month\"])\n",
    "print_groups(mcg)"
   ]
  },
  {
   "cell_type": "code",
   "execution_count": 130,
   "metadata": {},
   "outputs": [
    {
     "data": {
      "text/plain": [
       "                        Date  Day  AdjClose\n",
       "Symbol Year Month                          \n",
       "MSFT   2012 1     2012-01-03    3    22.792\n",
       "AAPL   2012 1     2012-01-03    3    52.849\n",
       "            1     2012-01-04    4    53.133\n",
       "MSFT   2012 1     2012-01-04    4    23.333\n",
       "...                      ...  ...       ...\n",
       "            12    2012-12-27   27    23.616\n",
       "AAPL   2012 12    2012-12-27   27    66.791\n",
       "            12    2012-12-28   28    66.081\n",
       "MSFT   2012 12    2012-12-28   28    23.257\n",
       "\n",
       "[498 rows x 3 columns]"
      ]
     },
     "execution_count": 130,
     "metadata": {},
     "output_type": "execute_result"
    }
   ],
   "source": [
    "#Multi-index\n",
    "mi = s4g.set_index([\"Symbol\", \"Year\", \"Month\"])\n",
    "mi"
   ]
  },
  {
   "cell_type": "code",
   "execution_count": 138,
   "metadata": {},
   "outputs": [
    {
     "name": "stdout",
     "output_type": "stream",
     "text": [
      "AAPL\n",
      "                        Date  Day  AdjClose\n",
      "Symbol Year Month                          \n",
      "AAPL   2012 1     2012-01-03    3    52.849\n",
      "            1     2012-01-04    4    53.133\n",
      "            1     2012-01-05    5    53.723\n",
      "            1     2012-01-06    6    54.284\n",
      "            1     2012-01-09    9    54.198\n",
      "MSFT\n",
      "                        Date  Day  AdjClose\n",
      "Symbol Year Month                          \n",
      "MSFT   2012 1     2012-01-03    3    22.792\n",
      "            1     2012-01-04    4    23.333\n",
      "            1     2012-01-05    5    23.571\n",
      "            1     2012-01-06    6    23.933\n",
      "            1     2012-01-09    9    23.623\n"
     ]
    }
   ],
   "source": [
    "#Grouping can now be performed  using the levels of the hierarchical index\n",
    "#Level 0 = index = 0\n",
    "mig_11 = mi.groupby(level = 0)\n",
    "print_groups(mig_11)"
   ]
  },
  {
   "cell_type": "code",
   "execution_count": 140,
   "metadata": {},
   "outputs": [
    {
     "name": "stdout",
     "output_type": "stream",
     "text": [
      "('AAPL', 2012, 1)\n",
      "                        Date  Day  AdjClose\n",
      "Symbol Year Month                          \n",
      "AAPL   2012 1     2012-01-03    3    52.849\n",
      "            1     2012-01-04    4    53.133\n",
      "            1     2012-01-05    5    53.723\n",
      "            1     2012-01-06    6    54.284\n",
      "            1     2012-01-09    9    54.198\n",
      "('AAPL', 2012, 2)\n",
      "                        Date  Day  AdjClose\n",
      "Symbol Year Month                          \n",
      "AAPL   2012 2     2012-02-01    1    58.627\n",
      "            2     2012-02-02    2    58.489\n",
      "            2     2012-02-03    3    59.075\n",
      "            2     2012-02-06    6    59.627\n",
      "            2     2012-02-07    7    60.251\n",
      "('AAPL', 2012, 3)\n",
      "                        Date  Day  AdjClose\n",
      "Symbol Year Month                          \n",
      "AAPL   2012 3     2012-03-01    1    69.972\n",
      "            3     2012-03-02    2    70.063\n",
      "            3     2012-03-05    5    68.518\n",
      "            3     2012-03-06    6    68.146\n",
      "            3     2012-03-07    7    68.201\n",
      "('AAPL', 2012, 4)\n",
      "                        Date  Day  AdjClose\n",
      "Symbol Year Month                          \n",
      "AAPL   2012 4     2012-04-02    2    79.503\n",
      "            4     2012-04-03    3    80.876\n",
      "            4     2012-04-04    4    80.233\n",
      "            4     2012-04-05    5    81.437\n",
      "            4     2012-04-09    9    81.764\n",
      "('AAPL', 2012, 5)\n",
      "                        Date  Day  AdjClose\n",
      "Symbol Year Month                          \n",
      "AAPL   2012 5     2012-05-01    1    74.812\n",
      "            5     2012-05-02    2    75.307\n",
      "            5     2012-05-03    3    74.772\n",
      "            5     2012-05-04    4    72.643\n",
      "            5     2012-05-07    7    73.186\n",
      "('AAPL', 2012, 6)\n",
      "                        Date  Day  AdjClose\n",
      "Symbol Year Month                          \n",
      "AAPL   2012 6     2012-06-01    1    72.095\n",
      "            6     2012-06-04    4    72.519\n",
      "            6     2012-06-05    5    72.331\n",
      "            6     2012-06-06    6    73.441\n",
      "            6     2012-06-07    7    73.474\n",
      "('AAPL', 2012, 7)\n",
      "                        Date  Day  AdjClose\n",
      "Symbol Year Month                          \n",
      "AAPL   2012 7     2012-07-02    2    76.147\n",
      "            7     2012-07-03    3    77.033\n",
      "            7     2012-07-05    5    78.386\n",
      "            7     2012-07-06    6    77.864\n",
      "            7     2012-07-09    9    78.893\n",
      "('AAPL', 2012, 8)\n",
      "                        Date  Day  AdjClose\n",
      "Symbol Year Month                          \n",
      "AAPL   2012 8     2012-08-01    1    77.984\n",
      "            8     2012-08-02    2    78.109\n",
      "            8     2012-08-03    3    79.126\n",
      "            8     2012-08-06    6    80.006\n",
      "            8     2012-08-07    7    79.796\n",
      "('AAPL', 2012, 9)\n",
      "                        Date  Day  AdjClose\n",
      "Symbol Year Month                          \n",
      "AAPL   2012 9     2012-09-04    4    87.113\n",
      "            9     2012-09-05    5    86.502\n",
      "            9     2012-09-06    6    87.281\n",
      "            9     2012-09-07    7    87.819\n",
      "            9     2012-09-10   10    85.535\n",
      "('AAPL', 2012, 10)\n",
      "                        Date  Day  AdjClose\n",
      "Symbol Year Month                          \n",
      "AAPL   2012 10    2012-10-01    1    85.103\n",
      "            10    2012-10-02    2    85.350\n",
      "            10    2012-10-03    3    86.659\n",
      "            10    2012-10-04    4    86.059\n",
      "            10    2012-10-05    5    84.225\n",
      "('AAPL', 2012, 11)\n",
      "                        Date  Day  AdjClose\n",
      "Symbol Year Month                          \n",
      "AAPL   2012 11    2012-11-01    1    76.991\n",
      "            11    2012-11-02    2    74.443\n",
      "            11    2012-11-05    5    75.453\n",
      "            11    2012-11-06    6    75.224\n",
      "            11    2012-11-07    7    72.359\n",
      "('AAPL', 2012, 12)\n",
      "                        Date  Day  AdjClose\n",
      "Symbol Year Month                          \n",
      "AAPL   2012 12    2012-12-03    3    76.014\n",
      "            12    2012-12-04    4    74.673\n",
      "            12    2012-12-05    5    69.868\n",
      "            12    2012-12-06    6    70.964\n",
      "            12    2012-12-07    7    69.149\n",
      "('MSFT', 2012, 1)\n",
      "                        Date  Day  AdjClose\n",
      "Symbol Year Month                          \n",
      "MSFT   2012 1     2012-01-03    3    22.792\n",
      "            1     2012-01-04    4    23.333\n",
      "            1     2012-01-05    5    23.571\n",
      "            1     2012-01-06    6    23.933\n",
      "            1     2012-01-09    9    23.623\n",
      "('MSFT', 2012, 2)\n",
      "                        Date  Day  AdjClose\n",
      "Symbol Year Month                          \n",
      "MSFT   2012 2     2012-02-01    1    25.453\n",
      "            2     2012-02-02    2    25.504\n",
      "            2     2012-02-03    3    25.751\n",
      "            2     2012-02-06    6    25.717\n",
      "            2     2012-02-07    7    25.845\n",
      "('MSFT', 2012, 3)\n",
      "                        Date  Day  AdjClose\n",
      "Symbol Year Month                          \n",
      "MSFT   2012 3     2012-03-01    1    27.679\n",
      "            3     2012-03-02    2    27.495\n",
      "            3     2012-03-05    5    27.259\n",
      "            3     2012-03-06    6    27.049\n",
      "            3     2012-03-07    7    27.293\n",
      "('MSFT', 2012, 4)\n",
      "                        Date  Day  AdjClose\n",
      "Symbol Year Month                          \n",
      "MSFT   2012 4     2012-04-02    2    27.679\n",
      "            4     2012-04-03    3    27.379\n",
      "            4     2012-04-04    4    26.753\n",
      "            4     2012-04-05    5    27.019\n",
      "            4     2012-04-09    9    26.659\n",
      "('MSFT', 2012, 5)\n",
      "                        Date  Day  AdjClose\n",
      "Symbol Year Month                          \n",
      "MSFT   2012 5     2012-05-01    1    27.439\n",
      "            5     2012-05-02    2    27.259\n",
      "            5     2012-05-03    3    27.225\n",
      "            5     2012-05-04    4    26.556\n",
      "            5     2012-05-07    7    26.273\n",
      "('MSFT', 2012, 6)\n",
      "                        Date  Day  AdjClose\n",
      "Symbol Year Month                          \n",
      "MSFT   2012 6     2012-06-01    1    24.549\n",
      "            6     2012-06-04    4    24.635\n",
      "            6     2012-06-05    5    24.596\n",
      "            6     2012-06-06    6    25.325\n",
      "            6     2012-06-07    7    25.222\n",
      "('MSFT', 2012, 7)\n",
      "                        Date  Day  AdjClose\n",
      "Symbol Year Month                          \n",
      "MSFT   2012 7     2012-07-02    2    26.369\n",
      "            7     2012-07-03    3    26.542\n",
      "            7     2012-07-05    5    26.490\n",
      "            7     2012-07-06    6    26.046\n",
      "            7     2012-07-09    9    25.886\n",
      "('MSFT', 2012, 8)\n",
      "                        Date  Day  AdjClose\n",
      "Symbol Year Month                          \n",
      "MSFT   2012 8     2012-08-01    1    25.377\n",
      "            8     2012-08-02    2    25.187\n",
      "            8     2012-08-03    3    25.671\n",
      "            8     2012-08-06    6    25.843\n",
      "            8     2012-08-07    7    26.111\n",
      "('MSFT', 2012, 9)\n",
      "                        Date  Day  AdjClose\n",
      "Symbol Year Month                          \n",
      "MSFT   2012 9     2012-09-04    4    26.392\n",
      "            9     2012-09-05    5    26.397\n",
      "            9     2012-09-06    6    27.226\n",
      "            9     2012-09-07    7    26.883\n",
      "            9     2012-09-10   10    26.683\n",
      "('MSFT', 2012, 10)\n",
      "                        Date  Day  AdjClose\n",
      "Symbol Year Month                          \n",
      "MSFT   2012 10    2012-10-01    1    25.615\n",
      "            10    2012-10-02    2    25.763\n",
      "            10    2012-10-03    3    25.936\n",
      "            10    2012-10-04    4    26.084\n",
      "            10    2012-10-05    5    25.928\n",
      "('MSFT', 2012, 11)\n",
      "                        Date  Day  AdjClose\n",
      "Symbol Year Month                          \n",
      "MSFT   2012 11    2012-11-01    1    25.637\n",
      "            11    2012-11-02    2    25.624\n",
      "            11    2012-11-05    5    25.737\n",
      "            11    2012-11-06    6    25.936\n",
      "            11    2012-11-07    7    25.259\n",
      "('MSFT', 2012, 12)\n",
      "                        Date  Day  AdjClose\n",
      "Symbol Year Month                          \n",
      "MSFT   2012 12    2012-12-03    3    23.152\n",
      "            12    2012-12-04    4    23.100\n",
      "            12    2012-12-05    5    23.362\n",
      "            12    2012-12-06    6    23.410\n",
      "            12    2012-12-07    7    23.174\n"
     ]
    }
   ],
   "source": [
    "#Grouping by multiple levels by passing mult levels tp groupby \n",
    "mig_112 = mi.groupby(level = [\"Symbol\", \"Year\", \"Month\"])\n",
    "print_groups(mig_112)"
   ]
  },
  {
   "cell_type": "markdown",
   "metadata": {},
   "source": [
    "# Aggregating"
   ]
  },
  {
   "cell_type": "code",
   "execution_count": 142,
   "metadata": {},
   "outputs": [
    {
     "data": {
      "text/plain": [
       "                      Day  AdjClose\n",
       "Symbol Year Month                  \n",
       "AAPL   2012 1      16.650    55.078\n",
       "            2      14.750    63.945\n",
       "            3      16.045    74.218\n",
       "            4      15.700    77.880\n",
       "...                   ...       ...\n",
       "MSFT   2012 9      16.158    26.736\n",
       "            10     14.333    25.247\n",
       "            11     15.762    24.280\n",
       "            12     15.000    23.633\n",
       "\n",
       "[24 rows x 2 columns]"
      ]
     },
     "execution_count": 142,
     "metadata": {},
     "output_type": "execute_result"
    }
   ],
   "source": [
    "#Having looked at how to group stock data by month, we can develop methods to calc risk of stock based on time\n",
    "\n",
    "\"\"\".agg() is a method that applies a function to each group\"\"\"\n",
    "\n",
    "mig_112.agg(np.mean)"
   ]
  },
  {
   "cell_type": "code",
   "execution_count": 143,
   "metadata": {},
   "outputs": [
    {
     "data": {
      "text/plain": [
       "   Symbol  Year  Month     Day  AdjClose\n",
       "0    AAPL  2012      1  16.650    55.078\n",
       "1    AAPL  2012      2  14.750    63.945\n",
       "2    AAPL  2012      3  16.045    74.218\n",
       "3    AAPL  2012      4  15.700    77.880\n",
       "..    ...   ...    ...     ...       ...\n",
       "20   MSFT  2012      9  16.158    26.736\n",
       "21   MSFT  2012     10  14.333    25.247\n",
       "22   MSFT  2012     11  15.762    24.280\n",
       "23   MSFT  2012     12  15.000    23.633\n",
       "\n",
       "[24 rows x 5 columns]"
      ]
     },
     "execution_count": 143,
     "metadata": {},
     "output_type": "execute_result"
    }
   ],
   "source": [
    "#Use different index than the original df so as not to duplicate  it\n",
    "\"\"\"SPLIT PART                                             AGGREGATE PART\"\"\"\n",
    "s4g.groupby([\"Symbol\", \"Year\", \"Month\"], as_index = False).agg(np.mean)"
   ]
  },
  {
   "cell_type": "code",
   "execution_count": 144,
   "metadata": {},
   "outputs": [
    {
     "data": {
      "text/plain": [
       "                      Day        AdjClose       \n",
       "                     mean    std     mean    std\n",
       "Symbol Year Month                               \n",
       "AAPL   2012 1      16.650  8.964   55.078  1.715\n",
       "            2      14.750  8.920   63.945  3.405\n",
       "            3      16.045  9.079   74.218  3.970\n",
       "            4      15.700  8.597   77.880  2.921\n",
       "...                   ...    ...      ...    ...\n",
       "MSFT   2012 9      16.158  7.819   26.736  0.402\n",
       "            10     14.333  8.822   25.247  0.622\n",
       "            11     15.762  9.203   24.280  0.932\n",
       "            12     15.000  8.062   23.633  0.340\n",
       "\n",
       "[24 rows x 4 columns]"
      ]
     },
     "execution_count": 144,
     "metadata": {},
     "output_type": "execute_result"
    }
   ],
   "source": [
    "#Pass multiple aggregatioin functions\n",
    "mig_112.agg([np.mean, np.std])"
   ]
  }
 ],
 "metadata": {
  "kernelspec": {
   "display_name": "Python 3",
   "language": "python",
   "name": "python3"
  },
  "language_info": {
   "codemirror_mode": {
    "name": "ipython",
    "version": 3
   },
   "file_extension": ".py",
   "mimetype": "text/x-python",
   "name": "python",
   "nbconvert_exporter": "python",
   "pygments_lexer": "ipython3",
   "version": "3.7.3"
  }
 },
 "nbformat": 4,
 "nbformat_minor": 2
}

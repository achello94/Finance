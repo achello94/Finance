{
 "cells": [
  {
   "cell_type": "markdown",
   "metadata": {},
   "source": [
    "# Introduction to Numpy\n",
    "\n",
    "Linear algebra library for manipulating arrays and matrics"
   ]
  },
  {
   "cell_type": "code",
   "execution_count": 2,
   "metadata": {},
   "outputs": [],
   "source": [
    "import numpy as np\n",
    "import matplotlib.pyplot as plt\n",
    "plt.rcParams['figure.figsize'] = [15, 5]"
   ]
  },
  {
   "cell_type": "markdown",
   "metadata": {},
   "source": [
    "# 1. NumPy Arrays\n",
    "\n",
    "NumPy arrays will create an n-dimensional array\n",
    "\n",
    "$\\text{n-dimensions:}$ $\\begin{cases} \\text{1-dimension} & \\text{list} \\\\ \\text{2-dimension} & \\text{list of lists} \\\\ \\text{3-dimension} & \\text{list of lists of lists} \\end{cases}$\n",
    "\n",
    "## a. 1-Dimensional Array, i.e Vector"
   ]
  },
  {
   "cell_type": "code",
   "execution_count": 62,
   "metadata": {},
   "outputs": [
    {
     "data": {
      "text/plain": [
       "array([3.5, 5. , 2. , 8. , 4.2])"
      ]
     },
     "execution_count": 62,
     "metadata": {},
     "output_type": "execute_result"
    }
   ],
   "source": [
    "# Create a simple stock return list\n",
    "stock_list = [3.5, 5, 2, 8, 4.2]\n",
    "\n",
    "# Parse the list as a numpy array'\n",
    "\n",
    "returns = np.array(stock_list)\n",
    "returns"
   ]
  },
  {
   "cell_type": "markdown",
   "metadata": {},
   "source": [
    "## b. 2-Dimensional Array, i.e. Matrix\n",
    "\n",
    "Nested lists with each set of lists representing a row"
   ]
  },
  {
   "cell_type": "code",
   "execution_count": 4,
   "metadata": {},
   "outputs": [
    {
     "data": {
      "text/plain": [
       "array([[1, 2],\n",
       "       [3, 4]])"
      ]
     },
     "execution_count": 4,
     "metadata": {},
     "output_type": "execute_result"
    }
   ],
   "source": [
    "A = np.array([[1,2],[3,4]])\n",
    "A"
   ]
  },
  {
   "cell_type": "markdown",
   "metadata": {},
   "source": [
    "## Changing Shape of Arrays\n",
    "\n",
    "- Check the **shape** of the array: using the shape attribute of `np.arrays() `\n",
    "\n",
    "- **Reshape** the array specifying the appropriate number of row and column dimensions"
   ]
  },
  {
   "cell_type": "code",
   "execution_count": 8,
   "metadata": {},
   "outputs": [
    {
     "data": {
      "text/plain": [
       "(2, 2)"
      ]
     },
     "execution_count": 8,
     "metadata": {},
     "output_type": "execute_result"
    }
   ],
   "source": [
    "# Check the shape\n",
    "A.shape"
   ]
  },
  {
   "cell_type": "code",
   "execution_count": 10,
   "metadata": {},
   "outputs": [
    {
     "data": {
      "text/plain": [
       "array([[1, 2, 3, 4]])"
      ]
     },
     "execution_count": 10,
     "metadata": {},
     "output_type": "execute_result"
    }
   ],
   "source": [
    "# Reshape the array\n",
    "A.reshape(1,4)"
   ]
  },
  {
   "cell_type": "markdown",
   "metadata": {},
   "source": [
    "## Indexing and Slicing Arrays\n",
    "\n",
    "Same principle that applies to Python Lists\n",
    "\n",
    "### 1-Dimensional Array"
   ]
  },
  {
   "cell_type": "code",
   "execution_count": 15,
   "metadata": {},
   "outputs": [
    {
     "name": "stdout",
     "output_type": "stream",
     "text": [
      "first element: 3.5, last element: 4.2, elements in between: [5. 2.]\n"
     ]
    }
   ],
   "source": [
    "# Print first and last element of the returns array\n",
    "print(\"first element: {}, last element: {}, elements in between: {}\".format(\n",
    "    returns[0], returns[len(returns) - 1], returns[1:3]))"
   ]
  },
  {
   "cell_type": "markdown",
   "metadata": {},
   "source": [
    "### 2-Dimensional Array (Matrix)\n",
    "\n",
    "1. **Slicing with row and columns:**\n",
    "\n",
    "`A[row element i : row element j, col element n : col element m]`"
   ]
  },
  {
   "cell_type": "code",
   "execution_count": 26,
   "metadata": {},
   "outputs": [
    {
     "name": "stdout",
     "output_type": "stream",
     "text": [
      "[[1 2]\n",
      " [3 4]], first column: [1 3], first row: [1 2]\n"
     ]
    }
   ],
   "source": [
    "print(\"{}, first column: {}, first row: {}\".format(\n",
    "            A[:,:], A[:,0], A[0,:]))"
   ]
  },
  {
   "cell_type": "markdown",
   "metadata": {},
   "source": [
    "2. **Indexing Matrices by Rows:**\n",
    "\n",
    "Inputting a single number in as the array argument returns the row indexed to the specified index in the argument\n",
    "\n",
    "`A[row index]`\n",
    "\n",
    "**Accessing elements** in the indexed row:\n",
    "\n",
    "- Either by specifying the element in the index\n",
    "- or by accessing it by adding another index\n",
    "\n",
    "`A[row index, element in the row]`\n",
    "\n",
    "`A[row index][element in the row]`"
   ]
  },
  {
   "cell_type": "code",
   "execution_count": 43,
   "metadata": {},
   "outputs": [
    {
     "name": "stdout",
     "output_type": "stream",
     "text": [
      "Entire row indexing: [3 4], \n",
      " access elements inside the index: 4,\n",
      " access elements outside the index: 4\n"
     ]
    }
   ],
   "source": [
    "print(\"Entire row indexing: {}, \\n access elements inside the index: {},\\n access elements outside the index: {}\"\n",
    "      .format(A[1], A[1,1], A[1][1]))"
   ]
  },
  {
   "cell_type": "markdown",
   "metadata": {},
   "source": [
    "## Array Functions\n",
    "\n",
    "Most functions are applied to an array element-wise (as scalar-multiplication is)."
   ]
  },
  {
   "cell_type": "code",
   "execution_count": 44,
   "metadata": {
    "scrolled": true
   },
   "outputs": [
    {
     "name": "stdout",
     "output_type": "stream",
     "text": [
      "log returns: [1.25276297 1.60943791 0.69314718 2.07944154 1.43508453], \n",
      " mean returns: 4.54, \n",
      " max return: 8.0\n"
     ]
    }
   ],
   "source": [
    "print(\"log returns: {}, \\n mean returns: {}, \\n max return: {}\".format(\n",
    "            np.log(returns), np.mean(returns), np.max(returns)))"
   ]
  },
  {
   "cell_type": "markdown",
   "metadata": {},
   "source": [
    "**Scalars on arrays:**"
   ]
  },
  {
   "cell_type": "code",
   "execution_count": 63,
   "metadata": {
    "scrolled": true
   },
   "outputs": [
    {
     "data": {
      "text/plain": [
       "array([12. , 15. ,  9. , 21. , 13.4])"
      ]
     },
     "execution_count": 63,
     "metadata": {},
     "output_type": "execute_result"
    }
   ],
   "source": [
    "returns*2 + 5"
   ]
  },
  {
   "cell_type": "markdown",
   "metadata": {},
   "source": [
    "### Index of the Maximum Value - `.argmax()`\n",
    "\n",
    "returns the index of the maximum value\n",
    "\n",
    "same with `.argmin()`"
   ]
  },
  {
   "cell_type": "code",
   "execution_count": 65,
   "metadata": {},
   "outputs": [
    {
     "data": {
      "text/plain": [
       "8.0"
      ]
     },
     "execution_count": 65,
     "metadata": {},
     "output_type": "execute_result"
    }
   ],
   "source": [
    "returns[returns.argmax()]"
   ]
  },
  {
   "cell_type": "markdown",
   "metadata": {},
   "source": [
    "## NaN Values\n",
    "\n",
    "NaN values appear when there is missing or non-existant data. `nan` values can lead to errors so it is important to know how to drop them.\n",
    "\n",
    "- When attempting to apply functions on a vector containing `nan` values, it throws an error"
   ]
  },
  {
   "cell_type": "code",
   "execution_count": 36,
   "metadata": {},
   "outputs": [
    {
     "data": {
      "text/plain": [
       "nan"
      ]
     },
     "execution_count": 36,
     "metadata": {},
     "output_type": "execute_result"
    }
   ],
   "source": [
    "# Create a vector containing a nan value\n",
    "vector = np.array([1,2,np.nan, 4, 5])\n",
    "\n",
    "# try to apply a function to the vector\n",
    "np.mean(vector)"
   ]
  },
  {
   "cell_type": "markdown",
   "metadata": {},
   "source": [
    "### Indexing Arrays by Boolean Values\n",
    "\n",
    "#### Step 1: Create a boolean vector of the array as an index\n",
    "\n",
    "The vector should contain the boolean values of those values which ar **not nan**, `~` means not\n",
    "\n",
    "`boolean_index = ~np.isnan(vector)`\n",
    "\n",
    "#### Step 2: Index the array with the boolean vector of not nans\n",
    "\n",
    "` vector[boolean_index]`\n"
   ]
  },
  {
   "cell_type": "code",
   "execution_count": 41,
   "metadata": {},
   "outputs": [
    {
     "data": {
      "text/plain": [
       "3.0"
      ]
     },
     "execution_count": 41,
     "metadata": {},
     "output_type": "execute_result"
    }
   ],
   "source": [
    "ix = ~ np.isnan(vector)\n",
    "ix\n",
    "np.mean(vector[ix])\n",
    "\n",
    "# can also use nan meana\n",
    "np.nanmean(vector)"
   ]
  },
  {
   "cell_type": "markdown",
   "metadata": {},
   "source": [
    "## Dot Product in NumPy\n",
    "\n",
    "**For a 1-dimensional array:**\n",
    "\n",
    "`np.dot(x, y)` computes the dot product of two vectors\n",
    "\n",
    "**For a 2-dimensional array:** \n",
    "\n",
    "<p style=\"text-align:center;\">$\\text{(m x n) } \\cdot \\text{ (n x m)} = \\text{(m x m)}$</p> "
   ]
  },
  {
   "cell_type": "markdown",
   "metadata": {},
   "source": [
    "# 2. NumPy Functions\n",
    "\n",
    "### Zeroes Matrix - `np.zero()`\n",
    "\n",
    "Creates a NumPy array with the given dimension entirely filled in with $0$, data is floats as to not lose any information.\n",
    "\n",
    "**Vector:** Insert a single number\n",
    "\n",
    "`np.zeros(number)`\n",
    "\n",
    "<p style=\"text-align:center;\">$\\begin{bmatrix} 0 & 0 & 0 \\end{bmatrix}$</p>\n",
    "\n",
    "**Matrix:** Insert a tuple\n",
    "\n",
    "`np.zeros((number rows, number columns))`\n",
    "\n",
    "<p style=\"text-align:center;\">$\\begin{bmatrix} 0 & 0 & 0 \\\\ 0 & 0 & 0 \\\\ 0 & 0 & 0 \\end{bmatrix}$</p>"
   ]
  },
  {
   "cell_type": "code",
   "execution_count": 5,
   "metadata": {},
   "outputs": [
    {
     "data": {
      "text/plain": [
       "array([[0., 0., 0.],\n",
       "       [0., 0., 0.],\n",
       "       [0., 0., 0.]])"
      ]
     },
     "execution_count": 5,
     "metadata": {},
     "output_type": "execute_result"
    }
   ],
   "source": [
    "np.zeros((3, 3))"
   ]
  },
  {
   "cell_type": "markdown",
   "metadata": {},
   "source": [
    "### Ones Matrix - `np.ones()`"
   ]
  },
  {
   "cell_type": "code",
   "execution_count": 6,
   "metadata": {},
   "outputs": [
    {
     "data": {
      "text/plain": [
       "array([[1., 1., 1.],\n",
       "       [1., 1., 1.]])"
      ]
     },
     "execution_count": 6,
     "metadata": {},
     "output_type": "execute_result"
    }
   ],
   "source": [
    "np.ones((2,3))"
   ]
  },
  {
   "cell_type": "markdown",
   "metadata": {},
   "source": [
    "### Identity Matrix - `np.eye()`"
   ]
  },
  {
   "cell_type": "code",
   "execution_count": 9,
   "metadata": {},
   "outputs": [
    {
     "data": {
      "text/plain": [
       "array([[1., 0., 0.],\n",
       "       [0., 1., 0.],\n",
       "       [0., 0., 1.]])"
      ]
     },
     "execution_count": 9,
     "metadata": {},
     "output_type": "execute_result"
    }
   ],
   "source": [
    "np.eye(3)"
   ]
  },
  {
   "cell_type": "markdown",
   "metadata": {},
   "source": [
    "### Sequencing in NumPy - `np.arange(start,stop,skip)`\n",
    "\n",
    "Creates a range from start to end with skips just like the range function in python.#\n",
    "\n",
    "`np.arange(N)`: Creates a sequence of $N$ numbers, similar to `range(N)` function in Python"
   ]
  },
  {
   "cell_type": "markdown",
   "metadata": {},
   "source": [
    "### Array of Linearly Spaced Numbers - `np.linspace(start, stop, num)`\n",
    "\n",
    "Returns evenly spaced numbers over a specified interval:\n",
    "\n",
    "- starting number\n",
    "- ending number\n",
    "- how many numbers you want between the start and end values"
   ]
  },
  {
   "cell_type": "code",
   "execution_count": 8,
   "metadata": {},
   "outputs": [
    {
     "data": {
      "text/plain": [
       "array([2.  , 2.25, 2.5 , 2.75, 3.  ])"
      ]
     },
     "execution_count": 8,
     "metadata": {},
     "output_type": "execute_result"
    }
   ],
   "source": [
    "np.linspace(2, 3, num = 5)"
   ]
  },
  {
   "cell_type": "markdown",
   "metadata": {},
   "source": [
    "# 3. NumPy Random Functions\n",
    "\n",
    "## Uniform Distribution - rand\n",
    "\n",
    "`np.random.rand()` creates an array of the given shape and populates it with random samples from a uniform distribution over `[0,1)`, i.e. all the numbers have the same probability of being picked.\n",
    "\n",
    "<p style=\"text-align:center;\">$\\sim U(0,1)$</p>"
   ]
  },
  {
   "cell_type": "code",
   "execution_count": 10,
   "metadata": {},
   "outputs": [
    {
     "data": {
      "text/plain": [
       "array([[0.77949609, 0.45646019],\n",
       "       [0.45271163, 0.62223751]])"
      ]
     },
     "execution_count": 10,
     "metadata": {},
     "output_type": "execute_result"
    }
   ],
   "source": [
    "# 2x2 matrix over a uniform distribution\n",
    "np.random.rand(2,2)"
   ]
  },
  {
   "cell_type": "markdown",
   "metadata": {},
   "source": [
    "## Standard Normal Distribution - randn\n",
    "\n",
    "returns a sample from a standard normal distribution or Gaussian Distribution:\n",
    "\n",
    "<p style=\"text-align:center;\">$\\sim N(0,1)$</p>\n",
    "\n",
    "The closer you are to $0$ the closer you are to be picked as a random number"
   ]
  },
  {
   "cell_type": "code",
   "execution_count": 13,
   "metadata": {
    "scrolled": true
   },
   "outputs": [
    {
     "data": {
      "text/plain": [
       "array([ 1.20697392, -0.75359773, -0.35253517,  2.25899063,  0.15725628])"
      ]
     },
     "execution_count": 13,
     "metadata": {},
     "output_type": "execute_result"
    }
   ],
   "source": [
    "np.random.randn(5)"
   ]
  },
  {
   "cell_type": "markdown",
   "metadata": {},
   "source": [
    "## Random Integer - `np.random.randint(low, high, how many)`"
   ]
  },
  {
   "cell_type": "code",
   "execution_count": 55,
   "metadata": {},
   "outputs": [
    {
     "data": {
      "text/plain": [
       "array([6, 8, 8, 3, 2, 2, 5, 6, 2])"
      ]
     },
     "execution_count": 55,
     "metadata": {},
     "output_type": "execute_result"
    }
   ],
   "source": [
    "np.random.randint(2,9, 9)"
   ]
  }
 ],
 "metadata": {
  "kernelspec": {
   "display_name": "Python 3",
   "language": "python",
   "name": "python3"
  },
  "language_info": {
   "codemirror_mode": {
    "name": "ipython",
    "version": 3
   },
   "file_extension": ".py",
   "mimetype": "text/x-python",
   "name": "python",
   "nbconvert_exporter": "python",
   "pygments_lexer": "ipython3",
   "version": "3.7.6"
  }
 },
 "nbformat": 4,
 "nbformat_minor": 1
}

{
 "cells": [
  {
   "cell_type": "markdown",
   "metadata": {},
   "source": [
    "# Pandas Data Structures\n",
    "\n",
    "## Overview:\n",
    "\n",
    "### Part I: Series\n",
    "\n",
    "*`s = pd.Series()`*\n",
    "\n",
    "- **1. Characteristics/Attributes of a Series:**\n",
    "    - `s.name`\n",
    "    - `s.index`\n",
    "    - `s.value`\n",
    "- **2. Accessing Series Elements:**\n",
    "    - Indexing by integer `s.iloc[start:end:step]`\n",
    "        - *reverse* $\\rightarrow$ `.iloc[-start:-end:-1]`\n",
    "    - Indexing by name `s.loc[\"index1\":\"index2\"]`\n",
    "- **3. Boolean Indexing:**\n",
    "    - Elements greater than a value: `s.loc[s > n]`\n",
    "    - Eements between two values: `s.loc[(s > n) & (s < m)]`\n",
    "    - Index booleans: `s.loc[s.index > \"index_name1\"]`\n",
    "- **4. Indexing and Time-Series:**\n",
    "    - **DateTime Index:** `pd.date_range(\"startdate\", period, freq)`\n",
    "    - **Resampling:**\n",
    "        - Resample the Datetime Index by Frequency: `resampled = s.resample(\"M\")`\n",
    "        - Aggregate the Resampling by Function: `resampled.agg(function)`\n",
    "    - **Re-indexing:**\n",
    "        - Create a new frequency date range: `new_range = pd.date_range(\"startdate\", freq)`\n",
    "        - Re-index the Series with the new date range `new_index = s.reindex(new_range, ffill/bfill)`\n",
    "- **5. Missing Values:**\n",
    "    - `s.dropna()`\n",
    "\n",
    "\n",
    "### Part II: DataFrames\n",
    "\n",
    "*`df = pd.DataFrame()`*\n",
    "\n",
    "- **1. Creating a DataFrame:** `pd.DataFrame(matrix, index, columns)`\n",
    "\n",
    "- **2. Selecting Data:**\n",
    "    - **a. Selecting Columns:**\n",
    "       - Single Column: `df[\"Column name\"]`\n",
    "       - Multiple Columns (list): `df[[\"Col name 1\", \"Col name 2\"]]` \n",
    "       - SQL Syntax: `df.column_name`\n",
    "    - **b. Selecting Rows:**\n",
    "        - Based on Row Name: `df.loc[\"Row Name\"]`\n",
    "        - Based on Row Index: `df.iloc[index number]`\n",
    "    - **c. Subsetting Rows and Columns:**\n",
    "        - Values: `df[\"Row Name\", \"Column Name\"]`\n",
    "        - Subset: `df[[\"Row Name Start\", \"Row Name End\"], [\"Column Name Start\", \"Column Name End\"]]`\n",
    "    - **d. Conditional Formatting:**\n",
    "    - *First Step:* Generate the boolean dataframe condition `df[\"col\"] > n`\n",
    "    - *Second Step:* Plug in the DataFrame the boolean dataframe `df[df[\"col\"] > n]`\n",
    "\n",
    "        - 1. Multiple Conditions: `df[(df[\"Col1\"] > n) & (df[\"Col2\"] < m)]`\n",
    "\n",
    "        - 2. Selecting a Column after Conditioning: `df[df[\"col1\"] > m][\"col2\"]`\n",
    "\n",
    "        - 3. Selecting a sub-matrix after conditioning: `df[df[\"col1\"] > m][[\"col2\",\"col3\"]]`\n",
    "    - **e. Creating New Data:** \n",
    "        - `df[\"New Column\"] = df[\"Col1\"] + df[\"Col2\"]`\n",
    "    - **f. Deleting Data:**\n",
    "        - Drop a Row: `df.drop(\"row name\", axis = 0, inplace=True)`\n",
    "\n",
    "        - Drop a Column: `df.drop(\"col name\", axis = 1, inplace = True)`\n",
    "\n",
    "- **3. Indexing:**\n",
    "    - **a. Resetting an Index:**\n",
    "        - `df.reset_index()`\n",
    "    - **b. Setting an Index:**\n",
    "        - Create a new Index: `new_index = \" ... \".split()`\n",
    "        - Create a new Column as the new Index: `df[\"new index\"] = new_index`\n",
    "        - Set the new index be equal to the new Column Index: `df.set_index(\"new index\")`\n",
    "    - **c. Multi-Indexing:** Two Factor Index:\n",
    "        - **Step 1:**Generate the two indices such that index 1 match each of index 2 labels\n",
    "\n",
    "            - *The first index:* `[\"G1\", \"G1\", \"G1\", \"G2\", \"G2\", \"G2\", ...]`\n",
    "\n",
    "            - *The second index:* `[1, 2, 3, 1, 2, 3, ...]`\n",
    "\n",
    "        - **Step 2:** `zip` the two indices to get the combination of outside and inside indices and place them in a list, i,e. Zip the factors into factor(i,j) tuples\n",
    "\n",
    "            - `[('G1', 1), ('G1', 2), ('G1', 3), ('G2', 1), ('G2', 2), ('G2', 3)]`\n",
    "        - **Step 3:** Generate a multi-index from the list of tuples\n",
    "            - `pd.MultiIndex.from_tuples(hierarchiacal_index)`\n",
    "            **Step 4:** Apply the multi-index to a DataFrame object\n",
    "\n",
    "            - `df = pd.DataFrame(np.random.randn(6,2), index = hier_index, columns = \"A B\".split())`\n",
    "\n",
    "        - **Step 5:** Specify the multi-index column names with the attribute \n",
    "            - `df.index.names`\n",
    "        - **Selecting from a Multi-Index DataFrame:**\n",
    "\n",
    "            - a. `.loc[\"Index1 name\" ].loc[\"index2 name\"]`\n",
    "            - b. `df.xs([\"first level name\", \"second level name\"]`\n",
    "            - c. Access the Second level for all First Level Indices\n",
    "                - `df.xs(\"second level row name\", level = \"second level col name\")`"
   ]
  },
  {
   "cell_type": "code",
   "execution_count": 2,
   "metadata": {},
   "outputs": [],
   "source": [
    "import pandas as pd\n",
    "import numpy as np\n",
    "import matplotlib.pyplot as plt\n",
    "import datetime\n",
    "import pandas_datareader.data as web"
   ]
  },
  {
   "cell_type": "markdown",
   "metadata": {},
   "source": [
    "# Part I. Series\n",
    "\n",
    "A Pandas Series is a 1-dimensional array **with labels** that can contain any data type.\n",
    "\n",
    "**Main Usage of Series:** Handling time-series data"
   ]
  },
  {
   "cell_type": "code",
   "execution_count": 2,
   "metadata": {},
   "outputs": [
    {
     "name": "stdout",
     "output_type": "stream",
     "text": [
      "0    1.0\n",
      "1    2.0\n",
      "2    NaN\n",
      "3    4.0\n",
      "4    5.0\n",
      "dtype: float64\n"
     ]
    }
   ],
   "source": [
    "s = pd.Series([1,2,np.nan, 4, 5])\n",
    "print(s)"
   ]
  },
  {
   "cell_type": "markdown",
   "metadata": {},
   "source": [
    "# 1. Characteristics/Attributes of a Series\n",
    "\n",
    "## a. Name\n",
    "\n",
    "Every Series has a name"
   ]
  },
  {
   "cell_type": "code",
   "execution_count": 3,
   "metadata": {},
   "outputs": [],
   "source": [
    "s.name = \"Toy Series\""
   ]
  },
  {
   "cell_type": "markdown",
   "metadata": {},
   "source": [
    "## b.  Index\n",
    "\n",
    "The index of a Series is its collected axis labels. An index must be exactly the same length as the Series itself as each index must match one-to-one with each element of the Series.\n",
    "\n",
    "An index can:\n",
    "\n",
    "- Be passed to a Series as a **parameter**\n",
    "\n",
    "- or **added** later\n",
    "\n",
    "- or **modified** later\n",
    "\n",
    "If no index is specified, then it will be composed of integers denoting a numbered list\n",
    "\n",
    "#### Datetime Index\n",
    "\n",
    "Pandas has a built in function for creating date indices, `date_range(start, periods, freq)` which is similar to a normal Pythonic `range()` function"
   ]
  },
  {
   "cell_type": "code",
   "execution_count": 4,
   "metadata": {},
   "outputs": [
    {
     "name": "stdout",
     "output_type": "stream",
     "text": [
      "DatetimeIndex(['2016-01-01', '2016-01-02', '2016-01-03', '2016-01-04',\n",
      "               '2016-01-05'],\n",
      "              dtype='datetime64[ns]', freq='D')\n"
     ]
    }
   ],
   "source": [
    "# Create new index\n",
    "new_index = pd.date_range(\"2016-01-01\", periods = len(s), freq=\"D\")\n",
    "\n",
    "# Assign the index to the Series\n",
    "s.index = new_index\n",
    "\n",
    "# Preview the newly assigned index\n",
    "print(s.index)"
   ]
  },
  {
   "cell_type": "markdown",
   "metadata": {},
   "source": [
    "## c. Values\n",
    "\n",
    "We can access the values of a Pandas Series with the `.values` attribute"
   ]
  },
  {
   "cell_type": "markdown",
   "metadata": {},
   "source": [
    "# 2. Accessing Series Elements\n",
    "\n",
    "## 1. By Integer Index\n",
    "\n",
    "Using the `iloc[start:end:step]` method\n",
    "\n",
    "- **First element:** `s.iloc[0]`\n",
    "- **Last element:** `s.iloc[len(s)-1]`\n",
    "- **Middle elements:** `s.iloc[1:len(s)-1]`\n",
    "- **Reverse elements:** `s.iloc[::-1]` or more specifc: `s.iloc[-n:-m:-1]`"
   ]
  },
  {
   "cell_type": "code",
   "execution_count": 5,
   "metadata": {},
   "outputs": [
    {
     "name": "stdout",
     "output_type": "stream",
     "text": [
      "Series:\n",
      " 2016-01-01    1.0\n",
      "2016-01-02    2.0\n",
      "2016-01-03    NaN\n",
      "2016-01-04    4.0\n",
      "2016-01-05    5.0\n",
      "Freq: D, Name: Toy Series, dtype: float64, \n",
      "\n",
      "First element: 1.0, last element:5.0, \n",
      "\n",
      "middle elements:2016-01-02    2.0\n",
      "2016-01-03    NaN\n",
      "2016-01-04    4.0\n",
      "Freq: D, Name: Toy Series, dtype: float64\n",
      "\n",
      "reverse elements:\n",
      " 2016-01-05    5.0\n",
      "2016-01-04    4.0\n",
      "2016-01-03    NaN\n",
      "2016-01-02    2.0\n",
      "2016-01-01    1.0\n",
      "Freq: -1D, Name: Toy Series, dtype: float64\n"
     ]
    }
   ],
   "source": [
    "print(\"Series:\\n {}, \\n\\nFirst element: {}, last element:{}, \\n\\nmiddle elements:{}\".format(\n",
    "                                         s, s.iloc[0], s.iloc[len(s)-1], s.iloc[1:len(s)-1]) +\n",
    "      \"\\n\\nreverse elements:\\n {}\".format(\n",
    "                                         s.iloc[::-1]))"
   ]
  },
  {
   "cell_type": "markdown",
   "metadata": {},
   "source": [
    "## 2. By Index Names\n",
    "\n",
    "using the `.loc[\"index_name1\":\"index_name2\"]` method"
   ]
  },
  {
   "cell_type": "code",
   "execution_count": 6,
   "metadata": {},
   "outputs": [
    {
     "data": {
      "text/plain": [
       "2016-01-02    2.0\n",
       "2016-01-03    NaN\n",
       "2016-01-04    4.0\n",
       "Freq: D, Name: Toy Series, dtype: float64"
      ]
     },
     "execution_count": 6,
     "metadata": {},
     "output_type": "execute_result"
    }
   ],
   "source": [
    "s.loc[\"2016-01-02\":\"2016-01-04\"]"
   ]
  },
  {
   "cell_type": "markdown",
   "metadata": {},
   "source": [
    "# 3. Boolean Indexing\n",
    "\n",
    "Filtering Series by **boolean arrays**, i.e. passing boolean expressions into the index of a Series to filter the Series by the boolean index.\n",
    "\n",
    "- **Elements greater than a value:** `s.loc[s > n]`\n",
    "\n",
    "- **Elements between two values:** `s.loc[(s > n) & (s < m)]`\n",
    "\n",
    "- **Index booleans:** `s.loc[s.index > \"index_name1\"]`"
   ]
  },
  {
   "cell_type": "code",
   "execution_count": 7,
   "metadata": {},
   "outputs": [
    {
     "data": {
      "text/plain": [
       "2016-01-02    2.0\n",
       "Freq: D, Name: Toy Series, dtype: float64"
      ]
     },
     "execution_count": 7,
     "metadata": {},
     "output_type": "execute_result"
    }
   ],
   "source": [
    "s.loc[(s < 3) & (s > 1)]"
   ]
  },
  {
   "cell_type": "code",
   "execution_count": 8,
   "metadata": {},
   "outputs": [
    {
     "data": {
      "text/plain": [
       "2016-01-04    4.0\n",
       "2016-01-05    5.0\n",
       "Freq: D, Name: Toy Series, dtype: float64"
      ]
     },
     "execution_count": 8,
     "metadata": {},
     "output_type": "execute_result"
    }
   ],
   "source": [
    "s.loc[s.index > \"2016-01-03\"]"
   ]
  },
  {
   "cell_type": "markdown",
   "metadata": {},
   "source": [
    "# 4. Indexing and Time Series\n",
    "\n",
    "Using DateTime objects to work with time series in Pandas\n",
    "\n",
    "A DateTime object has a collection of associated information:\n",
    "\n",
    "- Associated frequency (`freq`): daily vs monthly vs yearly data\n",
    "- Associated timezone (`tz`): what locale this index is relative to"
   ]
  },
  {
   "cell_type": "code",
   "execution_count": 9,
   "metadata": {
    "scrolled": true
   },
   "outputs": [
    {
     "data": {
      "text/plain": [
       "DatetimeIndex(['2012-01-03', '2012-01-04', '2012-01-05', '2012-01-06',\n",
       "               '2012-01-09', '2012-01-10', '2012-01-11', '2012-01-12',\n",
       "               '2012-01-13', '2012-01-17',\n",
       "               ...\n",
       "               '2015-12-17', '2015-12-18', '2015-12-21', '2015-12-22',\n",
       "               '2015-12-23', '2015-12-24', '2015-12-28', '2015-12-29',\n",
       "               '2015-12-30', '2015-12-31'],\n",
       "              dtype='datetime64[ns]', name='Date', length=1006, freq=None)"
      ]
     },
     "execution_count": 9,
     "metadata": {},
     "output_type": "execute_result"
    }
   ],
   "source": [
    "symbol = \"CMG\"\n",
    "start = datetime.datetime(2012,1,1)\n",
    "end = datetime.datetime(2016,1,1)\n",
    "prices = web.DataReader(symbol, \"yahoo\", start = start, end = end)[\"Adj Close\"]\n",
    "\n",
    "prices.index"
   ]
  },
  {
   "cell_type": "markdown",
   "metadata": {},
   "source": [
    "## Resampling \n",
    "\n",
    "We can adust the frequency of the data by resampling the DateTime index.\n",
    "\n",
    "**Monthly:**\n",
    "\n",
    "- **Resample** the datetime index to monthly\n",
    "\n",
    "- **Aggregate** the data according to a function: \"`np.sum`, `np.mean`, etc.\""
   ]
  },
  {
   "cell_type": "code",
   "execution_count": 10,
   "metadata": {},
   "outputs": [
    {
     "data": {
      "text/plain": [
       "Date\n",
       "2012-01-31    354.829002\n",
       "2012-02-29    379.535503\n",
       "2012-03-31    407.002272\n",
       "2012-04-30    422.798997\n",
       "2012-05-31    405.805456\n",
       "Freq: M, Name: Adj Close, dtype: float64"
      ]
     },
     "execution_count": 10,
     "metadata": {},
     "output_type": "execute_result"
    }
   ],
   "source": [
    "monthly_prices = prices.resample(\"M\").agg(np.mean)\n",
    "monthly_prices.head()"
   ]
  },
  {
   "cell_type": "markdown",
   "metadata": {},
   "source": [
    "**Monthly - Aggregated on Beginning of Month:**"
   ]
  },
  {
   "cell_type": "code",
   "execution_count": 15,
   "metadata": {},
   "outputs": [
    {
     "data": {
      "text/plain": [
       "Date\n",
       "2012-01-31    341.269989\n",
       "2012-02-29    370.410004\n",
       "2012-03-31    394.100006\n",
       "2012-04-30    418.399994\n",
       "2012-05-31    419.890015\n",
       "Freq: M, Name: Adj Close, dtype: float64"
      ]
     },
     "execution_count": 15,
     "metadata": {},
     "output_type": "execute_result"
    }
   ],
   "source": [
    "def custom_resampler(array):\n",
    "    \"Returns the fist value of the array\"\n",
    "    return(array[0])\n",
    "\n",
    "monthly_return_beg = prices.resample(\"M\").agg(custom_resampler)\n",
    "monthly_return_beg.head()"
   ]
  },
  {
   "cell_type": "markdown",
   "metadata": {},
   "source": [
    "## Reindexing\n",
    "\n",
    "Can be used to realign the existing data according to a new set of index labels (if data does not exist for that particular label the it goes to `nan`).\n",
    "\n",
    "**Reindexing from Weekdays to Calendar days:**\n",
    "\n",
    "`ffill` = forward fill, ie.e any nan values will be filled by the *last value* listed\n",
    "\n",
    "- The prices of the weekends/holidays will be listed as the last market day that we know about"
   ]
  },
  {
   "cell_type": "code",
   "execution_count": 12,
   "metadata": {},
   "outputs": [
    {
     "data": {
      "text/plain": [
       "DatetimeIndex(['2012-01-01', '2012-01-02', '2012-01-03', '2012-01-04',\n",
       "               '2012-01-05', '2012-01-06', '2012-01-07', '2012-01-08',\n",
       "               '2012-01-09', '2012-01-10',\n",
       "               ...\n",
       "               '2015-12-23', '2015-12-24', '2015-12-25', '2015-12-26',\n",
       "               '2015-12-27', '2015-12-28', '2015-12-29', '2015-12-30',\n",
       "               '2015-12-31', '2016-01-01'],\n",
       "              dtype='datetime64[ns]', length=1462, freq='D')"
      ]
     },
     "execution_count": 12,
     "metadata": {},
     "output_type": "execute_result"
    }
   ],
   "source": [
    "# generate a daily date range\n",
    "\n",
    "calendar_dates = pd.date_range(start = start, end=end, freq=\"D\")\n",
    "calendar_dates"
   ]
  },
  {
   "cell_type": "code",
   "execution_count": 13,
   "metadata": {},
   "outputs": [
    {
     "data": {
      "text/plain": [
       "2015-12-28    493.519989\n",
       "2015-12-29    489.940002\n",
       "2015-12-30    485.790009\n",
       "2015-12-31    479.850006\n",
       "2016-01-01    479.850006\n",
       "Freq: D, Name: Adj Close, dtype: float64"
      ]
     },
     "execution_count": 13,
     "metadata": {},
     "output_type": "execute_result"
    }
   ],
   "source": [
    "# reindex the price time series with the daily date range\n",
    "\n",
    "calendar_prices = prices.reindex(calendar_dates, method =\"ffill\")\n",
    "calendar_prices.tail()"
   ]
  },
  {
   "cell_type": "markdown",
   "metadata": {},
   "source": [
    "# 5. Missing Data\n",
    "\n",
    "Sometimes, resampling or re-indexing data can create `nan` values.\n",
    "\n",
    "There are three ways to deal with missing data:\n",
    "\n",
    "- **a. `.fillna()`**\n",
    "-  **b. Forward/Backward Fill**\n",
    "- **c. `.dropna()`**\n",
    "\n",
    "## Look-Ahead Bias\n",
    "\n",
    "#### Fillna\n",
    "\n",
    "is used to fill the na values with a specified value, however, this is not a good way to operate (as illustrated by the concept of stationarity).\n",
    "\n",
    "#### ffill/bfill\n",
    "\n",
    "bfill is applied the same way as ffill on reindexing.\n",
    "\n",
    "**Backward filling:** `NaN`s are filled with the *next* filled value.\n",
    "**Forward filling:** `NaN`s are filled with the *previous* filled value\n",
    "\n",
    "These two solutions do not work well as they take into account *future data* that was not available at the time of the data points that we are trying to fill. \n",
    "\n",
    "*MAKES NO SENSE:* as it is equivalent to saying that the price of a particular security today is tomorrow's price\n",
    "\n",
    "## Dropping the Missing Values\n",
    "\n",
    "is much better than filing the data with arbitrary numbers"
   ]
  },
  {
   "cell_type": "code",
   "execution_count": 19,
   "metadata": {},
   "outputs": [
    {
     "data": {
      "text/plain": [
       "2012-01-03    341.269989\n",
       "2012-01-04    348.750000\n",
       "2012-01-05    350.480011\n",
       "2012-01-06    348.950012\n",
       "2012-01-09    339.739990\n",
       "2012-01-10    341.119995\n",
       "2012-01-11    347.600006\n",
       "2012-01-12    347.619995\n",
       "2012-01-13    354.619995\n",
       "2012-01-17    353.380005\n",
       "Name: Adj Close, dtype: float64"
      ]
     },
     "execution_count": 19,
     "metadata": {},
     "output_type": "execute_result"
    }
   ],
   "source": [
    "dropped_prices = prices.reindex(calendar_dates).dropna()\n",
    "dropped_prices.head(10)"
   ]
  },
  {
   "cell_type": "markdown",
   "metadata": {},
   "source": [
    "# Part II. DataFrames\n",
    "\n",
    "`DataFrames` are 2-dimensional objects:\n",
    "\n",
    "- **Index** attribute $\\Rightarrow$ Rows\n",
    "    - Same as in the **Series** case\n",
    "- **Column** attribute $\\Rightarrow$ Cols\n",
    "    - **Gives the 2-dim characteristics:** allows us to combine named columns (i.e. Series) into a cohesive object with the index lined-up\n",
    "    \n",
    "# 1. Creating a DataFrame\n",
    "\n",
    "`pd.DataFrame(matrix, index, columns)`\n",
    "\n",
    "The `matrix` can be generated by many different types of data structures:\n",
    "\n",
    "- nested-lists\n",
    "- dictionary\n",
    "- np arrays reshaped as matrices"
   ]
  },
  {
   "cell_type": "code",
   "execution_count": 30,
   "metadata": {},
   "outputs": [
    {
     "data": {
      "text/html": [
       "<div>\n",
       "<style scoped>\n",
       "    .dataframe tbody tr th:only-of-type {\n",
       "        vertical-align: middle;\n",
       "    }\n",
       "\n",
       "    .dataframe tbody tr th {\n",
       "        vertical-align: top;\n",
       "    }\n",
       "\n",
       "    .dataframe thead th {\n",
       "        text-align: right;\n",
       "    }\n",
       "</style>\n",
       "<table border=\"1\" class=\"dataframe\">\n",
       "  <thead>\n",
       "    <tr style=\"text-align: right;\">\n",
       "      <th></th>\n",
       "      <th>Q</th>\n",
       "      <th>W</th>\n",
       "      <th>E</th>\n",
       "      <th>R</th>\n",
       "      <th>T</th>\n",
       "      <th>Y</th>\n",
       "    </tr>\n",
       "  </thead>\n",
       "  <tbody>\n",
       "    <tr>\n",
       "      <th>A</th>\n",
       "      <td>0.803510</td>\n",
       "      <td>0.142554</td>\n",
       "      <td>0.406500</td>\n",
       "      <td>0.241446</td>\n",
       "      <td>0.508993</td>\n",
       "      <td>0.256827</td>\n",
       "    </tr>\n",
       "    <tr>\n",
       "      <th>B</th>\n",
       "      <td>0.507673</td>\n",
       "      <td>0.223111</td>\n",
       "      <td>0.084345</td>\n",
       "      <td>0.830719</td>\n",
       "      <td>0.967985</td>\n",
       "      <td>0.631227</td>\n",
       "    </tr>\n",
       "    <tr>\n",
       "      <th>C</th>\n",
       "      <td>0.634895</td>\n",
       "      <td>0.016561</td>\n",
       "      <td>0.928671</td>\n",
       "      <td>0.462813</td>\n",
       "      <td>0.067493</td>\n",
       "      <td>0.218742</td>\n",
       "    </tr>\n",
       "    <tr>\n",
       "      <th>D</th>\n",
       "      <td>0.336325</td>\n",
       "      <td>0.573719</td>\n",
       "      <td>0.406973</td>\n",
       "      <td>0.025647</td>\n",
       "      <td>0.143466</td>\n",
       "      <td>0.289039</td>\n",
       "    </tr>\n",
       "  </tbody>\n",
       "</table>\n",
       "</div>"
      ],
      "text/plain": [
       "          Q         W         E         R         T         Y\n",
       "A  0.803510  0.142554  0.406500  0.241446  0.508993  0.256827\n",
       "B  0.507673  0.223111  0.084345  0.830719  0.967985  0.631227\n",
       "C  0.634895  0.016561  0.928671  0.462813  0.067493  0.218742\n",
       "D  0.336325  0.573719  0.406973  0.025647  0.143466  0.289039"
      ]
     },
     "execution_count": 30,
     "metadata": {},
     "output_type": "execute_result"
    }
   ],
   "source": [
    "df = pd.DataFrame(np.random.rand(4,6), index = \"A B C D\".split(), columns = \"Q W E R T Y\".split())\n",
    "df"
   ]
  },
  {
   "cell_type": "markdown",
   "metadata": {},
   "source": [
    "-------------------------------------\n",
    "# 2. Data Selection\n",
    "-------------------------------------\n",
    "\n",
    "## a. Selecting Columns\n",
    "   - Single Column: `df[\"Column name\"]`\n",
    "   - Multiple Columns (list): `df[[\"Col name 1\", \"Col name 2\"]]` \n",
    "   - SQL Syntax: `df.column_name`"
   ]
  },
  {
   "cell_type": "code",
   "execution_count": 46,
   "metadata": {},
   "outputs": [
    {
     "name": "stdout",
     "output_type": "stream",
     "text": [
      "Single Col: \n",
      "A    0.80351\n",
      "Name: Q, dtype: float64, \n",
      "\n",
      "Multi Cols: \n",
      "         Q         W\n",
      "A  0.80351  0.142554\n"
     ]
    }
   ],
   "source": [
    "print(\"Single Col: \\n{}, \\n\\nMulti Cols: \\n{}\".format(\n",
    "    \n",
    "            df[\"Q\"].head(1),  \n",
    "    \n",
    "            df[[\"Q\",\"W\"]].head(1)))"
   ]
  },
  {
   "cell_type": "markdown",
   "metadata": {},
   "source": [
    "## b. Selecting Rows\n",
    " \n",
    "- Based on Row Name: `df.loc[\"Row Name\"]`\n",
    "- Based on Row Index: `df.iloc[index number]`"
   ]
  },
  {
   "cell_type": "code",
   "execution_count": 52,
   "metadata": {},
   "outputs": [
    {
     "name": "stdout",
     "output_type": "stream",
     "text": [
      "Row Name: \n",
      "Q    0.80351\n",
      "Name: A, dtype: float64, \n",
      "\n",
      "Row Index: \n",
      "Q    0.80351\n",
      "Name: A, dtype: float64\n"
     ]
    }
   ],
   "source": [
    "print(\"Row Name: \\n{}, \\n\\nRow Index: \\n{}\".format(\n",
    "\n",
    "            df.loc[\"A\"].head(1),\n",
    "\n",
    "            df.iloc[0].head(1)))"
   ]
  },
  {
   "cell_type": "markdown",
   "metadata": {},
   "source": [
    "## c. Selecting a Subset of Rows and Columns\n",
    "\n",
    "- Values: `df[\"Row Name\", \"Column Name\"]`\n",
    "- Subset: `df[[\"Row Name Start\", \"Row Name End\"], [\"Column Name Start\", \"Column Name End\"]]`"
   ]
  },
  {
   "cell_type": "code",
   "execution_count": 65,
   "metadata": {},
   "outputs": [
    {
     "name": "stdout",
     "output_type": "stream",
     "text": [
      "Subsetting Values: \n",
      "0.8035098063825515, \n",
      "\n",
      "Subsetting Matrix: \n",
      "          Q         W\n",
      "A  0.803510  0.142554\n",
      "B  0.507673  0.223111\n"
     ]
    }
   ],
   "source": [
    "print(\"Subsetting Values: \\n{}, \\n\\nSubsetting Matrix: \\n{}\".format(\n",
    "\n",
    "             df.loc[\"A\", \"Q\"],\n",
    "     \n",
    "             df.loc[\"A B\".split(), \"Q W\".split()]\n",
    "    \n",
    "    #also    df.loc[[\"A\",\"B\"],[\"Q\",\"W\"]]\n",
    "))"
   ]
  },
  {
   "cell_type": "markdown",
   "metadata": {},
   "source": [
    "## d. Conditional Selecting\n",
    "\n",
    "General Formula:\n",
    "\n",
    "- **First Step:** Generate the boolean dataframe condition `df[\"col\"] > n`\n",
    "\n",
    "- **Second Step:** Plug in the DataFrame the boolean dataframe `df[df[\"col\"] > n]`\n",
    "\n",
    "**1. Multiple Conditions:**\n",
    "\n",
    "`df[(df[\"Col1\"] > n) & (df[\"Col2\"] < m)]`\n",
    "\n",
    "**2. Selecting a Column after Conditioning:**\n",
    "\n",
    "`df[df[\"col1\"] > m][\"col2\"]`\n",
    "\n",
    "**3. Selecting a sub-matrix after conditioning:**\n",
    "\n",
    "`df[df[\"col1\"] > m][[\"col2\",\"col3\"]]`"
   ]
  },
  {
   "cell_type": "code",
   "execution_count": 87,
   "metadata": {},
   "outputs": [
    {
     "data": {
      "text/html": [
       "<div>\n",
       "<style scoped>\n",
       "    .dataframe tbody tr th:only-of-type {\n",
       "        vertical-align: middle;\n",
       "    }\n",
       "\n",
       "    .dataframe tbody tr th {\n",
       "        vertical-align: top;\n",
       "    }\n",
       "\n",
       "    .dataframe thead th {\n",
       "        text-align: right;\n",
       "    }\n",
       "</style>\n",
       "<table border=\"1\" class=\"dataframe\">\n",
       "  <thead>\n",
       "    <tr style=\"text-align: right;\">\n",
       "      <th></th>\n",
       "      <th>Q</th>\n",
       "      <th>W</th>\n",
       "      <th>E</th>\n",
       "      <th>R</th>\n",
       "      <th>T</th>\n",
       "      <th>Y</th>\n",
       "      <th>new</th>\n",
       "    </tr>\n",
       "  </thead>\n",
       "  <tbody>\n",
       "    <tr>\n",
       "      <th>A</th>\n",
       "      <td>0.803510</td>\n",
       "      <td>0.142554</td>\n",
       "      <td>0.406500</td>\n",
       "      <td>0.241446</td>\n",
       "      <td>0.508993</td>\n",
       "      <td>0.256827</td>\n",
       "      <td>0.946063</td>\n",
       "    </tr>\n",
       "    <tr>\n",
       "      <th>B</th>\n",
       "      <td>0.507673</td>\n",
       "      <td>0.223111</td>\n",
       "      <td>0.084345</td>\n",
       "      <td>0.830719</td>\n",
       "      <td>0.967985</td>\n",
       "      <td>0.631227</td>\n",
       "      <td>0.730785</td>\n",
       "    </tr>\n",
       "    <tr>\n",
       "      <th>C</th>\n",
       "      <td>0.634895</td>\n",
       "      <td>0.016561</td>\n",
       "      <td>0.928671</td>\n",
       "      <td>0.462813</td>\n",
       "      <td>0.067493</td>\n",
       "      <td>0.218742</td>\n",
       "      <td>0.651457</td>\n",
       "    </tr>\n",
       "    <tr>\n",
       "      <th>D</th>\n",
       "      <td>0.336325</td>\n",
       "      <td>0.573719</td>\n",
       "      <td>0.406973</td>\n",
       "      <td>0.025647</td>\n",
       "      <td>0.143466</td>\n",
       "      <td>0.289039</td>\n",
       "      <td>0.910043</td>\n",
       "    </tr>\n",
       "  </tbody>\n",
       "</table>\n",
       "</div>"
      ],
      "text/plain": [
       "          Q         W         E         R         T         Y       new\n",
       "A  0.803510  0.142554  0.406500  0.241446  0.508993  0.256827  0.946063\n",
       "B  0.507673  0.223111  0.084345  0.830719  0.967985  0.631227  0.730785\n",
       "C  0.634895  0.016561  0.928671  0.462813  0.067493  0.218742  0.651457\n",
       "D  0.336325  0.573719  0.406973  0.025647  0.143466  0.289039  0.910043"
      ]
     },
     "execution_count": 87,
     "metadata": {},
     "output_type": "execute_result"
    }
   ],
   "source": [
    "# First Step\n",
    "df[\"Q\"]>0\n",
    "\n",
    "# Second Step\n",
    "df[df[\"Q\"] > 0]"
   ]
  },
  {
   "cell_type": "markdown",
   "metadata": {},
   "source": [
    "## Creating a New Column\n",
    "\n",
    "Can be done by assigning a value to a new column index of the existing DataFrame:\n",
    "\n",
    "`df[\"New Column\"] = df[\"Col1\"] + df[\"Col2\"]`"
   ]
  },
  {
   "cell_type": "code",
   "execution_count": 79,
   "metadata": {},
   "outputs": [
    {
     "data": {
      "text/html": [
       "<div>\n",
       "<style scoped>\n",
       "    .dataframe tbody tr th:only-of-type {\n",
       "        vertical-align: middle;\n",
       "    }\n",
       "\n",
       "    .dataframe tbody tr th {\n",
       "        vertical-align: top;\n",
       "    }\n",
       "\n",
       "    .dataframe thead th {\n",
       "        text-align: right;\n",
       "    }\n",
       "</style>\n",
       "<table border=\"1\" class=\"dataframe\">\n",
       "  <thead>\n",
       "    <tr style=\"text-align: right;\">\n",
       "      <th></th>\n",
       "      <th>Q</th>\n",
       "      <th>W</th>\n",
       "      <th>E</th>\n",
       "      <th>R</th>\n",
       "      <th>T</th>\n",
       "      <th>Y</th>\n",
       "      <th>new</th>\n",
       "    </tr>\n",
       "  </thead>\n",
       "  <tbody>\n",
       "    <tr>\n",
       "      <th>A</th>\n",
       "      <td>0.80351</td>\n",
       "      <td>0.142554</td>\n",
       "      <td>0.4065</td>\n",
       "      <td>0.241446</td>\n",
       "      <td>0.508993</td>\n",
       "      <td>0.256827</td>\n",
       "      <td>0.946063</td>\n",
       "    </tr>\n",
       "  </tbody>\n",
       "</table>\n",
       "</div>"
      ],
      "text/plain": [
       "         Q         W       E         R         T         Y       new\n",
       "A  0.80351  0.142554  0.4065  0.241446  0.508993  0.256827  0.946063"
      ]
     },
     "execution_count": 79,
     "metadata": {},
     "output_type": "execute_result"
    }
   ],
   "source": [
    "df[\"new\"] = df[\"Q\"] + df[\"W\"]\n",
    "df.head(1)"
   ]
  },
  {
   "cell_type": "markdown",
   "metadata": {},
   "source": [
    "## Removing Rows/Columns \n",
    "\n",
    "we can drop a row or a column (either inplace or not):\n",
    "\n",
    "- **Drop a Row:** `df.drop(\"row name\", axis = 0, inplace=True)`\n",
    "\n",
    "- **Drop a Column:** `df.drop(\"col name\", axis = 1, inplace = True)`"
   ]
  },
  {
   "cell_type": "code",
   "execution_count": 80,
   "metadata": {},
   "outputs": [
    {
     "data": {
      "text/html": [
       "<div>\n",
       "<style scoped>\n",
       "    .dataframe tbody tr th:only-of-type {\n",
       "        vertical-align: middle;\n",
       "    }\n",
       "\n",
       "    .dataframe tbody tr th {\n",
       "        vertical-align: top;\n",
       "    }\n",
       "\n",
       "    .dataframe thead th {\n",
       "        text-align: right;\n",
       "    }\n",
       "</style>\n",
       "<table border=\"1\" class=\"dataframe\">\n",
       "  <thead>\n",
       "    <tr style=\"text-align: right;\">\n",
       "      <th></th>\n",
       "      <th>Q</th>\n",
       "      <th>W</th>\n",
       "      <th>E</th>\n",
       "      <th>R</th>\n",
       "      <th>T</th>\n",
       "      <th>Y</th>\n",
       "    </tr>\n",
       "  </thead>\n",
       "  <tbody>\n",
       "    <tr>\n",
       "      <th>A</th>\n",
       "      <td>0.80351</td>\n",
       "      <td>0.142554</td>\n",
       "      <td>0.4065</td>\n",
       "      <td>0.241446</td>\n",
       "      <td>0.508993</td>\n",
       "      <td>0.256827</td>\n",
       "    </tr>\n",
       "  </tbody>\n",
       "</table>\n",
       "</div>"
      ],
      "text/plain": [
       "         Q         W       E         R         T         Y\n",
       "A  0.80351  0.142554  0.4065  0.241446  0.508993  0.256827"
      ]
     },
     "execution_count": 80,
     "metadata": {},
     "output_type": "execute_result"
    }
   ],
   "source": [
    "df.drop(\"new\", axis = 1).head(1)"
   ]
  },
  {
   "cell_type": "markdown",
   "metadata": {},
   "source": [
    "------------------------------\n",
    "# 3. Indexing\n",
    "---------------------------\n",
    "\n",
    "## a. Resetting an Index\n",
    "\n",
    "We can use the `df.reset_index()` method to reset a DataFrame index."
   ]
  },
  {
   "cell_type": "code",
   "execution_count": 95,
   "metadata": {},
   "outputs": [
    {
     "data": {
      "text/html": [
       "<div>\n",
       "<style scoped>\n",
       "    .dataframe tbody tr th:only-of-type {\n",
       "        vertical-align: middle;\n",
       "    }\n",
       "\n",
       "    .dataframe tbody tr th {\n",
       "        vertical-align: top;\n",
       "    }\n",
       "\n",
       "    .dataframe thead th {\n",
       "        text-align: right;\n",
       "    }\n",
       "</style>\n",
       "<table border=\"1\" class=\"dataframe\">\n",
       "  <thead>\n",
       "    <tr style=\"text-align: right;\">\n",
       "      <th></th>\n",
       "      <th>index</th>\n",
       "      <th>Q</th>\n",
       "      <th>W</th>\n",
       "      <th>E</th>\n",
       "      <th>R</th>\n",
       "      <th>T</th>\n",
       "      <th>Y</th>\n",
       "      <th>new</th>\n",
       "    </tr>\n",
       "  </thead>\n",
       "  <tbody>\n",
       "    <tr>\n",
       "      <th>0</th>\n",
       "      <td>A</td>\n",
       "      <td>0.80351</td>\n",
       "      <td>0.142554</td>\n",
       "      <td>0.4065</td>\n",
       "      <td>0.241446</td>\n",
       "      <td>0.508993</td>\n",
       "      <td>0.256827</td>\n",
       "      <td>0.946063</td>\n",
       "    </tr>\n",
       "  </tbody>\n",
       "</table>\n",
       "</div>"
      ],
      "text/plain": [
       "  index        Q         W       E         R         T         Y       new\n",
       "0     A  0.80351  0.142554  0.4065  0.241446  0.508993  0.256827  0.946063"
      ]
     },
     "execution_count": 95,
     "metadata": {},
     "output_type": "execute_result"
    }
   ],
   "source": [
    "df.reset_index().head(1)"
   ]
  },
  {
   "cell_type": "markdown",
   "metadata": {},
   "source": [
    "## b. Setting a New Index\n",
    "\n",
    "- **Create a new Index** `new_index = \" ... \".split()`\n",
    "\n",
    "- **Create a new Column as the new Index** `df[\"new index\"] = new_index`\n",
    "\n",
    "- **Set the new index be equal to the new Column Index:** `df.set_index(\"new index\")`"
   ]
  },
  {
   "cell_type": "code",
   "execution_count": 98,
   "metadata": {},
   "outputs": [
    {
     "data": {
      "text/html": [
       "<div>\n",
       "<style scoped>\n",
       "    .dataframe tbody tr th:only-of-type {\n",
       "        vertical-align: middle;\n",
       "    }\n",
       "\n",
       "    .dataframe tbody tr th {\n",
       "        vertical-align: top;\n",
       "    }\n",
       "\n",
       "    .dataframe thead th {\n",
       "        text-align: right;\n",
       "    }\n",
       "</style>\n",
       "<table border=\"1\" class=\"dataframe\">\n",
       "  <thead>\n",
       "    <tr style=\"text-align: right;\">\n",
       "      <th></th>\n",
       "      <th>Q</th>\n",
       "      <th>W</th>\n",
       "      <th>E</th>\n",
       "      <th>R</th>\n",
       "      <th>T</th>\n",
       "      <th>Y</th>\n",
       "      <th>new</th>\n",
       "    </tr>\n",
       "    <tr>\n",
       "      <th>States</th>\n",
       "      <th></th>\n",
       "      <th></th>\n",
       "      <th></th>\n",
       "      <th></th>\n",
       "      <th></th>\n",
       "      <th></th>\n",
       "      <th></th>\n",
       "    </tr>\n",
       "  </thead>\n",
       "  <tbody>\n",
       "    <tr>\n",
       "      <th>CA</th>\n",
       "      <td>0.803510</td>\n",
       "      <td>0.142554</td>\n",
       "      <td>0.406500</td>\n",
       "      <td>0.241446</td>\n",
       "      <td>0.508993</td>\n",
       "      <td>0.256827</td>\n",
       "      <td>0.946063</td>\n",
       "    </tr>\n",
       "    <tr>\n",
       "      <th>NY</th>\n",
       "      <td>0.507673</td>\n",
       "      <td>0.223111</td>\n",
       "      <td>0.084345</td>\n",
       "      <td>0.830719</td>\n",
       "      <td>0.967985</td>\n",
       "      <td>0.631227</td>\n",
       "      <td>0.730785</td>\n",
       "    </tr>\n",
       "  </tbody>\n",
       "</table>\n",
       "</div>"
      ],
      "text/plain": [
       "               Q         W         E         R         T         Y       new\n",
       "States                                                                      \n",
       "CA      0.803510  0.142554  0.406500  0.241446  0.508993  0.256827  0.946063\n",
       "NY      0.507673  0.223111  0.084345  0.830719  0.967985  0.631227  0.730785"
      ]
     },
     "execution_count": 98,
     "metadata": {},
     "output_type": "execute_result"
    }
   ],
   "source": [
    "# Create a new index\n",
    "new_index = \"CA NY WY OR\".split()\n",
    "\n",
    "# Create a new column in the df\n",
    "df[\"States\"] = new_index\n",
    "\n",
    "# Set the index to the new column index\n",
    "df.set_index(\"States\", inplace=True)\n",
    "\n",
    "df.head(2)"
   ]
  },
  {
   "cell_type": "markdown",
   "metadata": {},
   "source": [
    "## c. Multi-Indexing and Index Hierarchy\n",
    "\n",
    "This is when an index spans over multiple columns via different factors applied to the main index\n",
    "\n",
    "### Two Factor Index:\n",
    "\n",
    "- **Factor 1:** is the outer index `[\"G1\", \"G1\", \"G1\", \"G2\", \"G2\", \"G2\"]`\n",
    "- **Factor 2:** is the inner index `[1, 2, 3, 1, 2, 3]`\n",
    "\n",
    "**Step 1:** \n",
    "\n",
    "Generate the two indices such that index 1 match each of index 2 labels\n",
    "\n",
    "- *The first index:* `[1, 1, 1, 2, 2, 2, 3, 3, 3, ...]`\n",
    "\n",
    "- *The second index:* `[1, 2, 3, 1, 2, 3, 1, 2, 3, ...]`\n",
    "\n",
    "**Step 2:**\n",
    "\n",
    "`zip` the two indices to get the combination of outside and inside indices and place them in a list, i,e. Zip the factors into factor(i,j) tuples\n",
    "\n",
    "`[('G1', 1), ('G1', 2), ('G1', 3), ('G2', 1), ('G2', 2), ('G2', 3)]`"
   ]
  },
  {
   "cell_type": "code",
   "execution_count": 3,
   "metadata": {},
   "outputs": [
    {
     "data": {
      "text/plain": [
       "[('G1', 1), ('G1', 2), ('G1', 3), ('G2', 1), ('G2', 2), ('G2', 3)]"
      ]
     },
     "execution_count": 3,
     "metadata": {},
     "output_type": "execute_result"
    }
   ],
   "source": [
    "# Step 1:\n",
    "\n",
    "## Factor 1\n",
    "outside = [\"G1\", \"G1\", \"G1\", \"G2\", \"G2\", \"G2\"]\n",
    "\n",
    "## Factor 2\n",
    "inside = [1,2,3,1,2,3]\n",
    "\n",
    "# Step 2: \n",
    "\n",
    "hier_index = list(zip(outside, inside))\n",
    "hier_index"
   ]
  },
  {
   "cell_type": "markdown",
   "metadata": {},
   "source": [
    "**Step 3:**\n",
    "\n",
    "Generate a multi-index from the list of tuples `pd.MultiIndex.from_tuples(hierarchiacal_index)`"
   ]
  },
  {
   "cell_type": "code",
   "execution_count": 4,
   "metadata": {},
   "outputs": [
    {
     "data": {
      "text/plain": [
       "MultiIndex([('G1', 1),\n",
       "            ('G1', 2),\n",
       "            ('G1', 3),\n",
       "            ('G2', 1),\n",
       "            ('G2', 2),\n",
       "            ('G2', 3)],\n",
       "           )"
      ]
     },
     "execution_count": 4,
     "metadata": {},
     "output_type": "execute_result"
    }
   ],
   "source": [
    "# Step 3:\n",
    "\n",
    "hier_index = pd.MultiIndex.from_tuples(hier_index)\n",
    "hier_index"
   ]
  },
  {
   "cell_type": "markdown",
   "metadata": {},
   "source": [
    "**Step 4:** \n",
    "\n",
    "Apply the multi-index to a DataFrame object"
   ]
  },
  {
   "cell_type": "code",
   "execution_count": 5,
   "metadata": {},
   "outputs": [],
   "source": [
    "df = pd.DataFrame(np.random.randn(6,2), index = hier_index, columns = \"A B\".split())"
   ]
  },
  {
   "cell_type": "markdown",
   "metadata": {},
   "source": [
    "**Step 5:**\n",
    "\n",
    "Specify the multi-index column names with the attribute `df.index.names`"
   ]
  },
  {
   "cell_type": "code",
   "execution_count": 6,
   "metadata": {},
   "outputs": [
    {
     "data": {
      "text/html": [
       "<div>\n",
       "<style scoped>\n",
       "    .dataframe tbody tr th:only-of-type {\n",
       "        vertical-align: middle;\n",
       "    }\n",
       "\n",
       "    .dataframe tbody tr th {\n",
       "        vertical-align: top;\n",
       "    }\n",
       "\n",
       "    .dataframe thead th {\n",
       "        text-align: right;\n",
       "    }\n",
       "</style>\n",
       "<table border=\"1\" class=\"dataframe\">\n",
       "  <thead>\n",
       "    <tr style=\"text-align: right;\">\n",
       "      <th></th>\n",
       "      <th></th>\n",
       "      <th>A</th>\n",
       "      <th>B</th>\n",
       "    </tr>\n",
       "    <tr>\n",
       "      <th>Group</th>\n",
       "      <th>Num</th>\n",
       "      <th></th>\n",
       "      <th></th>\n",
       "    </tr>\n",
       "  </thead>\n",
       "  <tbody>\n",
       "    <tr>\n",
       "      <th rowspan=\"3\" valign=\"top\">G1</th>\n",
       "      <th>1</th>\n",
       "      <td>-0.342179</td>\n",
       "      <td>-0.311597</td>\n",
       "    </tr>\n",
       "    <tr>\n",
       "      <th>2</th>\n",
       "      <td>-0.509472</td>\n",
       "      <td>-0.399181</td>\n",
       "    </tr>\n",
       "    <tr>\n",
       "      <th>3</th>\n",
       "      <td>0.475394</td>\n",
       "      <td>0.802766</td>\n",
       "    </tr>\n",
       "    <tr>\n",
       "      <th rowspan=\"3\" valign=\"top\">G2</th>\n",
       "      <th>1</th>\n",
       "      <td>-0.755835</td>\n",
       "      <td>-1.391883</td>\n",
       "    </tr>\n",
       "    <tr>\n",
       "      <th>2</th>\n",
       "      <td>-0.388434</td>\n",
       "      <td>0.995909</td>\n",
       "    </tr>\n",
       "    <tr>\n",
       "      <th>3</th>\n",
       "      <td>-0.675550</td>\n",
       "      <td>-0.397031</td>\n",
       "    </tr>\n",
       "  </tbody>\n",
       "</table>\n",
       "</div>"
      ],
      "text/plain": [
       "                  A         B\n",
       "Group Num                    \n",
       "G1    1   -0.342179 -0.311597\n",
       "      2   -0.509472 -0.399181\n",
       "      3    0.475394  0.802766\n",
       "G2    1   -0.755835 -1.391883\n",
       "      2   -0.388434  0.995909\n",
       "      3   -0.675550 -0.397031"
      ]
     },
     "execution_count": 6,
     "metadata": {},
     "output_type": "execute_result"
    }
   ],
   "source": [
    "df.index.names = \"Group Num\".split()\n",
    "df"
   ]
  },
  {
   "cell_type": "markdown",
   "metadata": {},
   "source": [
    "### Selecting from a Multi-Index DataFrame\n",
    "\n",
    "We can access the different levels of the multi-index dataframe in two ways:\n",
    "\n",
    "#### a. `.loc[\"Index1 name\" ].loc[\"index2 name\"]`"
   ]
  },
  {
   "cell_type": "code",
   "execution_count": 8,
   "metadata": {},
   "outputs": [
    {
     "data": {
      "text/html": [
       "<div>\n",
       "<style scoped>\n",
       "    .dataframe tbody tr th:only-of-type {\n",
       "        vertical-align: middle;\n",
       "    }\n",
       "\n",
       "    .dataframe tbody tr th {\n",
       "        vertical-align: top;\n",
       "    }\n",
       "\n",
       "    .dataframe thead th {\n",
       "        text-align: right;\n",
       "    }\n",
       "</style>\n",
       "<table border=\"1\" class=\"dataframe\">\n",
       "  <thead>\n",
       "    <tr style=\"text-align: right;\">\n",
       "      <th></th>\n",
       "      <th>A</th>\n",
       "      <th>B</th>\n",
       "    </tr>\n",
       "    <tr>\n",
       "      <th>Num</th>\n",
       "      <th></th>\n",
       "      <th></th>\n",
       "    </tr>\n",
       "  </thead>\n",
       "  <tbody>\n",
       "    <tr>\n",
       "      <th>1</th>\n",
       "      <td>-0.342179</td>\n",
       "      <td>-0.311597</td>\n",
       "    </tr>\n",
       "    <tr>\n",
       "      <th>2</th>\n",
       "      <td>-0.509472</td>\n",
       "      <td>-0.399181</td>\n",
       "    </tr>\n",
       "    <tr>\n",
       "      <th>3</th>\n",
       "      <td>0.475394</td>\n",
       "      <td>0.802766</td>\n",
       "    </tr>\n",
       "  </tbody>\n",
       "</table>\n",
       "</div>"
      ],
      "text/plain": [
       "            A         B\n",
       "Num                    \n",
       "1   -0.342179 -0.311597\n",
       "2   -0.509472 -0.399181\n",
       "3    0.475394  0.802766"
      ]
     },
     "execution_count": 8,
     "metadata": {},
     "output_type": "execute_result"
    }
   ],
   "source": [
    "# First Level\n",
    "df.loc[\"G1\"]"
   ]
  },
  {
   "cell_type": "code",
   "execution_count": 9,
   "metadata": {},
   "outputs": [
    {
     "data": {
      "text/plain": [
       "A   -0.342179\n",
       "B   -0.311597\n",
       "Name: 1, dtype: float64"
      ]
     },
     "execution_count": 9,
     "metadata": {},
     "output_type": "execute_result"
    }
   ],
   "source": [
    "# Second Level\n",
    "df.loc[\"G1\"].loc[1]"
   ]
  },
  {
   "cell_type": "markdown",
   "metadata": {},
   "source": [
    "#### b. `df.xs([\"first level name\", \"second level name\"]`"
   ]
  },
  {
   "cell_type": "code",
   "execution_count": 12,
   "metadata": {},
   "outputs": [
    {
     "data": {
      "text/plain": [
       "A   -0.342179\n",
       "B   -0.311597\n",
       "Name: (G1, 1), dtype: float64"
      ]
     },
     "execution_count": 12,
     "metadata": {},
     "output_type": "execute_result"
    }
   ],
   "source": [
    "df.xs([\"G1\",1])"
   ]
  },
  {
   "cell_type": "markdown",
   "metadata": {},
   "source": [
    "#### c. Access the Second level for all First Level Indices\n",
    "\n",
    "`df.xs(\"second level row name\", level = \"second level col name\")`"
   ]
  },
  {
   "cell_type": "code",
   "execution_count": 14,
   "metadata": {},
   "outputs": [
    {
     "data": {
      "text/html": [
       "<div>\n",
       "<style scoped>\n",
       "    .dataframe tbody tr th:only-of-type {\n",
       "        vertical-align: middle;\n",
       "    }\n",
       "\n",
       "    .dataframe tbody tr th {\n",
       "        vertical-align: top;\n",
       "    }\n",
       "\n",
       "    .dataframe thead th {\n",
       "        text-align: right;\n",
       "    }\n",
       "</style>\n",
       "<table border=\"1\" class=\"dataframe\">\n",
       "  <thead>\n",
       "    <tr style=\"text-align: right;\">\n",
       "      <th></th>\n",
       "      <th>A</th>\n",
       "      <th>B</th>\n",
       "    </tr>\n",
       "    <tr>\n",
       "      <th>Group</th>\n",
       "      <th></th>\n",
       "      <th></th>\n",
       "    </tr>\n",
       "  </thead>\n",
       "  <tbody>\n",
       "    <tr>\n",
       "      <th>G1</th>\n",
       "      <td>-0.342179</td>\n",
       "      <td>-0.311597</td>\n",
       "    </tr>\n",
       "    <tr>\n",
       "      <th>G2</th>\n",
       "      <td>-0.755835</td>\n",
       "      <td>-1.391883</td>\n",
       "    </tr>\n",
       "  </tbody>\n",
       "</table>\n",
       "</div>"
      ],
      "text/plain": [
       "              A         B\n",
       "Group                    \n",
       "G1    -0.342179 -0.311597\n",
       "G2    -0.755835 -1.391883"
      ]
     },
     "execution_count": 14,
     "metadata": {},
     "output_type": "execute_result"
    }
   ],
   "source": [
    "df.xs(1, level=\"Num\")"
   ]
  }
 ],
 "metadata": {
  "kernelspec": {
   "display_name": "Python 3 (system-wide)",
   "language": "python",
   "name": "python3"
  },
  "language_info": {
   "codemirror_mode": {
    "name": "ipython",
    "version": 3
   },
   "file_extension": ".py",
   "mimetype": "text/x-python",
   "name": "python",
   "nbconvert_exporter": "python",
   "pygments_lexer": "ipython3",
   "version": "3.6.9"
  }
 },
 "nbformat": 4,
 "nbformat_minor": 2
}

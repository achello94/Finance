{
 "cells": [
  {
   "cell_type": "markdown",
   "metadata": {},
   "source": [
    "# Fund Return Analysis - Dynamic\n",
    "*A template for analysing fund returns.*\n",
    "\n",
    "-----------------------\n",
    "*Author - Andrea Chello*\n",
    "\n",
    "\n",
    "### Introduction:\n",
    "This is a template for the analysis of Fund returns. Simply import the CSV/Excel file with the return or backtested return data into the appropriate cells and the program will analyse the data and produce the key risk/return characteristics as well as the associated graphs.\n",
    "\n",
    "CSV/Excel file: has to be formatted as follows:\n",
    "- *Date, Fund, Benchmark 1, Benchmark 2, ..., Benchmark N*\n",
    "\n",
    "\n",
    "**Contents**\n",
    "1. Functions\n",
    "2. Import Return Data\n",
    "3. Return Calculations\n",
    "4. Return Characteristics\n",
    "5. Risk Characteristics\n",
    "6. Comparison to Benchmarks\n",
    "7. Capture Information\n",
    "8. Overview & Graphs"
   ]
  },
  {
   "cell_type": "markdown",
   "metadata": {},
   "source": [
    "#### Import Libraries"
   ]
  },
  {
   "cell_type": "markdown",
   "metadata": {},
   "source": [
    "Import the Python libraries needed to run the program."
   ]
  },
  {
   "cell_type": "code",
   "execution_count": 5,
   "metadata": {},
   "outputs": [],
   "source": [
    "import numpy as np\n",
    "import pandas as pd\n",
    "import matplotlib.pyplot as plt\n",
    "import matplotlib.dates as date\n",
    "%matplotlib inline\n",
    "import datetime\n",
    "import math as m\n",
    "import statistics as s\n",
    "import scipy.stats as sp"
   ]
  },
  {
   "cell_type": "markdown",
   "metadata": {},
   "source": [
    "# 1. Functions\n",
    "Listed below are a set of user-defined functions created for the sole purpose\n",
    "of this program. They are frequently used throughout."
   ]
  },
  {
   "cell_type": "code",
   "execution_count": 6,
   "metadata": {},
   "outputs": [],
   "source": [
    "def dataFrameMerger(lst, function, string, df2 = 0, comparison = False):\n",
    "    \n",
    "    \"\"\"\n",
    "    ==============\n",
    "    Documentation: \n",
    "    \n",
    "    Function that given a list of data, a function and a string that functions as\n",
    "    a column index for each element, returns a merged DataFrame of all the elements \n",
    "    of each data set with the applied function.\n",
    "    \n",
    "    If a second dataframe is specified it merges the newly created dataframe with \n",
    "    the additional one provided.\n",
    "    \n",
    "    if comparison is True:\n",
    "    we are comparing the fund with different benchmarks instead of simply merging each\n",
    "    element as we did before.\n",
    "    \n",
    "    \"\"\"\n",
    "    \n",
    "    if comparison == True:\n",
    "        #get initial merge table\n",
    "        \n",
    "        pegged_element = lst[lst.index(fund)]\n",
    "        merged = pd.merge(pd.DataFrame(function(lst)[0],index,[string + str(pegged_element) + \" - \" + str(lst[1])]),\n",
    "                       pd.DataFrame(function(lst)[1],index, [string + str(pegged_element) + \" - \" + str(lst[2])]),\n",
    "                       how=\"inner\", on=\"Date\")\n",
    "\n",
    "        #loop to add n series/dataframes to the initial merged dataframe\n",
    "        for i in range(2, len(lst)-1):\n",
    "            merged = pd.merge(pd.DataFrame(merged),\n",
    "                           pd.DataFrame(function(lst)[i],index,[string + str(pegged_element) + \" - \" + str(lst[i + 1])]),\n",
    "                           how=\"inner\", on=\"Date\")\n",
    "        \n",
    "    else:\n",
    "        #get initial merge table\n",
    "        merged = pd.merge(pd.DataFrame(function(lst[0]),index,[string + str(lst[0])]),\n",
    "                       pd.DataFrame(function(lst[1]),index, [string + str(lst[1])]),\n",
    "                       how=\"inner\", on=\"Date\")\n",
    "\n",
    "        #loop to add n series/dataframes to the initial merged dataframe\n",
    "        for i in lst[2:]:\n",
    "            merged = pd.merge(pd.DataFrame(merged),\n",
    "                           pd.DataFrame(function(i),index,[string + str(i)]),\n",
    "                           how=\"inner\", on=\"Date\")\n",
    "        \n",
    "    if type(df2) == type(merged):\n",
    "\n",
    "        merged = pd.merge(merged,df2,\n",
    "                   how=\"inner\", on=\"Date\")\n",
    "        \n",
    "    return merged\n"
   ]
  },
  {
   "cell_type": "markdown",
   "metadata": {},
   "source": [
    "## 2. Import Return Data"
   ]
  },
  {
   "cell_type": "markdown",
   "metadata": {},
   "source": [
    "Import the returns of the target fund and its benchmarks, either by passing through an Excel Spreadsheet or a CSV file into the corresponding DataFrame."
   ]
  },
  {
   "cell_type": "code",
   "execution_count": 7,
   "metadata": {},
   "outputs": [
    {
     "data": {
      "text/html": [
       "<div>\n",
       "<style scoped>\n",
       "    .dataframe tbody tr th:only-of-type {\n",
       "        vertical-align: middle;\n",
       "    }\n",
       "\n",
       "    .dataframe tbody tr th {\n",
       "        vertical-align: top;\n",
       "    }\n",
       "\n",
       "    .dataframe thead th {\n",
       "        text-align: right;\n",
       "    }\n",
       "</style>\n",
       "<table border=\"1\" class=\"dataframe\">\n",
       "  <thead>\n",
       "    <tr style=\"text-align: right;\">\n",
       "      <th></th>\n",
       "      <th>Invesco Global Water ETF</th>\n",
       "      <th>MSCI ACWI</th>\n",
       "      <th>MSCI EAFE</th>\n",
       "      <th>SP500</th>\n",
       "    </tr>\n",
       "    <tr>\n",
       "      <th>Date</th>\n",
       "      <th></th>\n",
       "      <th></th>\n",
       "      <th></th>\n",
       "      <th></th>\n",
       "    </tr>\n",
       "  </thead>\n",
       "  <tbody>\n",
       "    <tr>\n",
       "      <th>2011-01-01</th>\n",
       "      <td>0.009091</td>\n",
       "      <td>0.0290</td>\n",
       "      <td>0.0174</td>\n",
       "      <td>0.00814</td>\n",
       "    </tr>\n",
       "    <tr>\n",
       "      <th>2011-01-02</th>\n",
       "      <td>0.022522</td>\n",
       "      <td>0.0069</td>\n",
       "      <td>0.0179</td>\n",
       "      <td>0.02753</td>\n",
       "    </tr>\n",
       "    <tr>\n",
       "      <th>2011-01-03</th>\n",
       "      <td>0.046500</td>\n",
       "      <td>0.0138</td>\n",
       "      <td>0.0052</td>\n",
       "      <td>-0.00342</td>\n",
       "    </tr>\n",
       "    <tr>\n",
       "      <th>2011-01-04</th>\n",
       "      <td>-0.021515</td>\n",
       "      <td>0.0012</td>\n",
       "      <td>0.0111</td>\n",
       "      <td>0.03859</td>\n",
       "    </tr>\n",
       "    <tr>\n",
       "      <th>2011-01-05</th>\n",
       "      <td>-0.031549</td>\n",
       "      <td>0.0180</td>\n",
       "      <td>0.0337</td>\n",
       "      <td>-0.02522</td>\n",
       "    </tr>\n",
       "  </tbody>\n",
       "</table>\n",
       "</div>"
      ],
      "text/plain": [
       "            Invesco Global Water ETF  MSCI ACWI  MSCI EAFE    SP500\n",
       "Date                                                               \n",
       "2011-01-01                  0.009091     0.0290     0.0174  0.00814\n",
       "2011-01-02                  0.022522     0.0069     0.0179  0.02753\n",
       "2011-01-03                  0.046500     0.0138     0.0052 -0.00342\n",
       "2011-01-04                 -0.021515     0.0012     0.0111  0.03859\n",
       "2011-01-05                 -0.031549     0.0180     0.0337 -0.02522"
      ]
     },
     "execution_count": 7,
     "metadata": {},
     "output_type": "execute_result"
    }
   ],
   "source": [
    "\"\"\"====================\"\"\"\n",
    "\"\"\"Import from CSV File\"\"\"\n",
    "\"\"\"====================\"\"\"\n",
    "\n",
    "data = pd.read_csv(\"Data.csv\", index_col=0, parse_dates = True)\n",
    "returns_data = pd.DataFrame(data).fillna(value = 0)\n",
    "\n",
    "lst = []\n",
    "fund = returns_data.columns[0]\n",
    "for i in returns_data.columns:\n",
    "    lst.append(i)\n",
    "benchmark_lst = [i for i in lst if i != fund]\n",
    "\n",
    "#Grab the index\n",
    "index = returns_data.index\n",
    "returns_data.head()"
   ]
  },
  {
   "cell_type": "markdown",
   "metadata": {},
   "source": [
    "## 3. Return Calculations\n",
    "\n",
    "The return characteristics serve as inputs to the risk-return metrics calculated in the final output table."
   ]
  },
  {
   "cell_type": "markdown",
   "metadata": {},
   "source": [
    "## Cumulative Performance"
   ]
  },
  {
   "cell_type": "markdown",
   "metadata": {},
   "source": [
    "Calculate the cumulative return of:\n",
    "- Fund\n",
    "- Indices"
   ]
  },
  {
   "cell_type": "markdown",
   "metadata": {},
   "source": [
    "$i_{i} = (1+r_{t})*i_{t-1}$"
   ]
  },
  {
   "cell_type": "code",
   "execution_count": 8,
   "metadata": {},
   "outputs": [
    {
     "data": {
      "text/html": [
       "<div>\n",
       "<style scoped>\n",
       "    .dataframe tbody tr th:only-of-type {\n",
       "        vertical-align: middle;\n",
       "    }\n",
       "\n",
       "    .dataframe tbody tr th {\n",
       "        vertical-align: top;\n",
       "    }\n",
       "\n",
       "    .dataframe thead th {\n",
       "        text-align: right;\n",
       "    }\n",
       "</style>\n",
       "<table border=\"1\" class=\"dataframe\">\n",
       "  <thead>\n",
       "    <tr style=\"text-align: right;\">\n",
       "      <th></th>\n",
       "      <th>Cumulative Return Invesco Global Water ETF</th>\n",
       "      <th>Cumulative Return MSCI ACWI</th>\n",
       "      <th>Cumulative Return MSCI EAFE</th>\n",
       "      <th>Cumulative Return SP500</th>\n",
       "    </tr>\n",
       "    <tr>\n",
       "      <th>Date</th>\n",
       "      <th></th>\n",
       "      <th></th>\n",
       "      <th></th>\n",
       "      <th></th>\n",
       "    </tr>\n",
       "  </thead>\n",
       "  <tbody>\n",
       "    <tr>\n",
       "      <th>2011-01-01</th>\n",
       "      <td>1.009</td>\n",
       "      <td>1.029</td>\n",
       "      <td>1.017</td>\n",
       "      <td>1.008</td>\n",
       "    </tr>\n",
       "    <tr>\n",
       "      <th>2011-01-02</th>\n",
       "      <td>1.032</td>\n",
       "      <td>1.036</td>\n",
       "      <td>1.035</td>\n",
       "      <td>1.036</td>\n",
       "    </tr>\n",
       "    <tr>\n",
       "      <th>2011-01-03</th>\n",
       "      <td>1.080</td>\n",
       "      <td>1.050</td>\n",
       "      <td>1.040</td>\n",
       "      <td>1.032</td>\n",
       "    </tr>\n",
       "    <tr>\n",
       "      <th>2011-01-04</th>\n",
       "      <td>1.057</td>\n",
       "      <td>1.051</td>\n",
       "      <td>1.052</td>\n",
       "      <td>1.072</td>\n",
       "    </tr>\n",
       "    <tr>\n",
       "      <th>2011-01-05</th>\n",
       "      <td>1.024</td>\n",
       "      <td>1.070</td>\n",
       "      <td>1.087</td>\n",
       "      <td>1.045</td>\n",
       "    </tr>\n",
       "  </tbody>\n",
       "</table>\n",
       "</div>"
      ],
      "text/plain": [
       "            Cumulative Return Invesco Global Water ETF  \\\n",
       "Date                                                     \n",
       "2011-01-01                                       1.009   \n",
       "2011-01-02                                       1.032   \n",
       "2011-01-03                                       1.080   \n",
       "2011-01-04                                       1.057   \n",
       "2011-01-05                                       1.024   \n",
       "\n",
       "            Cumulative Return MSCI ACWI  Cumulative Return MSCI EAFE  \\\n",
       "Date                                                                   \n",
       "2011-01-01                        1.029                        1.017   \n",
       "2011-01-02                        1.036                        1.035   \n",
       "2011-01-03                        1.050                        1.040   \n",
       "2011-01-04                        1.051                        1.052   \n",
       "2011-01-05                        1.070                        1.087   \n",
       "\n",
       "            Cumulative Return SP500  \n",
       "Date                                 \n",
       "2011-01-01                    1.008  \n",
       "2011-01-02                    1.036  \n",
       "2011-01-03                    1.032  \n",
       "2011-01-04                    1.072  \n",
       "2011-01-05                    1.045  "
      ]
     },
     "execution_count": 8,
     "metadata": {},
     "output_type": "execute_result"
    }
   ],
   "source": [
    "\"\"\"==================================\"\"\"\n",
    "\"\"\"Cumulative Performance Fund\"\"\"\n",
    "\"\"\"==================================\"\"\"\n",
    "\n",
    "def cumulativePerformanceCalculation(dataset):\n",
    "    \n",
    "    #Initialize the Cumulative Performance Array\n",
    "    cum_perf = []\n",
    "\n",
    "    #Append to array first set of starting return\n",
    "    count = round(1 + returns_data[dataset][0],3)\n",
    "    cum_perf.append(count)\n",
    "\n",
    "    #For loop to add the return data to the array\n",
    "\n",
    "    for i in range(1,len(returns_data[dataset])):\n",
    "        cf = round(cum_perf[i-1]*(1+returns_data[dataset][i]),3)\n",
    "        cum_perf.append(cf)\n",
    "\n",
    "    #Convert cumultative return of the fund to a NumPy array\n",
    "\n",
    "    #Limit the data points of the array to be equal to the length of the fund returns\n",
    "\n",
    "    cum_ret = np.array(cum_perf[:len(returns_data[dataset])])\n",
    "\n",
    "    #Reshape the array to make it more readable\n",
    "    cum_ret = cum_ret.reshape(len(returns_data[dataset]),1)\n",
    "    \n",
    "    return cum_ret\n",
    "\n",
    "cumulative_performance = dataFrameMerger(lst, cumulativePerformanceCalculation,\\\n",
    "                                         \"Cumulative Return \")\n",
    "cumulative_performance.head()\n"
   ]
  },
  {
   "cell_type": "markdown",
   "metadata": {},
   "source": [
    "## Maximum Drawdown"
   ]
  },
  {
   "cell_type": "markdown",
   "metadata": {},
   "source": [
    "Calculate the maximum drawdown of:\n",
    "- Fund\n",
    "- Indices"
   ]
  },
  {
   "cell_type": "markdown",
   "metadata": {},
   "source": [
    "$MDD = \\frac{High - Low}{Low}$"
   ]
  },
  {
   "cell_type": "code",
   "execution_count": 9,
   "metadata": {
    "scrolled": false
   },
   "outputs": [
    {
     "data": {
      "text/html": [
       "<div>\n",
       "<style scoped>\n",
       "    .dataframe tbody tr th:only-of-type {\n",
       "        vertical-align: middle;\n",
       "    }\n",
       "\n",
       "    .dataframe tbody tr th {\n",
       "        vertical-align: top;\n",
       "    }\n",
       "\n",
       "    .dataframe thead th {\n",
       "        text-align: right;\n",
       "    }\n",
       "</style>\n",
       "<table border=\"1\" class=\"dataframe\">\n",
       "  <thead>\n",
       "    <tr style=\"text-align: right;\">\n",
       "      <th></th>\n",
       "      <th>Maximum Drawdown Invesco Global Water ETF</th>\n",
       "      <th>Maximum Drawdown MSCI ACWI</th>\n",
       "      <th>Maximum Drawdown MSCI EAFE</th>\n",
       "      <th>Maximum Drawdown SP500</th>\n",
       "      <th>Cumulative Return Invesco Global Water ETF</th>\n",
       "      <th>Cumulative Return MSCI ACWI</th>\n",
       "      <th>Cumulative Return MSCI EAFE</th>\n",
       "      <th>Cumulative Return SP500</th>\n",
       "    </tr>\n",
       "    <tr>\n",
       "      <th>Date</th>\n",
       "      <th></th>\n",
       "      <th></th>\n",
       "      <th></th>\n",
       "      <th></th>\n",
       "      <th></th>\n",
       "      <th></th>\n",
       "      <th></th>\n",
       "      <th></th>\n",
       "    </tr>\n",
       "  </thead>\n",
       "  <tbody>\n",
       "    <tr>\n",
       "      <th>2011-01-01</th>\n",
       "      <td>0.000</td>\n",
       "      <td>0.000</td>\n",
       "      <td>0.000</td>\n",
       "      <td>0.000</td>\n",
       "      <td>1.009</td>\n",
       "      <td>1.029</td>\n",
       "      <td>1.017</td>\n",
       "      <td>1.008</td>\n",
       "    </tr>\n",
       "    <tr>\n",
       "      <th>2011-01-02</th>\n",
       "      <td>0.023</td>\n",
       "      <td>0.007</td>\n",
       "      <td>0.018</td>\n",
       "      <td>0.028</td>\n",
       "      <td>1.032</td>\n",
       "      <td>1.036</td>\n",
       "      <td>1.035</td>\n",
       "      <td>1.036</td>\n",
       "    </tr>\n",
       "    <tr>\n",
       "      <th>2011-01-03</th>\n",
       "      <td>0.047</td>\n",
       "      <td>0.014</td>\n",
       "      <td>0.005</td>\n",
       "      <td>-0.004</td>\n",
       "      <td>1.080</td>\n",
       "      <td>1.050</td>\n",
       "      <td>1.040</td>\n",
       "      <td>1.032</td>\n",
       "    </tr>\n",
       "    <tr>\n",
       "      <th>2011-01-04</th>\n",
       "      <td>-0.021</td>\n",
       "      <td>0.001</td>\n",
       "      <td>0.012</td>\n",
       "      <td>0.035</td>\n",
       "      <td>1.057</td>\n",
       "      <td>1.051</td>\n",
       "      <td>1.052</td>\n",
       "      <td>1.072</td>\n",
       "    </tr>\n",
       "    <tr>\n",
       "      <th>2011-01-05</th>\n",
       "      <td>-0.052</td>\n",
       "      <td>0.018</td>\n",
       "      <td>0.033</td>\n",
       "      <td>-0.025</td>\n",
       "      <td>1.024</td>\n",
       "      <td>1.070</td>\n",
       "      <td>1.087</td>\n",
       "      <td>1.045</td>\n",
       "    </tr>\n",
       "  </tbody>\n",
       "</table>\n",
       "</div>"
      ],
      "text/plain": [
       "            Maximum Drawdown Invesco Global Water ETF  \\\n",
       "Date                                                    \n",
       "2011-01-01                                      0.000   \n",
       "2011-01-02                                      0.023   \n",
       "2011-01-03                                      0.047   \n",
       "2011-01-04                                     -0.021   \n",
       "2011-01-05                                     -0.052   \n",
       "\n",
       "            Maximum Drawdown MSCI ACWI  Maximum Drawdown MSCI EAFE  \\\n",
       "Date                                                                 \n",
       "2011-01-01                       0.000                       0.000   \n",
       "2011-01-02                       0.007                       0.018   \n",
       "2011-01-03                       0.014                       0.005   \n",
       "2011-01-04                       0.001                       0.012   \n",
       "2011-01-05                       0.018                       0.033   \n",
       "\n",
       "            Maximum Drawdown SP500  \\\n",
       "Date                                 \n",
       "2011-01-01                   0.000   \n",
       "2011-01-02                   0.028   \n",
       "2011-01-03                  -0.004   \n",
       "2011-01-04                   0.035   \n",
       "2011-01-05                  -0.025   \n",
       "\n",
       "            Cumulative Return Invesco Global Water ETF  \\\n",
       "Date                                                     \n",
       "2011-01-01                                       1.009   \n",
       "2011-01-02                                       1.032   \n",
       "2011-01-03                                       1.080   \n",
       "2011-01-04                                       1.057   \n",
       "2011-01-05                                       1.024   \n",
       "\n",
       "            Cumulative Return MSCI ACWI  Cumulative Return MSCI EAFE  \\\n",
       "Date                                                                   \n",
       "2011-01-01                        1.029                        1.017   \n",
       "2011-01-02                        1.036                        1.035   \n",
       "2011-01-03                        1.050                        1.040   \n",
       "2011-01-04                        1.051                        1.052   \n",
       "2011-01-05                        1.070                        1.087   \n",
       "\n",
       "            Cumulative Return SP500  \n",
       "Date                                 \n",
       "2011-01-01                    1.008  \n",
       "2011-01-02                    1.036  \n",
       "2011-01-03                    1.032  \n",
       "2011-01-04                    1.072  \n",
       "2011-01-05                    1.045  "
      ]
     },
     "execution_count": 9,
     "metadata": {},
     "output_type": "execute_result"
    }
   ],
   "source": [
    "\"\"\"==================================\"\"\"\n",
    "\"\"\"Maximum Drawdown Calculations Fund\"\"\"\n",
    "\"\"\"==================================\"\"\"\n",
    "\n",
    "def maximumDrawdownCalculation(data):\n",
    "    #Initialize the MDD list\n",
    "    mdd = []\n",
    "\n",
    "    #Populate list with first element\n",
    "    first = cumulative_performance[\"Cumulative Return \" + str(data)][0]\\\n",
    "    /(cumulative_performance[\"Cumulative Return \" + str(data)].iloc[0]) - 1\n",
    "    mdd.append(first)\n",
    "\n",
    "    #Loop to append the MDD formula for each element in the DataFrame\n",
    "    i=0\n",
    "    for i in range(1,len(returns_data[fund])):\n",
    "        maxdraw = round(cumulative_performance[\"Cumulative Return \" + str(data)][i]\\\n",
    "                             /(max(cumulative_performance[\"Cumulative Return \" + str(data)]\\\n",
    "                                   .iloc[0:i]))- 1,3)\n",
    "        mdd.append(maxdraw)\n",
    "        i+=1\n",
    "\n",
    "    #Convert to array and reshape    \n",
    "    mdd = np.array(mdd).reshape(len(mdd),1)\n",
    "    return mdd\n",
    "    \n",
    "cpf_mdd = dataFrameMerger(lst, maximumDrawdownCalculation, \"Maximum Drawdown \",\n",
    "                          df2 = cumulative_performance)    \n",
    "cpf_mdd.head()   \n"
   ]
  },
  {
   "cell_type": "markdown",
   "metadata": {},
   "source": [
    "## Sortino Ratio"
   ]
  },
  {
   "cell_type": "markdown",
   "metadata": {},
   "source": [
    "Calculate the Sortino Ratio of:\n",
    "- Fund\n",
    "- Indices"
   ]
  },
  {
   "cell_type": "markdown",
   "metadata": {},
   "source": [
    "$Sortino\\ Ratio = \\frac{R_{p} - R_{f}}{\\sigma_{d}}$"
   ]
  },
  {
   "cell_type": "code",
   "execution_count": 10,
   "metadata": {},
   "outputs": [],
   "source": [
    "\"\"\"===============================\"\"\"\n",
    "\"\"\"Sortino Ratio Calculations Fund\"\"\"\n",
    "\"\"\"===============================\"\"\"\n",
    "\n",
    "def sortinoRatioCalculation(data):\n",
    "    sr = []\n",
    "    for i in range(0, len(returns_data[data])):\n",
    "        #Downside deviation condition - Get only negative returns (for each return)\n",
    "        if returns_data[data][i] < 0:\n",
    "            sr.append(returns_data[data][i])\n",
    "        else:\n",
    "            sr.append(0)\n",
    "    #convert to numpy array\n",
    "    sortino_ratio_calc = np.array(sr)\n",
    "    return sortino_ratio_calc"
   ]
  },
  {
   "cell_type": "markdown",
   "metadata": {},
   "source": [
    "## Cumulative Return Difference"
   ]
  },
  {
   "cell_type": "markdown",
   "metadata": {},
   "source": [
    "Calculate the cumulative return difference of:\n",
    "- Fund\n",
    "- Indices"
   ]
  },
  {
   "cell_type": "code",
   "execution_count": 11,
   "metadata": {},
   "outputs": [],
   "source": [
    "\"\"\"==============================================\"\"\"\n",
    "\"\"\"Cumulative Return Difference Fund - Benchmarks\"\"\"\n",
    "\"\"\"==============================================\"\"\"\n",
    "\n",
    "def cumulativeReturnDifference(lst):\n",
    "    dff = []\n",
    "    pegged_element = lst[lst.index(fund)]\n",
    "    for i in lst[1:]:\n",
    "        diff = returns_data[pegged_element] - returns_data[i]\n",
    "        dff.append(diff)\n",
    "\n",
    "    cum_ret_diff = np.array(dff)\n",
    "    return cum_ret_diff"
   ]
  },
  {
   "cell_type": "markdown",
   "metadata": {},
   "source": [
    "### Merge DataFrames "
   ]
  },
  {
   "cell_type": "code",
   "execution_count": 12,
   "metadata": {},
   "outputs": [
    {
     "data": {
      "text/html": [
       "<div>\n",
       "<style scoped>\n",
       "    .dataframe tbody tr th:only-of-type {\n",
       "        vertical-align: middle;\n",
       "    }\n",
       "\n",
       "    .dataframe tbody tr th {\n",
       "        vertical-align: top;\n",
       "    }\n",
       "\n",
       "    .dataframe thead th {\n",
       "        text-align: right;\n",
       "    }\n",
       "</style>\n",
       "<table border=\"1\" class=\"dataframe\">\n",
       "  <thead>\n",
       "    <tr style=\"text-align: right;\">\n",
       "      <th></th>\n",
       "      <th>Cumulative Return Difference Invesco Global Water ETF - MSCI ACWI</th>\n",
       "      <th>Cumulative Return Difference Invesco Global Water ETF - MSCI EAFE</th>\n",
       "      <th>Cumulative Return Difference Invesco Global Water ETF - SP500</th>\n",
       "      <th>Maximum Drawdown Invesco Global Water ETF</th>\n",
       "      <th>Maximum Drawdown MSCI ACWI</th>\n",
       "      <th>Maximum Drawdown MSCI EAFE</th>\n",
       "      <th>Maximum Drawdown SP500</th>\n",
       "      <th>Cumulative Return Invesco Global Water ETF</th>\n",
       "      <th>Cumulative Return MSCI ACWI</th>\n",
       "      <th>Cumulative Return MSCI EAFE</th>\n",
       "      <th>Cumulative Return SP500</th>\n",
       "    </tr>\n",
       "    <tr>\n",
       "      <th>Date</th>\n",
       "      <th></th>\n",
       "      <th></th>\n",
       "      <th></th>\n",
       "      <th></th>\n",
       "      <th></th>\n",
       "      <th></th>\n",
       "      <th></th>\n",
       "      <th></th>\n",
       "      <th></th>\n",
       "      <th></th>\n",
       "      <th></th>\n",
       "    </tr>\n",
       "  </thead>\n",
       "  <tbody>\n",
       "    <tr>\n",
       "      <th>2011-01-01</th>\n",
       "      <td>-0.019909</td>\n",
       "      <td>-0.008309</td>\n",
       "      <td>0.000951</td>\n",
       "      <td>0.000</td>\n",
       "      <td>0.000</td>\n",
       "      <td>0.000</td>\n",
       "      <td>0.000</td>\n",
       "      <td>1.009</td>\n",
       "      <td>1.029</td>\n",
       "      <td>1.017</td>\n",
       "      <td>1.008</td>\n",
       "    </tr>\n",
       "    <tr>\n",
       "      <th>2011-01-02</th>\n",
       "      <td>0.015622</td>\n",
       "      <td>0.004622</td>\n",
       "      <td>-0.005008</td>\n",
       "      <td>0.023</td>\n",
       "      <td>0.007</td>\n",
       "      <td>0.018</td>\n",
       "      <td>0.028</td>\n",
       "      <td>1.032</td>\n",
       "      <td>1.036</td>\n",
       "      <td>1.035</td>\n",
       "      <td>1.036</td>\n",
       "    </tr>\n",
       "    <tr>\n",
       "      <th>2011-01-03</th>\n",
       "      <td>0.032700</td>\n",
       "      <td>0.041300</td>\n",
       "      <td>0.049920</td>\n",
       "      <td>0.047</td>\n",
       "      <td>0.014</td>\n",
       "      <td>0.005</td>\n",
       "      <td>-0.004</td>\n",
       "      <td>1.080</td>\n",
       "      <td>1.050</td>\n",
       "      <td>1.040</td>\n",
       "      <td>1.032</td>\n",
       "    </tr>\n",
       "    <tr>\n",
       "      <th>2011-01-04</th>\n",
       "      <td>-0.022715</td>\n",
       "      <td>-0.032615</td>\n",
       "      <td>-0.060105</td>\n",
       "      <td>-0.021</td>\n",
       "      <td>0.001</td>\n",
       "      <td>0.012</td>\n",
       "      <td>0.035</td>\n",
       "      <td>1.057</td>\n",
       "      <td>1.051</td>\n",
       "      <td>1.052</td>\n",
       "      <td>1.072</td>\n",
       "    </tr>\n",
       "    <tr>\n",
       "      <th>2011-01-05</th>\n",
       "      <td>-0.049549</td>\n",
       "      <td>-0.065249</td>\n",
       "      <td>-0.006329</td>\n",
       "      <td>-0.052</td>\n",
       "      <td>0.018</td>\n",
       "      <td>0.033</td>\n",
       "      <td>-0.025</td>\n",
       "      <td>1.024</td>\n",
       "      <td>1.070</td>\n",
       "      <td>1.087</td>\n",
       "      <td>1.045</td>\n",
       "    </tr>\n",
       "  </tbody>\n",
       "</table>\n",
       "</div>"
      ],
      "text/plain": [
       "            Cumulative Return Difference Invesco Global Water ETF - MSCI ACWI  \\\n",
       "Date                                                                            \n",
       "2011-01-01                                          -0.019909                   \n",
       "2011-01-02                                           0.015622                   \n",
       "2011-01-03                                           0.032700                   \n",
       "2011-01-04                                          -0.022715                   \n",
       "2011-01-05                                          -0.049549                   \n",
       "\n",
       "            Cumulative Return Difference Invesco Global Water ETF - MSCI EAFE  \\\n",
       "Date                                                                            \n",
       "2011-01-01                                          -0.008309                   \n",
       "2011-01-02                                           0.004622                   \n",
       "2011-01-03                                           0.041300                   \n",
       "2011-01-04                                          -0.032615                   \n",
       "2011-01-05                                          -0.065249                   \n",
       "\n",
       "            Cumulative Return Difference Invesco Global Water ETF - SP500  \\\n",
       "Date                                                                        \n",
       "2011-01-01                                           0.000951               \n",
       "2011-01-02                                          -0.005008               \n",
       "2011-01-03                                           0.049920               \n",
       "2011-01-04                                          -0.060105               \n",
       "2011-01-05                                          -0.006329               \n",
       "\n",
       "            Maximum Drawdown Invesco Global Water ETF  \\\n",
       "Date                                                    \n",
       "2011-01-01                                      0.000   \n",
       "2011-01-02                                      0.023   \n",
       "2011-01-03                                      0.047   \n",
       "2011-01-04                                     -0.021   \n",
       "2011-01-05                                     -0.052   \n",
       "\n",
       "            Maximum Drawdown MSCI ACWI  Maximum Drawdown MSCI EAFE  \\\n",
       "Date                                                                 \n",
       "2011-01-01                       0.000                       0.000   \n",
       "2011-01-02                       0.007                       0.018   \n",
       "2011-01-03                       0.014                       0.005   \n",
       "2011-01-04                       0.001                       0.012   \n",
       "2011-01-05                       0.018                       0.033   \n",
       "\n",
       "            Maximum Drawdown SP500  \\\n",
       "Date                                 \n",
       "2011-01-01                   0.000   \n",
       "2011-01-02                   0.028   \n",
       "2011-01-03                  -0.004   \n",
       "2011-01-04                   0.035   \n",
       "2011-01-05                  -0.025   \n",
       "\n",
       "            Cumulative Return Invesco Global Water ETF  \\\n",
       "Date                                                     \n",
       "2011-01-01                                       1.009   \n",
       "2011-01-02                                       1.032   \n",
       "2011-01-03                                       1.080   \n",
       "2011-01-04                                       1.057   \n",
       "2011-01-05                                       1.024   \n",
       "\n",
       "            Cumulative Return MSCI ACWI  Cumulative Return MSCI EAFE  \\\n",
       "Date                                                                   \n",
       "2011-01-01                        1.029                        1.017   \n",
       "2011-01-02                        1.036                        1.035   \n",
       "2011-01-03                        1.050                        1.040   \n",
       "2011-01-04                        1.051                        1.052   \n",
       "2011-01-05                        1.070                        1.087   \n",
       "\n",
       "            Cumulative Return SP500  \n",
       "Date                                 \n",
       "2011-01-01                    1.008  \n",
       "2011-01-02                    1.036  \n",
       "2011-01-03                    1.032  \n",
       "2011-01-04                    1.072  \n",
       "2011-01-05                    1.045  "
      ]
     },
     "execution_count": 12,
     "metadata": {},
     "output_type": "execute_result"
    }
   ],
   "source": [
    "\"\"\"Merge dataframe versions of fund and benchmark cumulative performance\n",
    "to the cumulative performance and max drawdown dataframes\"\"\"\n",
    "\n",
    "return_calculations = dataFrameMerger(lst, function = cumulativeReturnDifference,\n",
    "                                      string = \"Cumulative Return Difference \",\n",
    "                                      comparison = True, df2 = cpf_mdd)\n",
    "return_calculations.head()\n"
   ]
  },
  {
   "cell_type": "markdown",
   "metadata": {},
   "source": [
    "# 4. Return Characteristics"
   ]
  },
  {
   "cell_type": "code",
   "execution_count": 13,
   "metadata": {},
   "outputs": [],
   "source": [
    "#Initialize list with the return characteristics with initial whitespaces \n",
    "#to separate table sections\n",
    "\n",
    "ret_char_list = []\n",
    "#Spaces for table data\n",
    "ret_char_list += [\"\" for i in range(0, len(lst))]"
   ]
  },
  {
   "cell_type": "markdown",
   "metadata": {},
   "source": [
    "## Cumulative Return"
   ]
  },
  {
   "cell_type": "markdown",
   "metadata": {},
   "source": [
    "$Cumulative Return = \\prod(1+r_{i}) - 1$"
   ]
  },
  {
   "cell_type": "code",
   "execution_count": 14,
   "metadata": {},
   "outputs": [],
   "source": [
    "\"\"\"==================\"\"\"\n",
    "\"\"\"Cumulative Returns\"\"\"\n",
    "\"\"\"==================\"\"\"\n",
    "\n",
    "def cumulativeReturn(data):\n",
    "    #calculate cumulative return using as inputs the monthly returns\n",
    "    cum_return = round(np.product(1+returns_data[data]) - 1, 3)\n",
    "    return cum_return\n",
    "\n",
    "ret_char_list += [cumulativeReturn(i) for i in lst]"
   ]
  },
  {
   "cell_type": "markdown",
   "metadata": {},
   "source": [
    "## Annualised Return\n",
    "\n",
    "$Annualised Return = (1+Cumulative Return)^{(12 / N)} - 1$"
   ]
  },
  {
   "cell_type": "code",
   "execution_count": 15,
   "metadata": {
    "scrolled": true
   },
   "outputs": [],
   "source": [
    "\"\"\"=================\"\"\"\n",
    "\"\"\"Annualised Return\"\"\"\n",
    "\"\"\"=================\"\"\"\n",
    "\n",
    "def annualisedReturn(data):\n",
    "    annualised_return = round(m.pow(1+cumulativeReturn(data),\\\n",
    "                                    (12/(len(returns_data[data]))))-1,3)\n",
    "    return annualised_return\n",
    "\n",
    "ret_char_list += [annualisedReturn(i) for i in lst]"
   ]
  },
  {
   "cell_type": "markdown",
   "metadata": {},
   "source": [
    "## Best Month"
   ]
  },
  {
   "cell_type": "code",
   "execution_count": 16,
   "metadata": {},
   "outputs": [],
   "source": [
    "\"\"\"==========\"\"\"\n",
    "\"\"\"Best Month\"\"\"\n",
    "\"\"\"==========\"\"\"\n",
    "\n",
    "def bestMonth(data):\n",
    "    #get the maximum monthly return value out of all the monthly return values\n",
    "    best_month = round(max(returns_data[data]), 3)\n",
    "    return best_month\n",
    "    \n",
    "ret_char_list += [bestMonth(i) for i in lst]"
   ]
  },
  {
   "cell_type": "markdown",
   "metadata": {},
   "source": [
    "## Worst Month"
   ]
  },
  {
   "cell_type": "code",
   "execution_count": 17,
   "metadata": {},
   "outputs": [],
   "source": [
    "\"\"\"================\"\"\"\n",
    "\"\"\"Worst Month Fund\"\"\"\n",
    "\"\"\"================\"\"\"\n",
    "def worstMonth(data):\n",
    "    #get the minimum monthly return value out of all the monthly return values\n",
    "    worst_month = round(min(returns_data[data]), 3)\n",
    "    return worst_month\n",
    "    \n",
    "ret_char_list += [worstMonth(i) for i in lst]"
   ]
  },
  {
   "cell_type": "markdown",
   "metadata": {},
   "source": [
    "## Percentage of Positive Months"
   ]
  },
  {
   "cell_type": "code",
   "execution_count": 18,
   "metadata": {},
   "outputs": [],
   "source": [
    "\"\"\"=============================\"\"\"\n",
    "\"\"\"Percentage of Positive Months\"\"\"\n",
    "\"\"\"=============================\"\"\"\n",
    "\n",
    "def positiveMonths(data):\n",
    "    #count how many months had positive returns\n",
    "    pos_month = returns_data[data][returns_data[data]>0].count()\n",
    "    #divide the number of positive months by the total number of months\n",
    "    perc_pos = round(pos_month/len(returns_data[data]),3)\n",
    "    return perc_pos\n",
    "\n",
    "ret_char_list += [positiveMonths(i) for i in lst]"
   ]
  },
  {
   "cell_type": "markdown",
   "metadata": {},
   "source": [
    "## Percentage of Negative Months"
   ]
  },
  {
   "cell_type": "code",
   "execution_count": 19,
   "metadata": {},
   "outputs": [],
   "source": [
    "\"\"\"=============================\"\"\"\n",
    "\"\"\"Percentage of Positive Months\"\"\"\n",
    "\"\"\"=============================\"\"\"\n",
    "\n",
    "def negativeMonths(data):\n",
    "    #count how many months had negative returns\n",
    "    neg_month = returns_data[data][returns_data[data]<0].count()\n",
    "    #divide the number of negative months by the total number of months\n",
    "    perc_neg = round(neg_month/len(returns_data[data]),3)\n",
    "    return perc_neg\n",
    "\n",
    "ret_char_list += [negativeMonths(i) for i in lst]\n",
    "\n",
    "#Append spaces for each variable\n",
    "ret_char_list += [\"\" for i in range(0, len(lst))]"
   ]
  },
  {
   "cell_type": "markdown",
   "metadata": {},
   "source": [
    "## Merge Data"
   ]
  },
  {
   "cell_type": "code",
   "execution_count": 20,
   "metadata": {},
   "outputs": [],
   "source": [
    "#Reshape Array \n",
    "ret_char_array = np.array(ret_char_list).reshape(len(ret_char_list)//len(lst),len(lst))"
   ]
  },
  {
   "cell_type": "code",
   "execution_count": 21,
   "metadata": {
    "scrolled": true
   },
   "outputs": [
    {
     "data": {
      "text/html": [
       "<div>\n",
       "<style scoped>\n",
       "    .dataframe tbody tr th:only-of-type {\n",
       "        vertical-align: middle;\n",
       "    }\n",
       "\n",
       "    .dataframe tbody tr th {\n",
       "        vertical-align: top;\n",
       "    }\n",
       "\n",
       "    .dataframe thead th {\n",
       "        text-align: right;\n",
       "    }\n",
       "</style>\n",
       "<table border=\"1\" class=\"dataframe\">\n",
       "  <thead>\n",
       "    <tr style=\"text-align: right;\">\n",
       "      <th></th>\n",
       "      <th>Invesco Global Water ETF</th>\n",
       "      <th>MSCI ACWI</th>\n",
       "      <th>MSCI EAFE</th>\n",
       "      <th>SP500</th>\n",
       "    </tr>\n",
       "  </thead>\n",
       "  <tbody>\n",
       "    <tr>\n",
       "      <th>RETURN CHARACTERISTICS</th>\n",
       "      <td></td>\n",
       "      <td></td>\n",
       "      <td></td>\n",
       "      <td></td>\n",
       "    </tr>\n",
       "    <tr>\n",
       "      <th>Cumulative Return</th>\n",
       "      <td>0.439</td>\n",
       "      <td>0.302</td>\n",
       "      <td>0.14</td>\n",
       "      <td>0.384</td>\n",
       "    </tr>\n",
       "    <tr>\n",
       "      <th>Annualised Return</th>\n",
       "      <td>0.046</td>\n",
       "      <td>0.033</td>\n",
       "      <td>0.016</td>\n",
       "      <td>0.041</td>\n",
       "    </tr>\n",
       "    <tr>\n",
       "      <th>Best Month</th>\n",
       "      <td>0.098</td>\n",
       "      <td>0.029</td>\n",
       "      <td>0.035</td>\n",
       "      <td>0.107</td>\n",
       "    </tr>\n",
       "    <tr>\n",
       "      <th>Worst Month</th>\n",
       "      <td>-0.114</td>\n",
       "      <td>-0.032</td>\n",
       "      <td>-0.043</td>\n",
       "      <td>-0.097</td>\n",
       "    </tr>\n",
       "    <tr>\n",
       "      <th>Percentage Positive Months</th>\n",
       "      <td>0.588</td>\n",
       "      <td>0.649</td>\n",
       "      <td>0.526</td>\n",
       "      <td>0.598</td>\n",
       "    </tr>\n",
       "    <tr>\n",
       "      <th>Percentage Negative Months</th>\n",
       "      <td>0.392</td>\n",
       "      <td>0.34</td>\n",
       "      <td>0.454</td>\n",
       "      <td>0.392</td>\n",
       "    </tr>\n",
       "    <tr>\n",
       "      <th></th>\n",
       "      <td></td>\n",
       "      <td></td>\n",
       "      <td></td>\n",
       "      <td></td>\n",
       "    </tr>\n",
       "  </tbody>\n",
       "</table>\n",
       "</div>"
      ],
      "text/plain": [
       "                           Invesco Global Water ETF MSCI ACWI MSCI EAFE  \\\n",
       "RETURN CHARACTERISTICS                                                    \n",
       "Cumulative Return                             0.439     0.302      0.14   \n",
       "Annualised Return                             0.046     0.033     0.016   \n",
       "Best Month                                    0.098     0.029     0.035   \n",
       "Worst Month                                  -0.114    -0.032    -0.043   \n",
       "Percentage Positive Months                    0.588     0.649     0.526   \n",
       "Percentage Negative Months                    0.392      0.34     0.454   \n",
       "                                                                          \n",
       "\n",
       "                             SP500  \n",
       "RETURN CHARACTERISTICS              \n",
       "Cumulative Return            0.384  \n",
       "Annualised Return            0.041  \n",
       "Best Month                   0.107  \n",
       "Worst Month                 -0.097  \n",
       "Percentage Positive Months   0.598  \n",
       "Percentage Negative Months   0.392  \n",
       "                                    "
      ]
     },
     "execution_count": 21,
     "metadata": {},
     "output_type": "execute_result"
    }
   ],
   "source": [
    "# DataFrames contain data, rows, columns\n",
    "return_characteristics = pd.DataFrame(ret_char_array,[\"RETURN CHARACTERISTICS\",\n",
    "                                        \"Cumulative Return\",\n",
    "                                        \"Annualised Return\",\n",
    "                                        \"Best Month\",\n",
    "                                        \"Worst Month\",\n",
    "                                        \"Percentage Positive Months\", \n",
    "                                        \"Percentage Negative Months\",\n",
    "                                        \"\"], \n",
    "                                        lst)\n",
    "\n",
    "return_characteristics"
   ]
  },
  {
   "cell_type": "markdown",
   "metadata": {},
   "source": [
    "## 5. Risk Characteristics"
   ]
  },
  {
   "cell_type": "code",
   "execution_count": 22,
   "metadata": {},
   "outputs": [],
   "source": [
    "#Risk-Free Rate Assumption\n",
    "rf = 0.03\n",
    "risk_list = []\n",
    "risk_list += [\"\" for i in range(0, len(lst))]"
   ]
  },
  {
   "cell_type": "markdown",
   "metadata": {},
   "source": [
    "## Volatility"
   ]
  },
  {
   "cell_type": "markdown",
   "metadata": {},
   "source": [
    "$\\sigma  = \\frac{\\Sigma(X - \\overline{X})^2}{n}$"
   ]
  },
  {
   "cell_type": "code",
   "execution_count": 23,
   "metadata": {},
   "outputs": [],
   "source": [
    "\"\"\"===============\"\"\"\n",
    "\"\"\"Volatility Fund\"\"\"\n",
    "\"\"\"===============\"\"\"\n",
    "\n",
    "def volatility(data):\n",
    "    #annualised volatility\n",
    "    vol = round(m.sqrt(12)*s.stdev(returns_data[data]),3)\n",
    "    return vol\n",
    "\n",
    "risk_list += [volatility(i) for i in lst]"
   ]
  },
  {
   "cell_type": "markdown",
   "metadata": {},
   "source": [
    "## Sharpe Ratio"
   ]
  },
  {
   "cell_type": "markdown",
   "metadata": {},
   "source": [
    "$ Sharpe\\ Ratio= \\frac{R_{p} - R_{f}}{\\sigma_{p}}$"
   ]
  },
  {
   "cell_type": "code",
   "execution_count": 24,
   "metadata": {},
   "outputs": [],
   "source": [
    "\"\"\"=================\"\"\"\n",
    "\"\"\"Sharpe Ratio Fund\"\"\"\n",
    "\"\"\"=================\"\"\"\n",
    "\n",
    "def sharpeRatio(data):\n",
    "    sharpe = round((float(return_characteristics[data][\"Annualised Return\"]) - rf) \\\n",
    "                    / volatility(data),3)\n",
    "    return sharpe\n",
    "\n",
    "risk_list += [sharpeRatio(i) for i in lst]"
   ]
  },
  {
   "cell_type": "markdown",
   "metadata": {},
   "source": [
    "## Sortino Ratio"
   ]
  },
  {
   "cell_type": "markdown",
   "metadata": {},
   "source": [
    "$Sortino\\ Ratio = \\frac{R_{p} - R_{f}}{\\sigma_{d}}$"
   ]
  },
  {
   "cell_type": "code",
   "execution_count": 25,
   "metadata": {},
   "outputs": [],
   "source": [
    "\"\"\"==================\"\"\"\n",
    "\"\"\"Sortino Ratio Fund\"\"\"\n",
    "\"\"\"==================\"\"\"\n",
    "\n",
    "def downsideDeviation(data):\n",
    "    #Downside Deviation\n",
    "    dst = round(s.stdev(sortinoRatioCalculation(data))*m.sqrt(12),3)\n",
    "    return dst\n",
    "\n",
    "def sortinoRatio(data):\n",
    "    #Sortino\n",
    "    sortino = round((float(return_characteristics[data][\"Annualised Return\"]) - rf) \\\n",
    "                         / downsideDeviation(data), 3)\n",
    "    return sortino\n",
    "\n",
    "risk_list += [sortinoRatio(i) for i in lst]"
   ]
  },
  {
   "cell_type": "markdown",
   "metadata": {},
   "source": [
    "## Max Drawdown"
   ]
  },
  {
   "cell_type": "code",
   "execution_count": 26,
   "metadata": {},
   "outputs": [],
   "source": [
    "\"\"\"=====================\"\"\"\n",
    "\"\"\"Maximum Drawdown Fund\"\"\"\n",
    "\"\"\"=====================\"\"\"\n",
    "\n",
    "def maximum_drawdown(data):\n",
    "\n",
    "    max_drawdown = round(min(return_calculations[\"Maximum Drawdown \" + str(data)]), 3)\n",
    "    return max_drawdown\n",
    "        \n",
    "risk_list += [maximum_drawdown(i) for i in lst]"
   ]
  },
  {
   "cell_type": "markdown",
   "metadata": {},
   "source": [
    "### Merge Table"
   ]
  },
  {
   "cell_type": "code",
   "execution_count": 27,
   "metadata": {
    "scrolled": true
   },
   "outputs": [],
   "source": [
    "#Append Downside deviations and risk-free rates for each fund/benchmark\n",
    "\n",
    "risk_list += [downsideDeviation(i) for i in lst]\n",
    "risk_list += [rf for i in range(0, len(lst))]    \n",
    "risk_list += [\"\" for i in range(0, len(lst))]"
   ]
  },
  {
   "cell_type": "code",
   "execution_count": 28,
   "metadata": {},
   "outputs": [],
   "source": [
    "#Reshape the array\n",
    "risk_array = np.array(risk_list).reshape(len(risk_list)//len(lst),len(lst))"
   ]
  },
  {
   "cell_type": "code",
   "execution_count": 29,
   "metadata": {},
   "outputs": [
    {
     "data": {
      "text/html": [
       "<div>\n",
       "<style scoped>\n",
       "    .dataframe tbody tr th:only-of-type {\n",
       "        vertical-align: middle;\n",
       "    }\n",
       "\n",
       "    .dataframe tbody tr th {\n",
       "        vertical-align: top;\n",
       "    }\n",
       "\n",
       "    .dataframe thead th {\n",
       "        text-align: right;\n",
       "    }\n",
       "</style>\n",
       "<table border=\"1\" class=\"dataframe\">\n",
       "  <thead>\n",
       "    <tr style=\"text-align: right;\">\n",
       "      <th></th>\n",
       "      <th>Invesco Global Water ETF</th>\n",
       "      <th>MSCI ACWI</th>\n",
       "      <th>MSCI EAFE</th>\n",
       "      <th>SP500</th>\n",
       "    </tr>\n",
       "  </thead>\n",
       "  <tbody>\n",
       "    <tr>\n",
       "      <th>RISK CHARACTERISTICS</th>\n",
       "      <td></td>\n",
       "      <td></td>\n",
       "      <td></td>\n",
       "      <td></td>\n",
       "    </tr>\n",
       "    <tr>\n",
       "      <th>Volatility</th>\n",
       "      <td>0.147</td>\n",
       "      <td>0.039</td>\n",
       "      <td>0.045</td>\n",
       "      <td>0.121</td>\n",
       "    </tr>\n",
       "    <tr>\n",
       "      <th>Sharpe Ratio</th>\n",
       "      <td>0.109</td>\n",
       "      <td>0.077</td>\n",
       "      <td>-0.311</td>\n",
       "      <td>0.091</td>\n",
       "    </tr>\n",
       "    <tr>\n",
       "      <th>Sortino Ratio</th>\n",
       "      <td>0.19</td>\n",
       "      <td>0.136</td>\n",
       "      <td>-0.538</td>\n",
       "      <td>0.147</td>\n",
       "    </tr>\n",
       "    <tr>\n",
       "      <th>Maximum Drawdown</th>\n",
       "      <td>-0.265</td>\n",
       "      <td>-0.069</td>\n",
       "      <td>-0.082</td>\n",
       "      <td>-0.214</td>\n",
       "    </tr>\n",
       "    <tr>\n",
       "      <th>Downside Deviation</th>\n",
       "      <td>0.084</td>\n",
       "      <td>0.022</td>\n",
       "      <td>0.026</td>\n",
       "      <td>0.075</td>\n",
       "    </tr>\n",
       "    <tr>\n",
       "      <th>Risk-Free Rate</th>\n",
       "      <td>0.03</td>\n",
       "      <td>0.03</td>\n",
       "      <td>0.03</td>\n",
       "      <td>0.03</td>\n",
       "    </tr>\n",
       "    <tr>\n",
       "      <th></th>\n",
       "      <td></td>\n",
       "      <td></td>\n",
       "      <td></td>\n",
       "      <td></td>\n",
       "    </tr>\n",
       "  </tbody>\n",
       "</table>\n",
       "</div>"
      ],
      "text/plain": [
       "                     Invesco Global Water ETF MSCI ACWI MSCI EAFE   SP500\n",
       "RISK CHARACTERISTICS                                                     \n",
       "Volatility                              0.147     0.039     0.045   0.121\n",
       "Sharpe Ratio                            0.109     0.077    -0.311   0.091\n",
       "Sortino Ratio                            0.19     0.136    -0.538   0.147\n",
       "Maximum Drawdown                       -0.265    -0.069    -0.082  -0.214\n",
       "Downside Deviation                      0.084     0.022     0.026   0.075\n",
       "Risk-Free Rate                           0.03      0.03      0.03    0.03\n",
       "                                                                         "
      ]
     },
     "execution_count": 29,
     "metadata": {},
     "output_type": "execute_result"
    }
   ],
   "source": [
    "#Merge all the risk characteristics\n",
    "risk_characteristics = pd.DataFrame(risk_array,\n",
    "                                   [\"RISK CHARACTERISTICS\",\n",
    "                                   \"Volatility\", \n",
    "                                   \"Sharpe Ratio\", \n",
    "                                   \"Sortino Ratio\",\n",
    "                                   \"Maximum Drawdown\",\n",
    "                                   \"Downside Deviation\",\n",
    "                                   \"Risk-Free Rate\",\n",
    "                                   \"\"],\n",
    "                                   lst)\n",
    "\n",
    "risk_characteristics"
   ]
  },
  {
   "cell_type": "markdown",
   "metadata": {},
   "source": [
    "## 6. Comparison to Benchmarks"
   ]
  },
  {
   "cell_type": "code",
   "execution_count": 30,
   "metadata": {},
   "outputs": [
    {
     "data": {
      "text/html": [
       "<div>\n",
       "<style scoped>\n",
       "    .dataframe tbody tr th:only-of-type {\n",
       "        vertical-align: middle;\n",
       "    }\n",
       "\n",
       "    .dataframe tbody tr th {\n",
       "        vertical-align: top;\n",
       "    }\n",
       "\n",
       "    .dataframe thead th {\n",
       "        text-align: right;\n",
       "    }\n",
       "</style>\n",
       "<table border=\"1\" class=\"dataframe\">\n",
       "  <thead>\n",
       "    <tr style=\"text-align: right;\">\n",
       "      <th></th>\n",
       "      <th>slope</th>\n",
       "      <th>intercept</th>\n",
       "      <th>rvalue</th>\n",
       "      <th>pvalue</th>\n",
       "      <th>stderr</th>\n",
       "    </tr>\n",
       "  </thead>\n",
       "  <tbody>\n",
       "    <tr>\n",
       "      <th>MSCI ACWI</th>\n",
       "      <td>0.020665</td>\n",
       "      <td>0.004589</td>\n",
       "      <td>0.005428</td>\n",
       "      <td>0.957920</td>\n",
       "      <td>0.390622</td>\n",
       "    </tr>\n",
       "    <tr>\n",
       "      <th>MSCI EAFE</th>\n",
       "      <td>-0.463803</td>\n",
       "      <td>0.005311</td>\n",
       "      <td>-0.142905</td>\n",
       "      <td>0.162598</td>\n",
       "      <td>0.329567</td>\n",
       "    </tr>\n",
       "    <tr>\n",
       "      <th>SP500</th>\n",
       "      <td>-0.102476</td>\n",
       "      <td>0.005053</td>\n",
       "      <td>-0.084861</td>\n",
       "      <td>0.408552</td>\n",
       "      <td>0.123447</td>\n",
       "    </tr>\n",
       "  </tbody>\n",
       "</table>\n",
       "</div>"
      ],
      "text/plain": [
       "              slope  intercept    rvalue    pvalue    stderr\n",
       "MSCI ACWI  0.020665   0.004589  0.005428  0.957920  0.390622\n",
       "MSCI EAFE -0.463803   0.005311 -0.142905  0.162598  0.329567\n",
       "SP500     -0.102476   0.005053 -0.084861  0.408552  0.123447"
      ]
     },
     "execution_count": 30,
     "metadata": {},
     "output_type": "execute_result"
    }
   ],
   "source": [
    "#Perform a linear regression on the fund data with respect to each benchmark    \n",
    "def linRegression(lst):\n",
    "    regression_list = []\n",
    "    for i in lst:\n",
    "        pegged_element = lst[lst.index(fund)]\n",
    "        if i != pegged_element:\n",
    "            regression_list.append(sp.linregress(returns_data[i],returns_data[pegged_element]))\n",
    "    return regression_list\n",
    "\n",
    "#Initialise white space\n",
    "comparisons_list = []\n",
    "\n",
    "#Spaces for table data\n",
    "comparisons_list += [\"\" for i in range(0, len(lst)-1)]\n",
    "\n",
    "#Merge all regression outputs in a single table\n",
    "regression_output = pd.DataFrame(linRegression(lst),\\\n",
    "                                 index = (benchmark_lst))\n",
    "regression_output"
   ]
  },
  {
   "cell_type": "markdown",
   "metadata": {},
   "source": [
    "## Alpha"
   ]
  },
  {
   "cell_type": "markdown",
   "metadata": {},
   "source": [
    "$ \\alpha = intercept $"
   ]
  },
  {
   "cell_type": "code",
   "execution_count": 31,
   "metadata": {},
   "outputs": [],
   "source": [
    "\"\"\"===================\"\"\"\n",
    "\"\"\"Alpha to Benchmarks\"\"\"\n",
    "\"\"\"===================\"\"\"\n",
    "\n",
    "def alpha(lst):\n",
    "    #fetch the alpha data from regression\n",
    "    #[1] is the position of the alpha coefficient\n",
    "    alpha = []\n",
    "    for i in range(0,len(lst)-1):\n",
    "        alpha.append(round(linRegression(lst)[i][1],3))\n",
    "    return alpha\n",
    "\n",
    "comparisons_list += [alpha(lst)[i] for i in range(0, len(lst)-1)]"
   ]
  },
  {
   "cell_type": "markdown",
   "metadata": {},
   "source": [
    "## Beta"
   ]
  },
  {
   "cell_type": "markdown",
   "metadata": {},
   "source": [
    "$ \\beta = slope$"
   ]
  },
  {
   "cell_type": "code",
   "execution_count": 32,
   "metadata": {},
   "outputs": [],
   "source": [
    "\"\"\"==================\"\"\"\n",
    "\"\"\"Beta to Benchmarks\"\"\"\n",
    "\"\"\"==================\"\"\"\n",
    "\n",
    "def beta(lst):\n",
    "    #fetch the beta data from regression\n",
    "    #[0] is the position of the beta coefficient\n",
    "    beta = []\n",
    "    for i in range(0,len(lst)-1):\n",
    "        beta.append(round(linRegression(lst)[i][0],3))\n",
    "    return beta\n",
    "\n",
    "comparisons_list += [beta(lst)[i] for i in range(0, len(lst)-1)]"
   ]
  },
  {
   "cell_type": "markdown",
   "metadata": {},
   "source": [
    "## Jensen's Alpha"
   ]
  },
  {
   "cell_type": "markdown",
   "metadata": {},
   "source": [
    "$\\alpha_{jensen} = (r_{annualised}^{fund} - r_{f}) - \\beta * (r_{annualised}^{bench} - r_{f})$"
   ]
  },
  {
   "cell_type": "code",
   "execution_count": 33,
   "metadata": {},
   "outputs": [],
   "source": [
    "\"\"\"============================\"\"\"\n",
    "\"\"\"Jensen's Alpha to Benchmarks\"\"\"\n",
    "\"\"\"======= ====================\"\"\"\n",
    "\n",
    "def jensensAlpha(lst):\n",
    "    jen_alpha = []\n",
    "    pegged_element = lst[lst.index(fund)]\n",
    "    for i in range(0,len(lst)-1):\n",
    "        jen_alpha.append(round((float(return_characteristics[pegged_element]\\\n",
    "                                 [\"Annualised Return\"])- rf)- \\\n",
    "                          beta(lst)[i]*(float(return_characteristics[lst[i+1]]\\\n",
    "                                       [\"Annualised Return\"])- rf),3))\n",
    "    return jen_alpha\n",
    "\n",
    "comparisons_list += [jensensAlpha(lst)[i] for i in range(0, len(lst)-1)]"
   ]
  },
  {
   "cell_type": "markdown",
   "metadata": {},
   "source": [
    "## Normalised Beta"
   ]
  },
  {
   "cell_type": "markdown",
   "metadata": {},
   "source": [
    "$ \\beta_{normalised} = \\beta - 1$"
   ]
  },
  {
   "cell_type": "code",
   "execution_count": 34,
   "metadata": {},
   "outputs": [],
   "source": [
    "\"\"\"=============================\"\"\"\n",
    "\"\"\"Normalised Beta to Benchmarks\"\"\"\n",
    "\"\"\"=============================\"\"\"\n",
    "\n",
    "def normalisedBeta(lst):\n",
    "    #Normalise the beta found in the regression fund - benchmarks\n",
    "    norm_beta = []\n",
    "    for i in range(0,len(lst)-1):\n",
    "        norm_beta.append(round(beta(lst)[i] - 1,3))\n",
    "    return norm_beta\n",
    "\n",
    "comparisons_list += [normalisedBeta(lst)[i] for i in range(0, len(lst)-1)]"
   ]
  },
  {
   "cell_type": "markdown",
   "metadata": {},
   "source": [
    "## Correlation Coefficient"
   ]
  },
  {
   "cell_type": "code",
   "execution_count": 35,
   "metadata": {},
   "outputs": [],
   "source": [
    "\"\"\"=====================================\"\"\"\n",
    "\"\"\"Correlation Coefficient to Benchmarks\"\"\"\n",
    "\"\"\"=====================================\"\"\"\n",
    "\n",
    "def correlationCoefficient(lst):\n",
    "    pegged_element = lst[lst.index(fund)]\n",
    "    correlation_coeff = []\n",
    "    for i in range(0, len(lst)-1):\n",
    "        #Fetch correlation matrix fund - benchmarks\n",
    "        corr = np.corrcoef(returns_data[lst[i+1]],returns_data[pegged_element])\n",
    "        #select correlation fund - benchmarks (second row, first column or first row, second column)\n",
    "        correlation_coeff.append(round(corr[1][0],3))\n",
    "    return correlation_coeff\n",
    "    \n",
    "comparisons_list += [correlationCoefficient(lst)[i] for i in range(0, len(lst)-1)]"
   ]
  },
  {
   "cell_type": "markdown",
   "metadata": {},
   "source": [
    "## R-Squared"
   ]
  },
  {
   "cell_type": "code",
   "execution_count": 36,
   "metadata": {},
   "outputs": [],
   "source": [
    "\"\"\"=========================\"\"\"\n",
    "\"\"\"R - Squared to Benchmarks\"\"\"\n",
    "\"\"\"=========================\"\"\"\n",
    "\n",
    "def rSquared(lst):\n",
    "    #fetch the r-squared value data from lin1 (regression fund - benchmark 1) \n",
    "    #[2] is the position of the r-squared value\n",
    "    rsqrd = []\n",
    "    for i in range(0,len(lst)-1):\n",
    "        rsqrd.append(round(linRegression(lst)[i][2],3))\n",
    "    return rsqrd\n",
    "\n",
    "comparisons_list += [rSquared(lst)[i] for i in range(0, len(lst)-1)]"
   ]
  },
  {
   "cell_type": "markdown",
   "metadata": {},
   "source": [
    "## Active Premium"
   ]
  },
  {
   "cell_type": "markdown",
   "metadata": {},
   "source": [
    "$ Active Premium = r_{annualised}^{fund} - r_{annualised}^{bench}$"
   ]
  },
  {
   "cell_type": "code",
   "execution_count": 37,
   "metadata": {},
   "outputs": [],
   "source": [
    "\"\"\"============================\"\"\"\n",
    "\"\"\"Active Premium to Benchmarks\"\"\"\n",
    "\"\"\"============================\"\"\"\n",
    "\n",
    "def activePremium(lst):\n",
    "    pegged_element = lst[lst.index(fund)]\n",
    "    active_prem = []\n",
    "    for i in range(0, len(lst)-1):\n",
    "        active_prem.append(round(float(return_characteristics[pegged_element]\\\n",
    "                                       [\"Annualised Return\"])-\\\n",
    "                                 float(return_characteristics[lst[i+1]]\\\n",
    "                                  [\"Annualised Return\"]),3))\n",
    "    return active_prem\n",
    "        \n",
    "comparisons_list += [activePremium(lst)[i] for i in range(0, len(lst)-1)]"
   ]
  },
  {
   "cell_type": "markdown",
   "metadata": {},
   "source": [
    "## Tracking Error"
   ]
  },
  {
   "cell_type": "markdown",
   "metadata": {},
   "source": [
    "$ \\sqrt{(\\sum{(R_{cumulativefund} - R_{cumulativebench})^2}) / (N - 1)} $"
   ]
  },
  {
   "cell_type": "code",
   "execution_count": 38,
   "metadata": {},
   "outputs": [],
   "source": [
    "\"\"\"============================\"\"\"\n",
    "\"\"\"Tracking Error to Benchmarks\"\"\"\n",
    "\"\"\"============================\"\"\"\n",
    "\n",
    "def trackingError(lst):\n",
    "    pegged_element = lst[lst.index(fund)]\n",
    "    track_error = []\n",
    "    for i in range(0,len(lst)-1):\n",
    "        track_error.append(round(m.sqrt(sum(return_calculations\\\n",
    "                                    [\"Cumulative Return Difference \" + str(pegged_element) +\\\n",
    "                                     \" - \" + str(lst[i+1])]**2)/\\\n",
    "                                        (len(returns_data[pegged_element])\\\n",
    "                                         -1))*(m.sqrt(12)),3))\n",
    "    return track_error\n",
    "\n",
    "comparisons_list += [trackingError(lst)[i] for i in range(0, len(lst)-1)]"
   ]
  },
  {
   "cell_type": "markdown",
   "metadata": {},
   "source": [
    "## Information Ratio"
   ]
  },
  {
   "cell_type": "markdown",
   "metadata": {},
   "source": [
    "$ InfoRatio = activePremium / trackingError$"
   ]
  },
  {
   "cell_type": "code",
   "execution_count": 39,
   "metadata": {
    "scrolled": true
   },
   "outputs": [],
   "source": [
    "\"\"\"===============================\"\"\"\n",
    "\"\"\"Information Ratio to Benchmarks\"\"\"\n",
    "\"\"\"===============================\"\"\"\n",
    "\n",
    "def informatioRatio(lst):\n",
    "    info_ratio = []\n",
    "    for i in range(0, len(lst)-1):\n",
    "        info_ratio.append(round(activePremium(lst)[i] / trackingError(lst)[i],3))\n",
    "    return info_ratio\n",
    "\n",
    "comparisons_list += [informatioRatio(lst)[i] for i in range(0, len(lst)-1)]"
   ]
  },
  {
   "cell_type": "code",
   "execution_count": 40,
   "metadata": {},
   "outputs": [],
   "source": [
    "#Spaces for table data\n",
    "comparisons_list += [\"\" for i in range(0, len(lst)-1)]"
   ]
  },
  {
   "cell_type": "markdown",
   "metadata": {},
   "source": [
    "# 7. Capture Information "
   ]
  },
  {
   "cell_type": "markdown",
   "metadata": {},
   "source": [
    "## Total Capture (Normalised)"
   ]
  },
  {
   "cell_type": "markdown",
   "metadata": {},
   "source": [
    "$total capture = |\\frac{r_{annualised}^{fund}}{ r_{annualised}^{bench}}|$"
   ]
  },
  {
   "cell_type": "code",
   "execution_count": 41,
   "metadata": {},
   "outputs": [],
   "source": [
    "#Append spaces for table formatting\n",
    "comparisons_list += [\"\" for i in range(0, len(lst)-1)]"
   ]
  },
  {
   "cell_type": "code",
   "execution_count": 42,
   "metadata": {},
   "outputs": [],
   "source": [
    "\"\"\"===========================\"\"\"\n",
    "\"\"\"Total Capture to Benchmarks\"\"\"\n",
    "\"\"\"===========================\"\"\"\n",
    "\n",
    "def totalCapture(lst):\n",
    "    pegged_element = lst[lst.index(fund)]\n",
    "    tot_capture = []\n",
    "    for i in range(0,len(lst)-1):\n",
    "        tot_capture.append(round((float(return_characteristics[pegged_element]\\\n",
    "                                        [\"Annualised Return\"])\\\n",
    "                      /float(return_characteristics[lst[i+1]][\"Annualised Return\"])-1),3))\n",
    "    return tot_capture\n",
    "\n",
    "for i in range(0, len(lst) - 1):\n",
    "    comparisons_list.append(totalCapture(lst)[i])"
   ]
  },
  {
   "cell_type": "markdown",
   "metadata": {},
   "source": [
    "### Merge"
   ]
  },
  {
   "cell_type": "code",
   "execution_count": 43,
   "metadata": {},
   "outputs": [],
   "source": [
    "comp_array = np.array(comparisons_list).reshape\\\n",
    "((len(comparisons_list)//len(benchmark_lst)),len(benchmark_lst))"
   ]
  },
  {
   "cell_type": "code",
   "execution_count": 44,
   "metadata": {},
   "outputs": [
    {
     "data": {
      "text/html": [
       "<div>\n",
       "<style scoped>\n",
       "    .dataframe tbody tr th:only-of-type {\n",
       "        vertical-align: middle;\n",
       "    }\n",
       "\n",
       "    .dataframe tbody tr th {\n",
       "        vertical-align: top;\n",
       "    }\n",
       "\n",
       "    .dataframe thead th {\n",
       "        text-align: right;\n",
       "    }\n",
       "</style>\n",
       "<table border=\"1\" class=\"dataframe\">\n",
       "  <thead>\n",
       "    <tr style=\"text-align: right;\">\n",
       "      <th></th>\n",
       "      <th>MSCI ACWI</th>\n",
       "      <th>MSCI EAFE</th>\n",
       "      <th>SP500</th>\n",
       "    </tr>\n",
       "  </thead>\n",
       "  <tbody>\n",
       "    <tr>\n",
       "      <th>COMPARISON TO BENCHMARKS</th>\n",
       "      <td></td>\n",
       "      <td></td>\n",
       "      <td></td>\n",
       "    </tr>\n",
       "    <tr>\n",
       "      <th>Alpha</th>\n",
       "      <td>0.005</td>\n",
       "      <td>0.005</td>\n",
       "      <td>0.005</td>\n",
       "    </tr>\n",
       "    <tr>\n",
       "      <th>Beta</th>\n",
       "      <td>0.021</td>\n",
       "      <td>-0.464</td>\n",
       "      <td>-0.102</td>\n",
       "    </tr>\n",
       "    <tr>\n",
       "      <th>Jensen's Alpha</th>\n",
       "      <td>0.016</td>\n",
       "      <td>0.01</td>\n",
       "      <td>0.017</td>\n",
       "    </tr>\n",
       "    <tr>\n",
       "      <th>Normalised Beta</th>\n",
       "      <td>-0.979</td>\n",
       "      <td>-1.464</td>\n",
       "      <td>-1.102</td>\n",
       "    </tr>\n",
       "    <tr>\n",
       "      <th>Correlation Coefficient</th>\n",
       "      <td>0.005</td>\n",
       "      <td>-0.143</td>\n",
       "      <td>-0.085</td>\n",
       "    </tr>\n",
       "    <tr>\n",
       "      <th>R-Squared</th>\n",
       "      <td>0.005</td>\n",
       "      <td>-0.143</td>\n",
       "      <td>-0.085</td>\n",
       "    </tr>\n",
       "    <tr>\n",
       "      <th>Active Premium</th>\n",
       "      <td>0.013</td>\n",
       "      <td>0.03</td>\n",
       "      <td>0.005</td>\n",
       "    </tr>\n",
       "    <tr>\n",
       "      <th>Tracking Error</th>\n",
       "      <td>0.152</td>\n",
       "      <td>0.16</td>\n",
       "      <td>0.198</td>\n",
       "    </tr>\n",
       "    <tr>\n",
       "      <th>Information Ratio</th>\n",
       "      <td>0.086</td>\n",
       "      <td>0.188</td>\n",
       "      <td>0.025</td>\n",
       "    </tr>\n",
       "    <tr>\n",
       "      <th></th>\n",
       "      <td></td>\n",
       "      <td></td>\n",
       "      <td></td>\n",
       "    </tr>\n",
       "    <tr>\n",
       "      <th>CAPTURE INFORMATION</th>\n",
       "      <td></td>\n",
       "      <td></td>\n",
       "      <td></td>\n",
       "    </tr>\n",
       "    <tr>\n",
       "      <th>Total Capture(Normalised)</th>\n",
       "      <td>0.394</td>\n",
       "      <td>1.875</td>\n",
       "      <td>0.122</td>\n",
       "    </tr>\n",
       "  </tbody>\n",
       "</table>\n",
       "</div>"
      ],
      "text/plain": [
       "                          MSCI ACWI MSCI EAFE   SP500\n",
       "COMPARISON TO BENCHMARKS                             \n",
       "Alpha                         0.005     0.005   0.005\n",
       "Beta                          0.021    -0.464  -0.102\n",
       "Jensen's Alpha                0.016      0.01   0.017\n",
       "Normalised Beta              -0.979    -1.464  -1.102\n",
       "Correlation Coefficient       0.005    -0.143  -0.085\n",
       "R-Squared                     0.005    -0.143  -0.085\n",
       "Active Premium                0.013      0.03   0.005\n",
       "Tracking Error                0.152      0.16   0.198\n",
       "Information Ratio             0.086     0.188   0.025\n",
       "                                                     \n",
       "CAPTURE INFORMATION                                  \n",
       "Total Capture(Normalised)     0.394     1.875   0.122"
      ]
     },
     "execution_count": 44,
     "metadata": {},
     "output_type": "execute_result"
    }
   ],
   "source": [
    "# DataFrames contain data, rows, columns\n",
    "comparison_to_benchmarks = pd.DataFrame(comp_array, [\"COMPARISON TO BENCHMARKS\",\n",
    "                                        \"Alpha\",\n",
    "                                        \"Beta\",\n",
    "                                        \"Jensen's Alpha\",\n",
    "                                        \"Normalised Beta\",\n",
    "                                        \"Correlation Coefficient\", \n",
    "                                        \"R-Squared\",\n",
    "                                        \"Active Premium\",\n",
    "                                        \"Tracking Error\",\n",
    "                                        \"Information Ratio\",\n",
    "                                        \"\",\n",
    "                                        \"CAPTURE INFORMATION\",\n",
    "                                        \"Total Capture(Normalised)\"], \n",
    "                                        benchmark_lst)\n",
    "\n",
    "comparison_to_benchmarks\n"
   ]
  },
  {
   "cell_type": "markdown",
   "metadata": {},
   "source": [
    "# 8. Overview and Graphs"
   ]
  },
  {
   "cell_type": "markdown",
   "metadata": {},
   "source": [
    "## Overview"
   ]
  },
  {
   "cell_type": "markdown",
   "metadata": {},
   "source": [
    "###### Display the returns data of the Fund and Benchmarks\n"
   ]
  },
  {
   "cell_type": "code",
   "execution_count": 45,
   "metadata": {
    "scrolled": false
   },
   "outputs": [
    {
     "data": {
      "text/html": [
       "<div>\n",
       "<style scoped>\n",
       "    .dataframe tbody tr th:only-of-type {\n",
       "        vertical-align: middle;\n",
       "    }\n",
       "\n",
       "    .dataframe tbody tr th {\n",
       "        vertical-align: top;\n",
       "    }\n",
       "\n",
       "    .dataframe thead th {\n",
       "        text-align: right;\n",
       "    }\n",
       "</style>\n",
       "<table border=\"1\" class=\"dataframe\">\n",
       "  <thead>\n",
       "    <tr style=\"text-align: right;\">\n",
       "      <th></th>\n",
       "      <th>Invesco Global Water ETF</th>\n",
       "      <th>MSCI ACWI</th>\n",
       "      <th>MSCI EAFE</th>\n",
       "      <th>SP500</th>\n",
       "    </tr>\n",
       "  </thead>\n",
       "  <tbody>\n",
       "    <tr>\n",
       "      <th>RETURN CHARACTERISTICS</th>\n",
       "      <td></td>\n",
       "      <td></td>\n",
       "      <td></td>\n",
       "      <td></td>\n",
       "    </tr>\n",
       "    <tr>\n",
       "      <th>Cumulative Return</th>\n",
       "      <td>0.439</td>\n",
       "      <td>0.302</td>\n",
       "      <td>0.14</td>\n",
       "      <td>0.384</td>\n",
       "    </tr>\n",
       "    <tr>\n",
       "      <th>Annualised Return</th>\n",
       "      <td>0.046</td>\n",
       "      <td>0.033</td>\n",
       "      <td>0.016</td>\n",
       "      <td>0.041</td>\n",
       "    </tr>\n",
       "    <tr>\n",
       "      <th>Best Month</th>\n",
       "      <td>0.098</td>\n",
       "      <td>0.029</td>\n",
       "      <td>0.035</td>\n",
       "      <td>0.107</td>\n",
       "    </tr>\n",
       "    <tr>\n",
       "      <th>Worst Month</th>\n",
       "      <td>-0.114</td>\n",
       "      <td>-0.032</td>\n",
       "      <td>-0.043</td>\n",
       "      <td>-0.097</td>\n",
       "    </tr>\n",
       "    <tr>\n",
       "      <th>Percentage Positive Months</th>\n",
       "      <td>0.588</td>\n",
       "      <td>0.649</td>\n",
       "      <td>0.526</td>\n",
       "      <td>0.598</td>\n",
       "    </tr>\n",
       "    <tr>\n",
       "      <th>Percentage Negative Months</th>\n",
       "      <td>0.392</td>\n",
       "      <td>0.34</td>\n",
       "      <td>0.454</td>\n",
       "      <td>0.392</td>\n",
       "    </tr>\n",
       "    <tr>\n",
       "      <th></th>\n",
       "      <td></td>\n",
       "      <td></td>\n",
       "      <td></td>\n",
       "      <td></td>\n",
       "    </tr>\n",
       "    <tr>\n",
       "      <th>RISK CHARACTERISTICS</th>\n",
       "      <td></td>\n",
       "      <td></td>\n",
       "      <td></td>\n",
       "      <td></td>\n",
       "    </tr>\n",
       "    <tr>\n",
       "      <th>Volatility</th>\n",
       "      <td>0.147</td>\n",
       "      <td>0.039</td>\n",
       "      <td>0.045</td>\n",
       "      <td>0.121</td>\n",
       "    </tr>\n",
       "    <tr>\n",
       "      <th>Sharpe Ratio</th>\n",
       "      <td>0.109</td>\n",
       "      <td>0.077</td>\n",
       "      <td>-0.311</td>\n",
       "      <td>0.091</td>\n",
       "    </tr>\n",
       "    <tr>\n",
       "      <th>Sortino Ratio</th>\n",
       "      <td>0.19</td>\n",
       "      <td>0.136</td>\n",
       "      <td>-0.538</td>\n",
       "      <td>0.147</td>\n",
       "    </tr>\n",
       "    <tr>\n",
       "      <th>Maximum Drawdown</th>\n",
       "      <td>-0.265</td>\n",
       "      <td>-0.069</td>\n",
       "      <td>-0.082</td>\n",
       "      <td>-0.214</td>\n",
       "    </tr>\n",
       "    <tr>\n",
       "      <th>Downside Deviation</th>\n",
       "      <td>0.084</td>\n",
       "      <td>0.022</td>\n",
       "      <td>0.026</td>\n",
       "      <td>0.075</td>\n",
       "    </tr>\n",
       "    <tr>\n",
       "      <th>Risk-Free Rate</th>\n",
       "      <td>0.03</td>\n",
       "      <td>0.03</td>\n",
       "      <td>0.03</td>\n",
       "      <td>0.03</td>\n",
       "    </tr>\n",
       "    <tr>\n",
       "      <th></th>\n",
       "      <td></td>\n",
       "      <td></td>\n",
       "      <td></td>\n",
       "      <td></td>\n",
       "    </tr>\n",
       "    <tr>\n",
       "      <th>COMPARISON TO BENCHMARKS</th>\n",
       "      <td></td>\n",
       "      <td></td>\n",
       "      <td></td>\n",
       "      <td></td>\n",
       "    </tr>\n",
       "    <tr>\n",
       "      <th>Alpha</th>\n",
       "      <td></td>\n",
       "      <td>0.005</td>\n",
       "      <td>0.005</td>\n",
       "      <td>0.005</td>\n",
       "    </tr>\n",
       "    <tr>\n",
       "      <th>Beta</th>\n",
       "      <td></td>\n",
       "      <td>0.021</td>\n",
       "      <td>-0.464</td>\n",
       "      <td>-0.102</td>\n",
       "    </tr>\n",
       "    <tr>\n",
       "      <th>Jensen's Alpha</th>\n",
       "      <td></td>\n",
       "      <td>0.016</td>\n",
       "      <td>0.01</td>\n",
       "      <td>0.017</td>\n",
       "    </tr>\n",
       "    <tr>\n",
       "      <th>Normalised Beta</th>\n",
       "      <td></td>\n",
       "      <td>-0.979</td>\n",
       "      <td>-1.464</td>\n",
       "      <td>-1.102</td>\n",
       "    </tr>\n",
       "    <tr>\n",
       "      <th>Correlation Coefficient</th>\n",
       "      <td></td>\n",
       "      <td>0.005</td>\n",
       "      <td>-0.143</td>\n",
       "      <td>-0.085</td>\n",
       "    </tr>\n",
       "    <tr>\n",
       "      <th>R-Squared</th>\n",
       "      <td></td>\n",
       "      <td>0.005</td>\n",
       "      <td>-0.143</td>\n",
       "      <td>-0.085</td>\n",
       "    </tr>\n",
       "    <tr>\n",
       "      <th>Active Premium</th>\n",
       "      <td></td>\n",
       "      <td>0.013</td>\n",
       "      <td>0.03</td>\n",
       "      <td>0.005</td>\n",
       "    </tr>\n",
       "    <tr>\n",
       "      <th>Tracking Error</th>\n",
       "      <td></td>\n",
       "      <td>0.152</td>\n",
       "      <td>0.16</td>\n",
       "      <td>0.198</td>\n",
       "    </tr>\n",
       "    <tr>\n",
       "      <th>Information Ratio</th>\n",
       "      <td></td>\n",
       "      <td>0.086</td>\n",
       "      <td>0.188</td>\n",
       "      <td>0.025</td>\n",
       "    </tr>\n",
       "    <tr>\n",
       "      <th></th>\n",
       "      <td></td>\n",
       "      <td></td>\n",
       "      <td></td>\n",
       "      <td></td>\n",
       "    </tr>\n",
       "    <tr>\n",
       "      <th>CAPTURE INFORMATION</th>\n",
       "      <td></td>\n",
       "      <td></td>\n",
       "      <td></td>\n",
       "      <td></td>\n",
       "    </tr>\n",
       "    <tr>\n",
       "      <th>Total Capture(Normalised)</th>\n",
       "      <td></td>\n",
       "      <td>0.394</td>\n",
       "      <td>1.875</td>\n",
       "      <td>0.122</td>\n",
       "    </tr>\n",
       "  </tbody>\n",
       "</table>\n",
       "</div>"
      ],
      "text/plain": [
       "                           Invesco Global Water ETF MSCI ACWI MSCI EAFE  \\\n",
       "RETURN CHARACTERISTICS                                                    \n",
       "Cumulative Return                             0.439     0.302      0.14   \n",
       "Annualised Return                             0.046     0.033     0.016   \n",
       "Best Month                                    0.098     0.029     0.035   \n",
       "Worst Month                                  -0.114    -0.032    -0.043   \n",
       "Percentage Positive Months                    0.588     0.649     0.526   \n",
       "Percentage Negative Months                    0.392      0.34     0.454   \n",
       "                                                                          \n",
       "RISK CHARACTERISTICS                                                      \n",
       "Volatility                                    0.147     0.039     0.045   \n",
       "Sharpe Ratio                                  0.109     0.077    -0.311   \n",
       "Sortino Ratio                                  0.19     0.136    -0.538   \n",
       "Maximum Drawdown                             -0.265    -0.069    -0.082   \n",
       "Downside Deviation                            0.084     0.022     0.026   \n",
       "Risk-Free Rate                                 0.03      0.03      0.03   \n",
       "                                                                          \n",
       "COMPARISON TO BENCHMARKS                                                  \n",
       "Alpha                                                   0.005     0.005   \n",
       "Beta                                                    0.021    -0.464   \n",
       "Jensen's Alpha                                          0.016      0.01   \n",
       "Normalised Beta                                        -0.979    -1.464   \n",
       "Correlation Coefficient                                 0.005    -0.143   \n",
       "R-Squared                                               0.005    -0.143   \n",
       "Active Premium                                          0.013      0.03   \n",
       "Tracking Error                                          0.152      0.16   \n",
       "Information Ratio                                       0.086     0.188   \n",
       "                                                                          \n",
       "CAPTURE INFORMATION                                                       \n",
       "Total Capture(Normalised)                               0.394     1.875   \n",
       "\n",
       "                             SP500  \n",
       "RETURN CHARACTERISTICS              \n",
       "Cumulative Return            0.384  \n",
       "Annualised Return            0.041  \n",
       "Best Month                   0.107  \n",
       "Worst Month                 -0.097  \n",
       "Percentage Positive Months   0.598  \n",
       "Percentage Negative Months   0.392  \n",
       "                                    \n",
       "RISK CHARACTERISTICS                \n",
       "Volatility                   0.121  \n",
       "Sharpe Ratio                 0.091  \n",
       "Sortino Ratio                0.147  \n",
       "Maximum Drawdown            -0.214  \n",
       "Downside Deviation           0.075  \n",
       "Risk-Free Rate                0.03  \n",
       "                                    \n",
       "COMPARISON TO BENCHMARKS            \n",
       "Alpha                        0.005  \n",
       "Beta                        -0.102  \n",
       "Jensen's Alpha               0.017  \n",
       "Normalised Beta             -1.102  \n",
       "Correlation Coefficient     -0.085  \n",
       "R-Squared                   -0.085  \n",
       "Active Premium               0.005  \n",
       "Tracking Error               0.198  \n",
       "Information Ratio            0.025  \n",
       "                                    \n",
       "CAPTURE INFORMATION                 \n",
       "Total Capture(Normalised)    0.122  "
      ]
     },
     "execution_count": 45,
     "metadata": {},
     "output_type": "execute_result"
    }
   ],
   "source": [
    "#Concatenate all the risk and return characteristics\n",
    "fbc = pd.concat([return_characteristics,risk_characteristics, comparison_to_benchmarks],\n",
    "                sort = False,axis = 0)\n",
    "fund_benchmarks_characteristics = fbc.fillna(value = \"\")\n",
    "fund_benchmarks_characteristics"
   ]
  },
  {
   "cell_type": "markdown",
   "metadata": {},
   "source": [
    "## Histogram of Returns"
   ]
  },
  {
   "cell_type": "code",
   "execution_count": 46,
   "metadata": {
    "scrolled": false
   },
   "outputs": [
    {
     "data": {
      "image/png": "[encoded data removed]",
      "text/plain": [
       "<Figure size 864x576 with 4 Axes>"
      ]
     },
     "metadata": {
      "needs_background": "light"
     },
     "output_type": "display_data"
    }
   ],
   "source": [
    "returns_data[lst].hist(figsize=(12,8))\n",
    "plt.show()"
   ]
  },
  {
   "cell_type": "code",
   "execution_count": 47,
   "metadata": {
    "scrolled": true
   },
   "outputs": [
    {
     "data": {
      "image/png": "[encoded data removed]",
      "text/plain": [
       "<Figure size 864x288 with 1 Axes>"
      ]
     },
     "metadata": {
      "needs_background": "light"
     },
     "output_type": "display_data"
    }
   ],
   "source": [
    "for i in lst:\n",
    "    returns_data[i].plot(kind=\"hist\",figsize=(12,4))\n",
    "plt.legend(lst)\n",
    "plt.show()"
   ]
  },
  {
   "cell_type": "markdown",
   "metadata": {},
   "source": [
    "## Correlations"
   ]
  },
  {
   "cell_type": "code",
   "execution_count": 48,
   "metadata": {},
   "outputs": [],
   "source": [
    "def render_scatter_plot(data, x_stock_name, y_stock_name, xlim=None, ylim=None):\n",
    "    fig = plt.figure(figsize=(12,4))\n",
    "    ax = fig.add_subplot(111)\n",
    "    #plot a scatter plot using the data[x] and data[y] coordinates\n",
    "    ax.scatter(data[x_stock_name], data[y_stock_name])\n",
    "    #If the x-axis limits are defined, then set them as such\n",
    "    if xlim is not None: ax.set_xlim(xlim)\n",
    "    ax.autoscale(False)\n",
    "    #Vertical, horizontal and diagonal lines\n",
    "    ax.vlines(0,-10,10)\n",
    "    ax.hlines(0,-10,10)\n",
    "    ax.plot((-10,10),(-10,10))\n",
    "    #x and y labels\n",
    "    ax.set_xlabel(x_stock_name)\n",
    "    ax.set_ylabel(y_stock_name)\n",
    "\n",
    "limits = [-0.15,0.15]"
   ]
  },
  {
   "cell_type": "code",
   "execution_count": 45,
   "metadata": {},
   "outputs": [
    {
     "data": {
      "image/png": "[encoded data removed]",
      "text/plain": [
       "<Figure size 864x288 with 1 Axes>"
      ]
     },
     "metadata": {
      "needs_background": "light"
     },
     "output_type": "display_data"
    },
    {
     "data": {
      "image/png": "[encoded data removed]",
      "text/plain": [
       "<Figure size 864x288 with 1 Axes>"
      ]
     },
     "metadata": {
      "needs_background": "light"
     },
     "output_type": "display_data"
    },
    {
     "data": {
      "image/png": "[encoded data removed]",
      "text/plain": [
       "<Figure size 864x288 with 1 Axes>"
      ]
     },
     "metadata": {
      "needs_background": "light"
     },
     "output_type": "display_data"
    },
    {
     "data": {
      "image/png": "[encoded data removed]",
      "text/plain": [
       "<Figure size 864x288 with 1 Axes>"
      ]
     },
     "metadata": {
      "needs_background": "light"
     },
     "output_type": "display_data"
    }
   ],
   "source": [
    "for i in lst:\n",
    "    if i != fund:\n",
    "        render_scatter_plot(returns_data,fund,i,xlim=limits)"
   ]
  },
  {
   "cell_type": "markdown",
   "metadata": {},
   "source": [
    "# End"
   ]
  }
 ],
 "metadata": {
  "kernelspec": {
   "display_name": "Python 3",
   "language": "python",
   "name": "python3"
  },
  "language_info": {
   "codemirror_mode": {
    "name": "ipython",
    "version": 3
   },
   "file_extension": ".py",
   "mimetype": "text/x-python",
   "name": "python",
   "nbconvert_exporter": "python",
   "pygments_lexer": "ipython3",
   "version": "3.7.3"
  }
 },
 "nbformat": 4,
 "nbformat_minor": 2
}
